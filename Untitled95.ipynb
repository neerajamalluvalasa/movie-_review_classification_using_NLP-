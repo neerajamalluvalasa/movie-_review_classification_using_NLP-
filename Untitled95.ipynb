{
 "cells": [
  {
   "cell_type": "markdown",
   "id": "0e6acb49",
   "metadata": {},
   "source": [
    "## movie review _classification in Nlp "
   ]
  },
  {
   "cell_type": "markdown",
   "id": "90d355c0",
   "metadata": {},
   "source": [
    "### importing important libraries "
   ]
  },
  {
   "cell_type": "code",
   "execution_count": 1,
   "id": "01bd72eb",
   "metadata": {},
   "outputs": [],
   "source": [
    "import pandas as pd\n",
    "import numpy as np\n",
    "from sklearn.preprocessing import LabelEncoder\n",
    "import nltk\n",
    "import re\n",
    "from nltk.corpus import stopwords\n",
    "from nltk.stem import PorterStemmer\n",
    "from sklearn.feature_extraction.text import CountVectorizer\n",
    "from sklearn.model_selection import train_test_split\n",
    "\n",
    "from sklearn.metrics import accuracy_score , classification_report , confusion_matrix\n",
    "import pickle\n",
    "import seaborn as sns"
   ]
  },
  {
   "cell_type": "markdown",
   "id": "55d617bd",
   "metadata": {},
   "source": [
    "#### load movies review data and show top 5 rows"
   ]
  },
  {
   "cell_type": "code",
   "execution_count": 2,
   "id": "e4a025ec",
   "metadata": {},
   "outputs": [],
   "source": [
    "df=pd.read_csv(\"IMDB Dataset.csv\")"
   ]
  },
  {
   "cell_type": "code",
   "execution_count": 3,
   "id": "59bbdfef",
   "metadata": {},
   "outputs": [
    {
     "data": {
      "text/html": [
       "<div>\n",
       "<style scoped>\n",
       "    .dataframe tbody tr th:only-of-type {\n",
       "        vertical-align: middle;\n",
       "    }\n",
       "\n",
       "    .dataframe tbody tr th {\n",
       "        vertical-align: top;\n",
       "    }\n",
       "\n",
       "    .dataframe thead th {\n",
       "        text-align: right;\n",
       "    }\n",
       "</style>\n",
       "<table border=\"1\" class=\"dataframe\">\n",
       "  <thead>\n",
       "    <tr style=\"text-align: right;\">\n",
       "      <th></th>\n",
       "      <th>review</th>\n",
       "      <th>sentiment</th>\n",
       "    </tr>\n",
       "  </thead>\n",
       "  <tbody>\n",
       "    <tr>\n",
       "      <th>0</th>\n",
       "      <td>One of the other reviewers has mentioned that ...</td>\n",
       "      <td>positive</td>\n",
       "    </tr>\n",
       "    <tr>\n",
       "      <th>1</th>\n",
       "      <td>A wonderful little production. &lt;br /&gt;&lt;br /&gt;The...</td>\n",
       "      <td>positive</td>\n",
       "    </tr>\n",
       "    <tr>\n",
       "      <th>2</th>\n",
       "      <td>I thought this was a wonderful way to spend ti...</td>\n",
       "      <td>positive</td>\n",
       "    </tr>\n",
       "    <tr>\n",
       "      <th>3</th>\n",
       "      <td>Basically there's a family where a little boy ...</td>\n",
       "      <td>negative</td>\n",
       "    </tr>\n",
       "    <tr>\n",
       "      <th>4</th>\n",
       "      <td>Petter Mattei's \"Love in the Time of Money\" is...</td>\n",
       "      <td>positive</td>\n",
       "    </tr>\n",
       "  </tbody>\n",
       "</table>\n",
       "</div>"
      ],
      "text/plain": [
       "                                              review sentiment\n",
       "0  One of the other reviewers has mentioned that ...  positive\n",
       "1  A wonderful little production. <br /><br />The...  positive\n",
       "2  I thought this was a wonderful way to spend ti...  positive\n",
       "3  Basically there's a family where a little boy ...  negative\n",
       "4  Petter Mattei's \"Love in the Time of Money\" is...  positive"
      ]
     },
     "execution_count": 3,
     "metadata": {},
     "output_type": "execute_result"
    }
   ],
   "source": [
    "df.head()"
   ]
  },
  {
   "cell_type": "markdown",
   "id": "a2329da4",
   "metadata": {},
   "source": [
    "#### perform  EDA"
   ]
  },
  {
   "cell_type": "code",
   "execution_count": 4,
   "id": "ab415be0",
   "metadata": {},
   "outputs": [
    {
     "data": {
      "text/plain": [
       "(50000, 2)"
      ]
     },
     "execution_count": 4,
     "metadata": {},
     "output_type": "execute_result"
    }
   ],
   "source": [
    "df.shape"
   ]
  },
  {
   "cell_type": "code",
   "execution_count": 5,
   "id": "5b11a95a",
   "metadata": {},
   "outputs": [
    {
     "data": {
      "text/plain": [
       "review       0\n",
       "sentiment    0\n",
       "dtype: int64"
      ]
     },
     "execution_count": 5,
     "metadata": {},
     "output_type": "execute_result"
    }
   ],
   "source": [
    "df.isnull().sum()"
   ]
  },
  {
   "cell_type": "code",
   "execution_count": 6,
   "id": "34f4d026",
   "metadata": {},
   "outputs": [
    {
     "data": {
      "text/html": [
       "<div>\n",
       "<style scoped>\n",
       "    .dataframe tbody tr th:only-of-type {\n",
       "        vertical-align: middle;\n",
       "    }\n",
       "\n",
       "    .dataframe tbody tr th {\n",
       "        vertical-align: top;\n",
       "    }\n",
       "\n",
       "    .dataframe thead th {\n",
       "        text-align: right;\n",
       "    }\n",
       "</style>\n",
       "<table border=\"1\" class=\"dataframe\">\n",
       "  <thead>\n",
       "    <tr style=\"text-align: right;\">\n",
       "      <th></th>\n",
       "      <th>review</th>\n",
       "      <th>sentiment</th>\n",
       "    </tr>\n",
       "  </thead>\n",
       "  <tbody>\n",
       "    <tr>\n",
       "      <th>count</th>\n",
       "      <td>50000</td>\n",
       "      <td>50000</td>\n",
       "    </tr>\n",
       "    <tr>\n",
       "      <th>unique</th>\n",
       "      <td>49582</td>\n",
       "      <td>2</td>\n",
       "    </tr>\n",
       "    <tr>\n",
       "      <th>top</th>\n",
       "      <td>Loved today's show!!! It was a variety and not...</td>\n",
       "      <td>positive</td>\n",
       "    </tr>\n",
       "    <tr>\n",
       "      <th>freq</th>\n",
       "      <td>5</td>\n",
       "      <td>25000</td>\n",
       "    </tr>\n",
       "  </tbody>\n",
       "</table>\n",
       "</div>"
      ],
      "text/plain": [
       "                                                   review sentiment\n",
       "count                                               50000     50000\n",
       "unique                                              49582         2\n",
       "top     Loved today's show!!! It was a variety and not...  positive\n",
       "freq                                                    5     25000"
      ]
     },
     "execution_count": 6,
     "metadata": {},
     "output_type": "execute_result"
    }
   ],
   "source": [
    "df.describe()"
   ]
  },
  {
   "cell_type": "code",
   "execution_count": 7,
   "id": "5c98b9d3",
   "metadata": {},
   "outputs": [
    {
     "name": "stdout",
     "output_type": "stream",
     "text": [
      "<class 'pandas.core.frame.DataFrame'>\n",
      "RangeIndex: 50000 entries, 0 to 49999\n",
      "Data columns (total 2 columns):\n",
      " #   Column     Non-Null Count  Dtype \n",
      "---  ------     --------------  ----- \n",
      " 0   review     50000 non-null  object\n",
      " 1   sentiment  50000 non-null  object\n",
      "dtypes: object(2)\n",
      "memory usage: 781.4+ KB\n"
     ]
    }
   ],
   "source": [
    "df.info()"
   ]
  },
  {
   "cell_type": "code",
   "execution_count": 8,
   "id": "8e19a19e",
   "metadata": {},
   "outputs": [
    {
     "data": {
      "text/plain": [
       "array(['positive', 'negative'], dtype=object)"
      ]
     },
     "execution_count": 8,
     "metadata": {},
     "output_type": "execute_result"
    }
   ],
   "source": [
    "df['sentiment'].unique()"
   ]
  },
  {
   "cell_type": "code",
   "execution_count": 9,
   "id": "2d9fbc75",
   "metadata": {},
   "outputs": [
    {
     "data": {
      "text/plain": [
       "positive    25000\n",
       "negative    25000\n",
       "Name: sentiment, dtype: int64"
      ]
     },
     "execution_count": 9,
     "metadata": {},
     "output_type": "execute_result"
    }
   ],
   "source": [
    "df['sentiment'].value_counts()"
   ]
  },
  {
   "cell_type": "markdown",
   "id": "d09d87ac",
   "metadata": {},
   "source": [
    "#### Apply labelencoding to make target feature into numerical(positive :1,negative : 0"
   ]
  },
  {
   "cell_type": "code",
   "execution_count": 10,
   "id": "87809c53",
   "metadata": {},
   "outputs": [],
   "source": [
    "label=LabelEncoder()"
   ]
  },
  {
   "cell_type": "code",
   "execution_count": 11,
   "id": "a51b1b9b",
   "metadata": {},
   "outputs": [],
   "source": [
    "df['sentiment']=label.fit_transform(df['sentiment'])"
   ]
  },
  {
   "cell_type": "code",
   "execution_count": 12,
   "id": "2d301259",
   "metadata": {},
   "outputs": [
    {
     "data": {
      "text/html": [
       "<div>\n",
       "<style scoped>\n",
       "    .dataframe tbody tr th:only-of-type {\n",
       "        vertical-align: middle;\n",
       "    }\n",
       "\n",
       "    .dataframe tbody tr th {\n",
       "        vertical-align: top;\n",
       "    }\n",
       "\n",
       "    .dataframe thead th {\n",
       "        text-align: right;\n",
       "    }\n",
       "</style>\n",
       "<table border=\"1\" class=\"dataframe\">\n",
       "  <thead>\n",
       "    <tr style=\"text-align: right;\">\n",
       "      <th></th>\n",
       "      <th>review</th>\n",
       "      <th>sentiment</th>\n",
       "    </tr>\n",
       "  </thead>\n",
       "  <tbody>\n",
       "    <tr>\n",
       "      <th>0</th>\n",
       "      <td>One of the other reviewers has mentioned that ...</td>\n",
       "      <td>1</td>\n",
       "    </tr>\n",
       "    <tr>\n",
       "      <th>1</th>\n",
       "      <td>A wonderful little production. &lt;br /&gt;&lt;br /&gt;The...</td>\n",
       "      <td>1</td>\n",
       "    </tr>\n",
       "    <tr>\n",
       "      <th>2</th>\n",
       "      <td>I thought this was a wonderful way to spend ti...</td>\n",
       "      <td>1</td>\n",
       "    </tr>\n",
       "    <tr>\n",
       "      <th>3</th>\n",
       "      <td>Basically there's a family where a little boy ...</td>\n",
       "      <td>0</td>\n",
       "    </tr>\n",
       "    <tr>\n",
       "      <th>4</th>\n",
       "      <td>Petter Mattei's \"Love in the Time of Money\" is...</td>\n",
       "      <td>1</td>\n",
       "    </tr>\n",
       "  </tbody>\n",
       "</table>\n",
       "</div>"
      ],
      "text/plain": [
       "                                              review  sentiment\n",
       "0  One of the other reviewers has mentioned that ...          1\n",
       "1  A wonderful little production. <br /><br />The...          1\n",
       "2  I thought this was a wonderful way to spend ti...          1\n",
       "3  Basically there's a family where a little boy ...          0\n",
       "4  Petter Mattei's \"Love in the Time of Money\" is...          1"
      ]
     },
     "execution_count": 12,
     "metadata": {},
     "output_type": "execute_result"
    }
   ],
   "source": [
    "df.head()"
   ]
  },
  {
   "cell_type": "markdown",
   "id": "00cb1dec",
   "metadata": {},
   "source": [
    "#### Divide data into independent and dependent"
   ]
  },
  {
   "cell_type": "code",
   "execution_count": 13,
   "id": "552269e0",
   "metadata": {},
   "outputs": [],
   "source": [
    "x=df['review'][0:200]\n",
    "y=df['sentiment'][0:200]"
   ]
  },
  {
   "cell_type": "markdown",
   "id": "a9e5ae14",
   "metadata": {},
   "source": [
    "#### Remove all special and numeric character from data and also remove stopwords and apply stemming"
   ]
  },
  {
   "cell_type": "code",
   "execution_count": 14,
   "id": "28e76816",
   "metadata": {},
   "outputs": [
    {
     "name": "stderr",
     "output_type": "stream",
     "text": [
      "[nltk_data] Error loading stopwords: <urlopen error [Errno 11001]\n",
      "[nltk_data]     getaddrinfo failed>\n"
     ]
    },
    {
     "data": {
      "text/plain": [
       "False"
      ]
     },
     "execution_count": 14,
     "metadata": {},
     "output_type": "execute_result"
    }
   ],
   "source": [
    "nltk.download('stopwords')"
   ]
  },
  {
   "cell_type": "code",
   "execution_count": 15,
   "id": "5606a9f8",
   "metadata": {},
   "outputs": [],
   "source": [
    "ps=PorterStemmer()\n",
    "corpus=[]\n",
    "\n",
    "for i in range(len(x)):\n",
    "    review=re.sub(\"[^a-zA-Z]\",\" \",x[i])\n",
    "    review=review.lower()\n",
    "    review.split()\n",
    "    review=[ps.stem(word) for word in review if word not in   set(stopwords.words(\"english\"))]\n",
    "    review= \"\".join(review)\n",
    "    corpus.append(review)"
   ]
  },
  {
   "cell_type": "code",
   "execution_count": 16,
   "id": "cf70e0ac",
   "metadata": {},
   "outputs": [
    {
     "data": {
      "text/plain": [
       "['ne f he her revewer h enne h fer wchng ju   z epe u ll be hke  he re rgh   h  excl wh hppene wh e  br    br   he fr hng h ruck e bu z w  brul n unflnchng cene f vlence  whch e n rgh fr he wr g  ru e  h  n  hw fr he fn here r   h hw pull n punche wh regr  rug  ex r vlence    hrcre  n he clc ue f he wr  br    br     clle z  h  he nckne gven  he wl xu ecur e penenr   fcue nl n eerl c  n experenl ecn f he prn where ll he cell hve gl frn n fce nwr   prvc  n hgh n he gen  e c  he  n  rn  ul  gng  ln  chrn  ln  rh n re     cuffle  eh re  g elng n h greeen re never fr w  br    br    wul  he n ppel f he hw  ue  he fc h  ge where her hw wuln  re  frge pre pcure pne fr nre uence  frge chr  frge rnce   z en  e run  he fr epe  ever w ruck e   n  w urrel   culn    w re fr   bu   wche re   evelpe  e fr z  n g ccue  he hgh level f grphc vlence  n ju vlence  bu njuce  crke gur wh ll be l u fr  nckel  ne wh ll kll n rer n ge w wh   well nnere  le cl ne beng urne n prn bche ue  her lck f ree kll r prn experence  wchng z  u  bece cfrble wh wh  uncfrble vewng    h f u cn ge n uch wh ur rker e ',\n",
       " ' wnerful lle prucn   br    br   he flng echnque  ver unung  ver l e bbc fhn n gve  cfrng  n ee cfrng  ene f rel  he enre pece   br    br   he cr re exreel well chen  chel heen n nl  h g ll he plr  bu he h ll he vce wn p   u cn rul ee he ele eng gue b he reference  wll  r enre  n nl   well wrh he wchng bu    errfcl wren n perfre pece   erful prucn bu ne f he gre er  f ce n h lfe   br    br   he rel rell ce he wh he lle hng  he fn f he gur whch  rher hn ue he rnl  re  echnque ren l hen pper   pl n ur knwlege n ur ene  prculrl wh he cene cncernng rn n hllwell n he e  prculrl f her fl wh hllwell  url ecrng ever urfce  re errbl well ne ',\n",
       " ' hugh h w  wnerful w  pen e n   h uer weeken  ng n he r cnne heer n wchng  lgh here ce  he pl  plc  bu he lgue  w n he chrcer re lkble  even he well bre upece erl kller   whle e  be ppne when he relze h  n ch pn    rk cn   hugh  w prf h w llen  ll full n cnrl f he le n f u hve grwn  lve  br    br   h w he    lughe  ne f w  cee n er  re    ece    whle  ve never been pree wh crle jhnn  n h he nge  ne wn her  ex  ge n jupe rgh n  verge  bu pre ung wn  br    br   h  n be he crwn jewel f h creer  bu  w wer hn  evl wer pr  n re nereng hn  upern   gre ce  g ee wh fren ',\n",
       " 'bcll here   fl where  lle b  jke  hnk here   zbe n h cle   h pren re fghng ll he e  br    br   h ve  lwer hn  p per    n uenl  jke ece  bece rb n kll he zbe  br    br   k  fr f ll when u re gng  ke  fl u u ece f   hrller r  r    r he ve  wchble  pren re vrcng   rgung lke n rel lfe  n hen we hve jke wh h cle whch ll run ll he fl   expece  ee  bgen lr ve  n ne  wche  r wh e enngle hrller p  br    br     u f    ju fr he well plng pren   ecen lg   fr he h wh jke  ju gnre he ',\n",
       " 'peer e   lve n he e f ne    vull unnng fl  wch  r  e ffer u  vv prr bu hun reln  h   ve h ee  be ellng u wh ne  pwer n ucce   peple n he fferen un we encuner   br    br   h beng  vrn n he rhur chnzler  pl bu he e hee  he recr rnfer he cn  he preen e new rk where ll hee fferen chrcer ee n cnnec  ech ne  cnnece n ne w  r nher  he nex pern  bu n ne ee  knw he prevu pn f cnc  lhl  he fl h  phce luxuru lk  we re ken  ee hw hee peple lve n he wrl he lve n her wn hb  br    br   he nl hng ne ge u f ll hee ul n he pcure  he fferen ge f lnelne ech ne nhb   bg c  n excl he be plce n whch hun reln fn ncere fulfllen   ne cern  he ce wh  f he peple we encuner  br    br   he cng  g uner r  e  recn  eve buce  rr wn  crl kne  chel perl  rn grener  n he re f he lene c  ke hee chrcer ce lve  br    br   we wh r  e g luck n w nxul fr h nex wrk ',\n",
       " 'prbbl  ll e fvre ve   r f elflene  crfce n ecn   nble cue  bu   n prech r brng   ju never ge l  epe  hvng een  e    r re e n he l    er  pul luk  perfrnce brng er   ee  n bee v  n ne f her ver few rul phec rle    elgh  he k re   grn   re lke  ree up ge  hn chlren  bu h nl ke he re fun  wch  n he her  lw wkenng  wh  hppenng n he wrl n uner her wn rf  belevble n rlng  f  h  zen hub  he  ll be  up  fr h ve ',\n",
       " ' ure wul lke  ee  reurrecn f  up e ehun ere wh he ech he hve   wul brng bck he k exceen n e  grew up n blck n whe v n ehun wh gunke were  her  ever week u hve  ve fr  cebck f  new e hun we nee  chnge f pce n v n h wul wrk fr  wrl f uner wer venure h b he w hnk u fr n ule lke h  vew n vewpn bu v n he n ve  n le w  beleve  ve g wh  wnn  wul be nce  re e re plu pn bu e hun f  rhe wul be    lne wul u le e ub r leve e u  be n ub n hve e  qu f h   hen  u g  le   ',\n",
       " 'h hw w n zng  freh   nnvve e n he     when  fr re  he fr   r   er were brlln  bu hng rppe ff fer h  b       he hw w n rell funn nre  n   cnnue  eclne furher  he cplee we f e     br    br     rul grceful hw fr h hw h fllen  he wrng  pnfull b  he perfrnce re l  b   f n fr he ll enernng repe f he gue h  h hw prbbl wuln  ll be n he r   fn   hr  beleve h he e crer h hn elece he rgnl c l che he bn f hck h fllwe  hw cn ne recgnze uch brllnce n hen ee f  replce  wh uch ecr   fel  u gve   r u f repec fr he rgnl c h e h hw uch  huge ucce     nw  he hw  ju wful   cn  beleve   ll n he r ',\n",
       " 'encurge b he pve cen bu h fl n here  w lkng frwr  wchng h fl  b ke   ve een      fl n h  rul ne f he wr f he     wful n l ever w  eng  pcng  rlne   cng   unrck  he fl  nl ng    le cunr une    ple n le hn fur e   he fl lk chep n n n  brng n he exree  rrel hve  been  hpp  ee he en cre f  fl   br    br   he nl hng h preven e gvng h    cre  hrve keel   whle h  fr fr h be perfrnce he  le ee  be kng  b f n effr  ne fr keel beve nl ',\n",
       " 'f u lke rgnl gu wrenchng lugher u wll lke h ve  f u re ung r l hen u wll lve h ve  hell even   lke   br    br   gre cp   ',\n",
       " 'phl he len  ne f he qurk fl where he huur  be run he ne f everhng rher hn cul punchlne  br    br    fr  w ver  n pre funn bu  he ve prgree  n  fn he jke r ne funn nre  br    br     lw buge fl  h never  prble n elf   here were e pre nereng chrcer  bu evenull  ju l nere  br    br    gne h fl wul ppel   ner wh  currenl prkng  br    br   fr ehng lr bu beer r  brher fr nher plne ',\n",
       " ' w h ve when  w bu    when  ce u   recll he cre cene w he bg br eng en nglng helplel fr prchue rgh u f he r  he hrrr  he hrrr  br    br     ung k gng  hee chee b fl n ur fernn   ll w re f he frul fr hee ner pe ve h uull nclue he her   beuful wn wh gh be he ugher f  prfer n  hpp relun when he ner e n he en   n  cre uch fr he rnc ngle      er l n he precble pl   lve he nw fr he unnennl hur  br    br   bu  bu  er r  ler   w pch when  ce u n  lve h he r  jne legh  w bupe ff erl n he fl    up n k nce  h pn  nce creenwrer re kng up he r  ke  up  be  cr  pble n n fr  well wrn frul  here re n rule ',\n",
       " '  n  bg fn f bll  wrk bu hen gn n n re   enje h ve pl  be  he nl ne   bll pprenl bugh he rgh  ue fr cr lng g even befre he ge elf w even fnhe   br    br   peple wh hve enje kllng erc n nflrng ecre reerch lb lce n  rpcl ln hul be wrne  h h  n fr cr    h  ehng r bll hve chee geher lng wh h legn f chuck   feelng lnele n he e r bll nve hree f h cunren  pl wh  hee pler g b he ne f l chweger  u ker n rlf eller  br    br   hree ne h cull hve e he elf pre bg n he ve bz   he le ge lke h  jck crver ple b l chweger  e crver  gern ll hl he brwur eng ue    hwever  fn h l cng n h ve  pre b   peple hve cplne bu hw he  n rell ng rue  he whle crver gen bu we nl w crver n  fr pern perpecve  we n  rell knw wh he lke lke when he w kckng       br    br   hwever  he rlne n h fl  ben eene  we ee he evl  cen r  kreger ple b u ker  kng genecll ue ler r g  he re clle  perfrng h p ecre reerch n n ln h ren e f  pler  vncuver fr e ren  h rgh n pl ree here  ne we g e nce rch luberjck w  we hven  even gne fr befre  re  cr  ehehe   cnn g n n re   f u wnn  rue  bll henngn hen g n ee h ve u wll n be ppne  elver he rue bll experence  enng  f  wll uck  br    br   here re e hng wrh ennng h wul pl h bll   g wrk n e re f he fl uch  e nce b n fghng cene  unl he whle cre lbn g qu ener he cene n everhng ju ke e lugh   he ve fr cr reek f chee  h  pp fr u plen  fr  f r f u wnn ke  wff g he   bw crver ge  ver nnng ekck wh ke u wnn h h he fr hree nue he  n creen ',\n",
       " 'he c ple hkepere  br    br   hkepere l  br    br    pprece h h  rng  brng hkepere  he e  bu wh run ehng  g  br    br     becue  he ch pl    fvre hkepere    n knw  wh   knw  h  cern rev bwler  hence bwlerzn  re   ehng lr n he vcrn er  br    br   n her wr  u cnn prve perfecn  br    br    hve n re  wre bu   hve  wre  le en lne f ex  n englh cpn w never  fre  wll ju hve  keep gng n  h h ve   he ng ge  ju e n cu  ',\n",
       " 'h  fnc ve f hree prner wh bece fu  ne f he cr  gerge clne n   n  fn bu h rll  n b  nher g hng bu he ve  he unrck  he n f cnn rrw    recn h ve  everb  greeng br',\n",
       " 'kn f rwn n b he erc cene  nl  relze h w ne f he  eurh n unbelevble b f fl  ve ever een  r f lke  hgh chl fl prjec  wh w rnn rquee hnkng   n wh w wh ll he ck chrcer n h bzrre uppe we wn  pre hr  ge nvlve wh h ne  n len  be lerne fr   n brlln ngh  ju le n que rculu  bu l f kn  f h nrgue u  vepe nnene    wh w wh he bexul relnhp  u f nwhere  fer ll he heerexul encuner  n wh w wh h bur nce  wh everb plng her erepe rle  gve h ne  p    lke  lln her le f b  we fl  ne h cul hve been pen n rvng chlren r  n frc     ',\n",
       " 'e fl ju pl hul n be ree  h  ne f he  n n f elf   n  b fl  bu  fl  cpure he flvr n he errr f he      fl f he e le  l neen w excellen  he lw   n  f he c hl up  wh he excepn f wen wln  wh ju  n brng he rgh feel  he chrcer f luke  bu he jr ful wh h vern  h  re  fr fr he hrle jckn r n   ep  be grne n l e f he hrll f he erler fl n  re ff fr nzzer pecl effec  gn  wll  h n n f elf   n  b fl  bu u wll enj he frcn f errr n he ler vern uch re ',\n",
       " 'h ve e  n ne f  p     wful ve  hrrble   br    br   here wn   cnnuu nue where here wn   fgh wh ne ner r nher  here w n chnce fr n chrcer evelpen  he were  bu runnng fr ne wr fgh  nher   h n enl chen  excep  he bg b chne h wne  er he   br    br   cene were blnl len fr her ve  lr  r wr n rx   br    br   exple br    br    he gh cene  he en w len fr he fnl cene f he l r wr wh   bee ne n ver   br    br    he per chne n he begnnng w excl lke fr beng cke b he per n reurn f he kng   eljh w  he vc n bh fl  n w       hpnze  ng   vc n wrp he up     uh hell     br    br    n he whle chne v  hun hee w he rx  r ernr      br    br   here re re exple bu wh we he e  n wll ene ell e wh w wh he nz      nz       br    br   here w  juvenle r lne ruhe   juvenle cnclun  he ve cul n ece f  w  chlren  ve r n ul ve n wn  uch f eher   br    br   ju wful   rel ppnen   he le  ve ur ne ',\n",
       " ' reeber h fl  w he fr fl  h wche  he cne he pcure w rk n plce  w ver nervu  w bck n         k e  brher   er  newbur cne n newbur berkhre engln   recll he ger n he l f nw n he fl l he ppernce f grzzl  cr n hgger  hnk ne f he ger ge h n e  f nne knw where  fn h n v ec plee le e knw he cne nw h been urne n  fne club whch   ver bg he  he nere cne nw     le w  wul lve  her fr her wh hve een h fl r n her lke  ',\n",
       " 'n wful fl   u hve been up gn e rel nker  be nne fr he glen glbe  he ve ken he r f he fr fu fele rennce pner n ngle  ben recgnn   cpln  n h he ve ken lbere wh he fc  f he r were g  h wul perfecl fne  bu   pl bzrre    b ll ccun he rue r f h r wul hve e fr  fr beer fl   wh  he ce up wh h hwer ull crp   uppe here weren  enugh nke peple n he fcul vern    hurrel cppe ff n he en wh  ur f he r  lfe    we cul hve ve urelve  cuple f hur f he  fvre he re f he fl wh e brev ',\n",
       " 'fer he ucce f e hr n   equel   n urpre rell h n he        glu f  e hr n         ve che n n he wrng gu  wrng plce  wrng e cncep  h  wh he  wh clffhnger  e hr n  unn ju n e  recue l  p r   wll h  llne  creer  br    br   clffhnger  ne bg n pcker re  epecll  he wh re exper  unn clbng  be jupng  vn  fcl expren  cng kll  ll n ll   full f excue   he fl  ne verblwn ple f junk  llne even nge  ge u ce b  hre  hwever  f u n frge ll he nnene    cull  ver lvble n unenbl enernng rp h elver  plen f hrll  n unnennll  plen f lugh  br    br   u ve g  lve jhn lhgw neer evlne  h ck ever bx bn f be  n be f ll  he pernenl hre n hple  urnc  gen  rex lnn  rver  br    br   he  f been henr n  prr f  erl kller  bu chel rker  newrh fr  crnge wrh perfrnce  hl  he n n cnnl hrekng n pnful belef  h cpr  h n never hur nb  n whl he urel cn  be   rell e lk lke rlph we  frnk chrcer  grnnng  he grl plue  her eh  br    br   enn  u g  frer  lnn  burnng  cr crg frbr  he br b gu  wh ce  crpper whl ung hl   hun fbll  e  u cn  help enj h b  hl neee  g kckng  br    br    frge ur beer jugeen  wh cre f  h cul never hppen   lwer ur cng expecn  urn up he vlue n enj  n f u re lkng fr qulen  he  he ne werng he helcper ',\n",
       " ' h he errble frune f hvng  vew h  b ve  n   enre  br    br   ll  hve       ve ur e n ne    h h g  be he wr b ve f ll e   huln  even be clle  b ve  re lke n f ve  becue  fl n ll pec h ke  g ve  he r  n nereng  ll  ll f he cr re pper hn n n  ll belevble   h b recn n he cn equence re  fke   l funn       l  br    br   he ve  ju pcke full f crpp ne lner h n repecble pern cul fn ung n he le lle b  br    br   h ve  uppe  be gere wr en  bu ll he wen n  re  uerl unrcve  epecll h l wrnkle hng h ce n wr he en  he r  pper ex n he wer  hrrble cue n he fl erbl    br    br   even e f he  rculu b ve wll ll gve u e lugh  bu h  ju  pnful  wch  ',\n",
       " 'wh n bluel unnng ve  f u hve     hr  kll  wch   u wn  regre      uch fun  rjnknh crre he ve n h huler n lhugh here n  nhng re her hn h   ll lke   he uc b  r rehn ke e  grw n u bu fer u her   few e  u rell r lkng  ',\n",
       " 'fr f ll  le  ge  few hng rgh here      n ne fn  lw h been   er f fc   ue  wch pee rcer ll he e n prechl   b    lke everl b ve becue he re hlru  c   lke he gzll ve   l  br    br   vng n  when he ve fr ce n   ee lke   gng  be ur uul b ve  wn  he crpp fx  bu ll  uen  b  he ne ce n  h  when he ve ge www wnhll  br    br   he nn  ver b   chep  even wre hn wh  reeber fr pee rcer  fr crke  n fc     chep  ne f he few cene fr he ve   vvl  reeber  when  bunch f k run u f  chl        he e k ver   ver gn  he fx re errble    he nur lk wre hn gzll  n n  he rnn  lve cn  nn  unrgnze  he lgue   vce epecll he englh ub h  vewe  w hrr    w beggng    ke he pe u f he v  vh pler  he nl hng h kep e urvvng w crckng u jke   cen lke he rb   jel ke n  k  u pck he en   hnel  h  he nl w  brel enj h ve   urvve   he e e  br    br   heck    plnnng  hw h  nher fellw ku pl f ne n hllween fr  b ve ngh  becue   up  pre pnful  wch   unnennll hlru  he e e    gvng h ve        n prveen fr he         w rgnll gng  gve   br    br    ccrng   grng cle       en pre uch bh brng   b   fun  cunng  hree unle u fn  w  ke fun f   hen  wll bece  fun  cunng      ',\n",
       " 'h w he wr ve  w  wrlfe n  l receve he le un f pplue ferwr   cn nl hnk   recevng uch recgnn be n he un f knwn cr n he fl    gre  ee j bel bu he  nl n he ve fr  few nue   prker   uch beer cre hn he pr llwe fr  he re f he cng  hr  juge becue he ve   rculu n precble  he n chrcer  ll unphec n herefre  bre  wch  here  n rel enl eph  he r   ve revlvng bu n cr wh cn  ge wrk en  feel ver rgnl  e  nr e he evelpen f he cp   feel lke ne f n rgh  ve ve  w bck n he        n n even  g ne n he nr  br    br   ',\n",
       " 'he kren crpener r hw  lle re bu nger kren crpener  cplex lfe  hugh  fl n gvng ccure fc  n el  br    br   cnh gbb  prr kren  w n  fne elecn  he   g cre   bu pl  ver nve n r f ub kren crpener   hnk h he rle neee  rnger chrcer  ene wh  rnger pernl  br    br   lue flecher rle  gne crpener  errfc  he e  gre jb  kren  her  br    br    h gre ng  whch cul hve been nclue n  unrck lbu  unfrunel he weren   hugh h ve w n he p f he rng n u n her everl cunre',\n",
       " ' he cell   n exc erpece   zzng rp n n nl he v n f  erl kller  bu l n ne f  ver lene recr  h  cncluve evence f wh cn be cheve f hun beng unleh her unnhbe gnn  h  blne  wrk  puhng e hugh  fll n frul n clche n creng ehng rul gnfcen  h  he be ve f he er  e  br    br    ve re nueru cpln bu h fl  nwhere fr ll le n n ubnce  prl c chrcer n b cng   negvel crcze h fl    he pn  h ve  be  lnrk   rn where fuure ve wll hpefull fllw   he cell  h ju pene he r  nher wrl f gnn   cn we l he r n  fce n ell  n  recr re ngh h we n  wn n re  pernll   wul re hn welce nher ve b re  n wul lve  ee ene r  chllenge h  br    br   we ve ll her lk bu gng ne he n f  erl kller  n e    gree h he  genre    b verwrke  he    were full f ve rng  epc wh ke erl kller ck  e f he wrke  bu  fle  bu  he cell  e n blze wn he e rl  we re gven  new w  we re phcll rnpre n he n n preene wh nhng le hn  fcnng jurne f he  eru ubjec er ever ue  br    br    lke hw he ve e n bg u wn wh  uch cenfc jrgn rng  expln hw jennfer lpez cull ge  ener he brn f nher  ne  he ju le wn n  lbrr ble n  wrppe wh wh lk lke rell lng wzzler n june n nher en   he cell  wn  le u  ee  wh   ll bu n n  hw    ll bu  n  gue h  wh e peple n  lke  rue    lke explnn wh  ve  bu when  ve venure n new grun u u le   wh  ere n pl ke  n  br    br    nce hw he fl w ver rk when  hwe rel  be  cnr he brgh vul when ne he brn f nher  nnehele  he e egn w pl nhng   wuln  be urpre f h fl k he  few cr n cnegrph  be cue  be recr n he lke  f  were up  e    le ge nne fr be pcure  br    br    ve nce h  ve kn f been repeng elf  n becue here  nhng ele    bu becue  cn  re enugh hw fnc  hugh  he cell  w  f u wlk n he ve wh  ver pen n n  hve  ken ver wh wner n n ee pppng fe hen u re ure  g e   gue h fl w ju  lle  uch fr e peple  wrng  ff   wer  r  crz     ver uch n pchlg n he gnn f he hun n    w rgh wn  lle  levng he heer   her ne uence eber   whever e h ve ure   l f g rug   f    wn wh he w kng  br    br         u f   ',\n",
       " 'h fl re  be  n hng ll  nce  ngng plcl re  hllw blckbuer  pp rnc ce  fl vlue pr    he l ge n n n   fle erbl  ll f he  bu here w enugh nere  keep e fr urnng  ff unl he en  br    br   lhugh  pprece he pr behn wr  nc    epree e  ee uch  clu effr  epecll when  wll be ken b  rge  reflec he lck f he exence f  eru crque  rher hn pl he pr wrng  recn  n prucn f h prculr fl  br    br   here   crque  be e bu he crprzn f wr  bu pkng fun   n h w nhe he rue rc f wh  hppenng  ren e  b f hree kng  whch lrl rvlze  genune cue fr cncern ',\n",
       " 'h ve w  frurng  everhng eee energec n  w ll prepre  hve  g e    le hugh   be ble  n   bu   w wrng  fr  he wer lpng   w lke wchng  erc  funne he ve   he n pren   he he  uch  he ere pcl ln fl   nee  pek wh he pern repnble fr h  we nee  hve  lk  h lle grl wh w lw hngng n ene   ju he her n h  enn   nw  he fnl cene rncen   u      glrul b n full f bne h    ve f  wn  wh crpp ncng  hrrble n beuful  nce ',\n",
       " ' wr ve    hllw genre h h been ne n rene  n e h clch  lgue  rehhe pl n ver he p cn equence ee unvble fr n cnflc elng wh lrge cle cb  nce n  whle  hwever   wr ve ce lng h ge gn he grn n brng  rul rgnl n cpellng r  lfe n he lver creen  he cvl wr er  cl unn   rrng jue lw  ncle kn n ren e zellweger  uch  fl  br    br   hen gn  cllng cl unn   wr ve  n enrel ccure  rue enugh  he fl pen wh   que lerll  quck n r ble equence h pu  glr  recr ewr zwck he  hwever   cl unn   n  uch bu he cvl wr elf    bu he per n he peple f he e  he r cener run grunle cnfeere ler nn  ple b jue lw  wh bece gue wh he gruee wr n heck fr he beuful hle f cl unn  nrh crln n he equll beuful uhern belle he lef behn   nre  ple b ncle kn   fr glnce  h eup pper frulc  he rnc nere bck he gve he uence enugh ph  r fr he relucn ler  rbuln n he blefel  nee  he erler egen f he fl re relvel unpreve n even ewh cnrve  br    br    cl unn  n ke  rc urn  hugh   he nrep her nn urn u  be  eerer  ncenll vng he uence fr he penll cnfung cenr f wnng  r fr he cnfeere  n begn  lng e hewr  enwhle  bck  he fr    culure w prve f lle ue n he fel  n he  rnfre n ehng f  wlerbe  cng    recue  he cure  ugh  nl rub hewe  ple b ren e zellweger  wh help  pu he fr bck geher n  perhp re prnl  cpe wh he lnelne n ln he wr ee  hve brugh upn   br    br   whn hee w eng   vv  cpellng n   e  ver urbng prr f he wr rn uh unfl  he chrcer wh wh nn n  nerc re urprngl cplex  enhnce b wnerful perfrnce f brenn gleen  rub  ebe fher  r wnne  n unrepenn uhern  lwn   n nle prn   eepl ruble n le ung her  ll hve been grel ffece n chnge b  he wr f nrhern ggren   l fr he wre  he rk  pervng n wr ege  ccene b n effecve  hunng cre n chllngl beuful h f vrgn n nrh crln   cunce  he uence n  uch b gruee ble cene  b he crre ln n ruze peple fr whch he wr w fugh  hugh he wepn n cc f wr elf hve chnge uch n he p cenur    hellh effec n he ln  elel relevn  br    br   recr nhn nghell nge  nn h gl  fr  f he fl  bu he phere  unfrunel engre b  rher ep clx h e lle juce  he wnerfull fre chrcer  he lve r beween nn n   wkwrl cke n he begnnng n en f he fl  hugh he nherenl n  brce n even bur nure f her relnhp n  w f he l nure f he re f he pl  br    br   ke n ke   cl unn  h neher he r f  feel g rnce nr n nprng wr r     unque vn f n er h  ure n nl  enern bu l  rul brb he uence n he lve f  peple rn pr b  wr n enrel epere  be r f  errble repercun lgeher ',\n",
       " 'u n rgncll grppng  ewr rk  crfre   ncve upene hrller  n unlkel  ege  ve ung he lk n evce f he nr ccle  br    br   bvucke n whngn  c   cpn f ler cpe wh her relene b hngng u n br  hree f he en up   rnger  pren where rber rn  runk n bellgeren  be her h   levene   eh becue he hppen  be jewh  plce eecve rber ung nvege wh he help f rber chu  wh  gne  rn  uf  upcn fll n he ecn f he hree  gerge cper   wh h vnhe  rn l he hr bu  eve bre   nure h lence befre ung cle n  br    br   bee b  uperr crp b jhn pxn  rk rw prece perfrnce fr h hree rrng bb  rn  nurll  e h prpcl ngr whe le  n  he hl   whle chu unerpl wh h chrcerc ler nnchlnce  h rle  hwever   n cenrl   ung  never hve been beer  glr grhe gve her fr full flege renn f he r uhe  vulnerble rp  n     ck wh  leeche n her lfe  pul kell hun u n  ll  perpherl rle h he ke erble  br    br   he plcll engge rk perhp nevbl uccub  ernzng  bu   pre uch cnfne  ung  rencence f hw h rh grnfher e  he hn f bg  cenur erler  hu  ncenll  rechng chrnlg  he l    le here  n ep  rener n explnn  hwever glb  f wh rn he jew  n hllblle n      br    br   curul  crfre urvve even he jr chnge wrugh upn     he nvel   be n  rchr brk  he brck fxhle  el wh  g bhng urer  bu hexul n      w ll ben he ple  new f he hlcu h  hwever  begun  eerge fr he he f eurpe   hllw fel eblene  reger  pre gn n e  he u lw quke  he prpec f ffenng n penl cke buer   br    br   bu whle he chnge fr hphb  n e wrk n generl  he pecfc n  f  hl  he vc  chng up  lnee  runk ung ler hen nvng h bck he lk   even hugh  r epecll nce  here   grlfren n w   re he quen wheher h cenr w rene nverenl r lef n   cree p ff  he rgnl engne generng rn  ureru rge ',\n",
       " ' rh    ne f he fne fl ever e n nn cne  rece b he gre recr gvn nhln  h ne  he  ucceful hr hng prllel cne whch l urne u  be  cercl ucce  even   rh   n nprn fr ll leng recr f n  br    br   he fl ell he rel lfe cenr f ub plce f he     unlke n plce f her ce n n  ub plce encpe  fferen e lgeher  gvn nhln cree  ver prccl ul wh rel lfe pprch f ub plce envrnen  br    br   ng vru plce ffcer   cllegue  he fl ecrbe he r f nn velnkr   ung h ble cp cng fr  pr fl  h fher   hrh plce cnble  nn helf uffer fr h fher  elge   ncence f h fher  rce n h her  nn  pprch wr ee cn gn cre   n ner crvng fr h wn jb fcn  he fl  here revlve n  pl wheren nn  cnn effr gn cre re rple b h enr h le  frurn   he cnn cheve he ere jb fcn  reulng fr he frurn  h nger  expree n exceve vlence n he ren r   br  l urnng h  n lchlc  br    br   he pr whn h  ll lve   he cnnl fgh he e  he  wre f he e f he er  where he plce   plcn re  nerl ce b fr en  h cpre wr unehcl prcce  negve  fnll he ge upene  br    br   he recn   er pece   hrughl hr cre  ne f he be erble cene  when nn brek n he unerwrl gnger r he  hue  rre h  fllwe b hr cnvern whch  fnc   n cene  he fl h hr rng en  br    br   he prccl pprch f crp   jr punch  lchl  crrupn  plcl nfluence  curge  ecepn ll re negrl pr f ub plce even   he pec re el brllnl  br    br   fnll  he fl belng  he ne n hw   pur prrng nn velnkr rverng hrugh ll h en bluel brllnl ',\n",
       " ' fr expure  he eplr   n  g ne   w exce  fn h le ng he fferng fr nchr b ve  whch h brugh u her cul clc uch   per bb   he prn qul  excellen  bu h lne cn  he he fc h he fl  el ull  here   hrllng penng equence n whch he vllger exc  errble revenge n he eplr    e he whle hng n n   bu everhng ele n he ve  lw  pneru    ulel  unfulfllng  ng nul  njur  he ve w ubbe  n uble   pre n he ve jcke ',\n",
       " 'ne f he  gnfcn que fr he enre fl  prnunce hlfw hrugh b he prgn  he f le n   grl   phcll nn ecrp  le ge n rgnll fr lern n uhern l  when we re nruce  h  he r f he fl  he  been lvng  nn lfe n n elegn bu erle hel n he ln pekng cnn f wzerln fr he l en er  cnucng  bune we re nl grull nruce   whle h pvl e pprenl unrerkble cene ke plce eplee f he he w bnk wh nrll cun  grl  ch ell h h        llr re ng fr h uul uce full f ghl cke bnkne   he new  he quel bu cl hreen h cxng bnk nger f wnng  cle wn h ccun  enwhle he ell u  he pecr  h when u bluff  u hve  bluff rgh hrugh  he en whu fer f beng cugh u r pperng rculu  he   u cn  bluff fr  whle n hen hlfw hrugh  ell he ruh  hvng evenull ne h   bluffe nl hlfw hrugh n l he ruh  n hvng ccepe he cnequence f lfe n ulel  lve    excl he ren behn he begnnng f   grl  ruble   br    br   h nll unphec chrcer   cwlng  curn  cur n n he verge f      n wh wn  even repl n kn  chber n wree wh  hell n gbe  bece  ne pn ene he pecr cre eepl bu   ne pn n h nn lfe   ece  feel cncern bu pperng  rculu   he fr hlf f he fl  be ecrbe   lw  b e   e nee revel  grl   n ngh n h hel  n l jne  elbere pce  revelng eengl unne n rrelevn el  hwever  cene h  hve eee unnecer revel ju hw eenl he re  h erfull cnruce n nnvve fl unfl befre ur ee  he exence f   grl   he n wh n gnn  en r lfe  he unphec chrcer u unexpecel en up lvng n feelng fr when u le hugh u wul    l cnvee wh elegnl ee equence n ver nereng ue f uc  ne hee b he ch bn br f cn epecll  u    br    br   never w he cnr beween he w hllw n l re ber re   hn nce he relee f fl uch  le cneguenze ell re r l blre  nher nereng eleen w he w n whch he fl e ue f he prgn  nn  n unlke he chn  n n  fr re explc w  he l pcn fl nn   le cneguenze ell re ue h cnn  ble  eeper enl le h  been re  eep n he bcur f he uncncu    l pble  pn pn  cue  f nee here  ne    br    br   he ung n phec hel wre f  ple b lv gnn  grn ugher f he legenr nn  n he er f   be fren   n wh he hn  een n    er  unexpecel prve  n wnw n lfe h  evenull  hugh envel  fr  ccep  lk hrugh gn  hugh   never explcl pel u  he pecr knw h   n lke   ccepng he cnequence f lve wll hve ungnble cnequence   fl whu  ngle cene f ex r vlence   fl h unfl n  wn e n cncee nhng  he pecr  expecn  le cneguenze ell re   fne repreenve f h ll  que  cree rennce h h been kng plce n ln cne nce he eclne f cnec  urng he ecn hlf f he     he wrl  wng fr l  pruce re l pn lke fre  re l v   bell le fl    neglecng  explre fne cren lke le cneguenze ell re  l blre n her  ur l  wrl ',\n",
       " ' wche h fl n rell expecng uch   g  n  pck f   fl  ll f whch were pre errble n her wn w fr uner  fver  wh cul  expec  n u knw wh  w rgh  he were ll errble  h ve h  few  n  few  rechng   nereng pn  he ccnl ccrer vew   nce uch  he ruer  ver lke  ruer   e ne nnng n  well h bu  cull  he prble  h  ju  brng  n wh  cn nl ue w n ep  bul enn   whle l f nhng hppen n when  e  uerl eu   h  hub n he f frwr bun  re  pre fr  f he ve  bu gve   g  n erul  he le nger f he bn h gre lkng  cz he n  hlf enn hw beuful he   hell f  l   hugh he lke  b lke  eerc  ll h n  hven  even enne he kller    n even gnn g n    ju n wrh explnng  nw  fr    cncerne r n lnn re ju bu he nl ren  wch h n wh he excepn f lnn  wh w cull que funn   wn  becue f her cng len   ve cernl een  l wre  bu  ve l een  l beer  be v unle ur bre f wchng pn r ',\n",
       " ' bugh h fl  blckbuer fr        becue  une nereng   b rn eque  wh he e f ene rggng run  kelen   becue here w  cue grl n  n kr n he bck  n becue here w  rerce vewng cker n    hugh  w gng  be  wee r  le ncere cng f ge r wh  wer ne ege   w      wrng  br    br   hvng wche    hve  wner hw  g he rerce cker  nce here  hrl n ful lnguge  lle vlence  n he cle hng  nu  hnel   n  uull g run hpng fr     when he grl  n her nghgwn n u ee her pne  u ee her pne  l n h ve  becue n er wh  he  werng  nkr f e r   even he n relgu hur  e  n le  crcure  nncere  ervve  unrgnl  n wr f ll n funn n he lghe   wul be beer ju  len  r even   wul jeu wer  rlex n h elevn hw    h wul brel qulf  pg       n re   bu blckbuer refue  le nne uner he ge f    ren h   f  w prngrphc  n lle k cul g n here n ren he ee vern f reque fr  re  bu he n h zck n reb  wre  br    br      bu n n h w  br    br   n  w  h wrre e  he nl hng lef h cul ffen peple  he e f he uce  he begnnng  f nb nee  ee ve wh hnel prre uce  n h ne  bu beer ne lke he vrgn uce     eenger  f bh f he ve were re r purel becue f he uce pec  hen  hve lle chnce f urnng  r  ve been wrng n  pg    ve  he n chrcer re eleven n  hlf n welve   uce  ne f he p hree leng cue f eh n eenger   hnk   nuber      chnce re h  een hve been r wll be ffece b   br    br   ju  n  h ve  hugh       ',\n",
       " 'he pl  bu he eh f lle chlren  hpper  he ne wh h  nvege he kllng  urng he ve  pper h he h e ruble wh h ugher  n he en he erl kller ge cugh  h    bu befre u fn u wh unn  u hve  ee e errble cng b ll f he cr    unbelevble hw b hee cr re  nclung hpper   cul g n lke h bu h  uch f  we f  e  ju n  wch he ve   ve wrne u ',\n",
       " 'ever wche  ve h l he pl  well  h n  even rell hve ne  begn wh  br    br   where  begn  he chngl eu cene f ur herne ng run he hue wh cull n ene f ence r even frebng cree even urng he pprenl cnn hunerr  h re rngel never cull her n he hue gre uble glzng   he hue h  pprenl nl  few le fr  wn e  everl hur wlk w    r he hr grl wh erve n purpe  he pl excep  prve  urprngl quck gr urer ju  he eu bece unberble  r even he begnnng whch ugge  pe f     kllng hrughu he re even hugh   ppren he kller never venure fr fr he hue  r he bzrre rul wh he l   pepper h pre uch u up  f he fl nheren lck f recn  br    br     le cre wh cn  c bu  le  wllng   e cpleel rrelevn nue hwer cene n h ve  rul n  bu n n he w u hpe  br    br   gven  fllwng pl fr beng bnne n he uk n he      l becue f  fnl urprngl ver exene urer   ffer nhng bu cur vlue  n ne clc  f  urer  n  wrr  elegrphe  le en nue befre   br    br   fer  wlk n he w ur vc ce   rher eep upwr lpe whch he bvul ruggle up  hlfw hrugh he ee  fgure  he p ree n blck n brnhng  lrge che  wh  he   le wn n run lke he re f u  n  f cure n  he ruggle  he p n n cnvenenl nce n uprgh n frn f he urer wepn  br    br    rell  nl  ve  he   ',\n",
       " 'k   h ere kn f ke he rue f  here we g gn   week n  week u v re  chrcer help u h re wh  n  b f  pckle   bu wh  wrng wh h   v re  ne f he gree chrcer cr u here  n cernl he cle  n  hve h n  ere cree b v kepp    gre wrer    heven   br    br   ue  he lck f lve fr h hw b n   cn  ee  gng   en ere   bu u never knw  he un f rubbh h h e  ben h bffle e   le  hpe ehng g cn ke  p  fr ere   ',\n",
       " 'fer ng hrugh h ple f ung   hubn n  wnere wheher  w cull he pruc f n experen  ee wheher  cpuer prgr cul pruce  ve   w h lle n frulc  bu he u   prpgn hrwn n ur fce hrughu he fl prve  ppnngl  h   he wrk f hun  cll e  cnprc her  bu que lke   we hve  el he eclrn f nepenence  prec   ee lke w  juf cn lke he nvn f rq  ec  he fc h nchl cge pew lne lke    wul never ue he eclrn f nepenence   brgnng chp  wh  rgh fce e e n  hubn wner wheher he enre c k vlu befre hng ech cene  he  renng  behn ech pl urn n new  clue   rul rculu n pble  fllw  n here  l  bnu e pl f gn  wh r  whever her ne w beng che b ll nvlve fr  never hung up   he  clerl n he ve nl fr lk  bu he fel he nee  lp   r   le n her chrcer  gve her e grv   ne pn  cge  chrcer    n  u ever hu up   n he cer pn  her lkng pul wn  her hn  lke he   chl  rul greque  he nl benef  h ve w h    nhngl b  u  ge  few lugh u f   he rell cr hng  h  jr f he peple wchng he ve wh u eee  enj   creep    ',\n",
       " ' h ll he clch  f ve f h pe n n ubnce  he pl wen nwhere n  he en f he ve  fel lke  ucker fr wchng   he prucn w g  hwever  he crp n cng were b ve qul  he cng w pr becue here were g cr xe n wh crub cr  he g cr n  hl her wn nr  he lf up he her   br    br   h ve  n wrh f re wr  bu  wll  re  ee he nu requreen f en lne  je w n cub gng  jr  pl crcure f heelve n her ve   br    br   f u re lkng fr nle enernen   ll wuln  recen h ve ',\n",
       " 'h ve  be n he bk    n plenre hng  b hn un n ckle ue f rce reln beween n n whe   pc h ce fr hn  pernl experence  n eurn grwng up n chn  h bckgrun  n he beuful hng kng eng  gve h lve r  unque n rher rng phere fr  e  br    br   her hn h  he r   erepcl rnce wh  erble ng h  perhp re reebere hn he ve elf  he beuful jennfer jne lk he pr n gve  wnerful  cr nne perfrnce   cr f xe bree urng he ven f cun n nln chn  wll hlen never lke beer plng  rnc le   jurnl cverng wr rn regn n he wrl  he cng  p nch  n he cher beween he w lver prve fr e genune en f lver creen ffecn ure  el he her f he wh re rncll nclne  br    br   he cnegrph rell brng u ff  hng kng  epecll he hllp verlkng he hrbr where he w lver pen her  ne en  he enng   rel er jerker  e  cner enenl rnce p   bu  fr he wh enj clc hllw lve re  h   hnng exple ',\n",
       " 'f ll he fl  hve een  h ne  he rge  h g  be ne f he wr e  he recn  lgc  cnnu  chnge n pl crp n lg e e cr u n pn   hw cul nne ce up wh ehng  crpp   gr bue  knw fr h  b  ve  bu h   ure  w  ve   w we   br    br   ke fr exple  bu w zen fb   lcl lw ffcer urrun  rler hue wh  jeep wgneer  ne he jeep   n   cnfue    wh ll he cp re bu  whn ecn  huge gun ble enue   beng klle rgh ff  he cp bl w  he jeep wh gr n cpn blng w  he  he cp fll lke ne n he jeep wh gr rve run n crcle n re n h b ne ngle bulle pelle    klle n gr ee  n  hve nce n h gu  ugh  rul  rcle  n nce he x her hel     bulle h here been uch  rcle ',\n",
       " ' h her g hng bu  e f grce  n ce n wh n pen n   hugh h  g  r  w k  n  hugh h be ucher h prve n ure   flker  he fl begn wh e hk cng  n  hugh   well  be  wll ge beer   unfrunel   never   he pcure r u b nrucng w eler    rn nre    n  ee h he uence wll ge  knw he n grw  cre bu he  ne  he r egenere n  hghl prbble ere f unfrune even hghlghng bln beence b he nre  ehng h unenbl ex  bu rrel n he level h ucher prr  n  bece l lughble  br    br   ucher  nl ucce n h ve  h ucceful lenn f h rge uence  b unrelcll n nccurel prrng he lve f rn nre  ucher ccplhe nhng re hn ngerng h prennl rn uence  he fl n n w reflec rel  n re nhng lke wh ucher hw  hvng erve  rn n elf  cn e  h fc  n gng lfe n clfrn cernl cnn uch re explc lnguge hn he ccnl l vulgr  br    br   he cnclun  whch   ung w uppe  uch he uence n npre he  beleve h frgvene  vlble  ll  w bh unbelevble  c n  he enre n gher  ee h eler en he    n he  n he grl re nng rgh nex  ech her   n chee  nex e  ucher  r kng  ve h ene cn enf wh ',\n",
       " 'h ve ruck he fr e  beng      reeber he      n  fher wrkng n  fcr   fgure  f  wrke hr   f  h pre n never gve up   cul hve he ercn re  he hue   few k   cr ll  cll  wn   ve ne hwever  whu  egree n ehng  unlke  fher h qu  nnh gre  n  keen ene f gree n lzne  u cn  ge nwhere  br    br    wul lke  knw f nne h h ve n v r vh    e fr v  n  ju w  n hur g  c n  fn  nwhere    lve  hw h   fren   peu fren  fl n her relve  ee wh he hnk n ren he h nce upn  e  ercn wul wrk fr he ke f feelng hnr n h we h pre n wh we ccplhe    hnk he feelng  ll here  bu n  hev wnwr prl wh  n hng beng e vere   ',\n",
       " '  cler   ve een he ve     e n he l    er  n  nl ju w he ucl h week  h llwe e  juge he ve whu beng ne b wh w r wn  n he ucl  hwever   ne e when  wche he ucl       br    br    cull beleve chel ugl wrke que well n h rle  lng wh ke   hnk her  le e nce fr u cene   ne f he be pr f he ve   wrhwhle n cpre  he ucl  he ncer n ngng n he ve re uch uperr  he ucl   well  he c whch   le    e bgger  eer   n he ve f cure   he ecr  lghng  ncng  n ngng re l uch uperr n he ve  whch hul be expece  n w nee elvere   br    br   he ng h were n cn wh he ucl re beer ne n he ve  he new ne re que g ne  n he whle ve ju elver re hn he ucl n  pnn  epecll cpre   ucl whch h few ecr  he ne b pn n he ve  he bvu cu beween he cr lkng  n ubbe nger urng he ngng prn fr e f he chrcer  bu her ncng  peccble  n he en pruc w re enjble hn he ucl',\n",
       " 'prcl  n pluble ve whe nl vng grce  h  r gle hwn lng wh  g c f upprng cr  he r revlve run  z cckl wre wh bece fu fer nverenl vng he lfe f n rb gnr  he r ge wnhll hlfw hrugh he ve n gle  chr ju en  ve h ve  unle u re  gle hwn fn n  g u f ur w  ee h fl ',\n",
       " 'hw h fl cul be clfe  r   hve n e  f  were jhn vgh n r eenburgen   wul be rng  ere h fr  cv   w  hrcll ccure  xen n hercule  brh n e g ele n nh  l  brh  nephew  l  urn up hun f er befre he wul hve been brn  cnne wnere he erh   rell  wh were he crpwrer hnkng  w  ju gnrnce    reeber ehng bu nh n nl  n l n cnne n ll h uff fr un chl   r were he rng  ffen he xu nuber f peple n he plne  pble  fr chrn  jew n ul   hrn  rchelg  gelg  pchlg  lngu      er f fc   nne n ge ffene  nne wh h even  cu f e wul hve wnce  h ne ',\n",
       " 'pren urg  he pwer n he glr w uneen b he publc fr nerl wen r hr er unl he le      when  reurfce n even hwe up n elevn  n he ene  h gne n nre becue pulne kel  he czen kne bk h uggee h he hern nkewcz   rn welle creenpl fr kne w be n urg  creenpl here    enne n he begnnng f h hre fr he fl n he b web e  kel vere her ce  br    br   here re bu x nrrr wh ke urn elng wh he lfe f chrle fer kne  he newreel  repreenng rln   he henr luce clne   hcher  er  bernen  je leln  un lexner kne  n rn he buler  ech h h r her fferen ln n kne  reflecng her fh r ppnen r hre f he n  n f cure ech l revel h r her wn flng when he re ellng her vern f kne  r  h eh l le  frequen verlppng re ellng f he e ncen  br    br   h  n he un n he pwer n he glr  e  lke kne   bu  legenr bune leer   here    grner  pencer rc    n wh re fr he b  beng he f he  ucceful rlr e n he cunr  bu here re nl w nrrr   he re grner  rgh hn n henr  rlph rgn  n h wfe  rh pen   h rerc he nerl hree ennl vew we ge  e f kne n grner  henr  when he nrre   lkng bu h b n fren  wh he repece n lve  h wfe  lke he vce f he kepcl publc   he ee nl he flw n henr  br    br   pcl exple  lhugh he wrke h w up   bece re n re n lbr n h ler er  unn re rubleker  n he e n cre  be lwe wn b her henngn  henr ecrbe   cnfrnn wh he unn n  jr wlk u  n hw  preccupe h  he eren f h he lfe  bu henr  wfe ren h hw  ue cb n vlence  en he rke  pprenl blwng up he unn  hequrer   kllng n peple    we hve w vew f he n bu ne  pure whe n ne  pure blck  br    br     n rell knckng he pwer n he glr fr n uplcng kne  ucce  few fl    nclung ll f rn welle  her fl   bu   wre h he r  preene well enugh  hl ne  nere  he en  n hnk  he perfrnce f rc n clleen re  h wfe ll  he rge f he wrll ucce f he pr  full brugh he  br    br   when he rr   wn   well  n pr   gve h wfe n her fl he benef he never h  bu n erc gre bune ucce ce   c   ge eepl nvlve wh runnng he rlr epre  he expn  n prve  cnnl   bu  ke h w fr he  uch  n he le uch wh ll  n he l nce eve  helen vnn   he unger wn wh bece h re  when ll lern f h unfhful behvr  er her  br    br   lrl   ge  full hck  whch ke h  rr n he ee f henr   eve rre   n preen h wh  n   bu  urn u  be eve  n b   n  jr   phlp ren   he cver f h nceuu cucklng cue   h helf  br    br   he fl  n  l ucce   he cn jup  e uncnvncngl  e  e ke he bune ee rel  ne he cene when  ell h br f recr bu h pln  purche  ll rvl rn lne  n he cue he ue f ebenure fr fnncng he pln   urg ce fr  welh bckgrun   he cul brng n h pe f el   n he whle    fr re fl  n czen kne perhp  bu f nere  ve lver  n ep  bune rel wh cl cenr n epren erc ',\n",
       " 'verge  n urprngl e  fulc gll whch en   ll que b b nrl nr  bu reeee b  l bul up n e nce uche uch   ne e w n he ue f vn n clrvnce  br    br   he genre  well knwn weknee re n full ger  bnl lgue  wen cng  llgcl pl pn  n he fnle ge n uch  lng  whle he enueen prve  be  rher le r hll    lp ffr  br    br   fulc  rnc hnlng f gll nr  ung  hugh  ellw clue wherever u lk  br    br     u f    lpng kller',\n",
       " 'reurn  he   h chber  ne f he clc kung fu ve whch hw pruce bck n he    n     whe genre  equvlen  he pghe weern f hllw  n he prgn grn lu  he cunerpr  he weern  cln ew  gll reere n  new prn e fr he fnc fl fe  h   preene n hw cpe   ju lke he g l   br    br   h fl   ple r f g veru evl  l n   c  whch re r le u up he nrrve f rl r fl n h er  br    br   c ne e up he pree  wrker n  e ll f  ll vllge re unhpp wh her l  hvng her wge cu b     b ncng nchu gnger  he cn   uch bu her expln becue nne f he re rl r klle  ke n he gnger  n her b   fr he h  nr ucce n geng lu  perne  hghl klle hln nk  ne f he be ce equence   bu her rue g expe when he puhe he l f crebl b pernng ne  n e  br    br   c w hw he prgn wnng  ge bck  he b  hwever  whu rel rl r  he ebrk n  jurne  hln eple   r n nflre n lern rl r n he l  fer e lpck en  he fnll ge ccepe b he bb  wh he perne   bu  ppne  he echng eh   kn lke r g  le n kre k  bu ne f pnng fence  he ge  erec cfflng ll run he eple  nhng cn keep  g n wn  n he unwngl bul rengh  enurnce n lern kung fu he unrhx w  br    br   c hree  where he fgh fe begn  wh chee un effec  ech bvu nn cnc n fl  gven he xu pc reen  bu   rher refrehng wchng he fgh cene here  wh  we ngle h  hghlgh clr n el beween he prrng prner  n he ue f lw n nl  hwce un n fferen ngle  u  fn he pee f fgh    lw  wh e pue n beween ve  bu wh uen w png n h le beng ue  nue n hllw flck  he ure n  ke fgh cene lke he ue   reurn  he   h chber ge  repe creenng n n    f u re ge fr  nlgc rp wn er lne  wh re u wng fr ',\n",
       " '   pler    ll   n rel lfe  well  n he ve  flr r h hppen  n ung en wh re pu n  wr zne wh  gun  r rfle  n her hn  he ce f ung n nncen  n never hnlng r frng  gun  j v  frnch ne  h been repee hun f e ver he cenure when en  lke j v  re frce  ke up r fr her cunr  br    br   j wh  fr wne  be kcke u f he u r bu w encurge    b beng bele n he uh  b h g fren fre p  wll  pencer rc  ene up n he frn lne n frnce  wh j  un pnne wn b  gern chne gun ne he ngle hnel pu  u f cn pckng ff e hlf zen gern ler fr he fe f  nerb church eeple   w when j gunne wn he l urvvng gern  wh re h r n urrener  h n rller hell h he eeple erul wunng h  br    br   recverng fr h wun  n r hpl j fell n lve wh u r vluneer nure re uff  gl gerge  re w rell n lve wh j  g fren he hpp g luck fre epe h bnxu nc wr her    when fre w l urng he fghng n he weern frn h re  hnkng h he w klle  fell n lve n ler rre j  when fre unexpecel hwe up n he french wn where j  nw full recvere fr h wun  w ne  hng g ver ck fr bh h n re wh h lre ccepe j  prpl f rrge  her  br    br   wh ww ver n j rrng re lef fre  wh  ll n lve wh her   ber n reenful ung n   w l b ccen h fre rn n j n he ree f new rk c n cvere  h hck n urpre h he cpleel chnge fr he eek n nn vlen pern h he knew befre he w en  wr n he eurpen weern frn  ug n ure f helf  n h bl  h  gun  j h bece  p ber n new rk c  unerwrl  n nl h bu  fre ler fun u h wfe re h n e wh j w rell nvlve n wh j ellng her h he wrk   lw bng n nffenve nurnce juer  br    br   j  lfe f cre ce full crcle when re  fer he fun u bu h ecre lfe  re h u  he plce  preven h fr execung   vlenne   lke cre  wh h gng eber ree  cp  f h rvl ber  whle n rl j ce  h ene n e h gul wllng  fce he uc n hen  fer h hree er enence  up  ge h lfe bck geher   br    br      pler ler    herng rur fr fellw cnvc h re n h be fren fre were hvng n ffr behn h bck j brke u f prn enng up  fugve fr he lw     fre  crcu  where he wrk  bh nger n brker  h j n eeng h re  well  fre were rue  h h he  lke  h rl  h  uen chnge f her  bu he hugh f gng bck  prn  wh  le nher en er e n  h enence  w ju  uch fr j   w hen h j ece  en  ll b leng he plce wh b hen rcke h wn  he jb  h he helf n  hve he her    fr h ',\n",
       " 'bel lug ppere n everl f hee lw buge chller fr ngr u n he       n he crpe vnhe  ne f he beer ne  br    br   bel pl   cen wh knp ung bre n kll he n hen exrc flu fr her be  he cn keep h geng wfe lkng ung  fer  reprer n  cr  he ngh  h he n cver he  repnble fr he bre  eh  he fllwng rnng he repr hee urer  he plce n he  cen  h n rp e hrl ferwr  br    br   u hve g l everhng n h ve  he cen  n cn f n l hg   hunchbck n wrf  her n    hunerr n pk pge n bel  hue  bel n h wfe fn he leep beer n cffn rher hn be n he ve  br    br   he crpe vnhe  wrh  lk  epecll fr bel lug fn  gre fun  br    br   rng    r u f   ',\n",
       " ' cnn beleve  enje h  uch     he nhlg re were beer hn pr  bu he lnkng r n  urpre enng hke e  l f flr fce wll keep u kng urelf  where  hve  een he befre   frge he runnng e le n new lne  pe  h n  n     nue  ccrng   vcr er n b  pce gg ue he cpfre n h wn pecl w n hke h n   ',\n",
       " 'he    percen f he nn nw h ll uppr w  buh wul  well  ee h ve  whch hw he ferh f he french revlun n he errr f       rkngl lr  he p      c plcl lncpe  be hen he cul p wrrng bu vng fce n ke he    whuppng he eerve    rell  he h when  plcn run he cunr  he wh ve fr h cn  be ene he rgh  ever ve gn  he ve clerl hwn he hve n ene f chrcer  br    br   wh rell n u n h ve  he bgu f  chrcer  hpelel crnre  rbeperre   hune ep n wh plc reucve elg cn  help h eluce he bunre beween fe n lrn  execun n urer  elf efene n pr  h leglc lu e ggrve he hpele un he  helpe cree  un lke n bellgeren  verprvlege  rere le cheerleer u knw f   br    br   wjcech pznk blw he lvenl epreu ff he creen   phec  rbeperre plgh     cfrng  knw h hrl fer he fl en he ll hve h jw h ff n be en  he gullne ',\n",
       " ' ene h lre enne n h br    ver ffcul  ke  fke cuenr   requre reenu kll  pcng  pence  recrl  nce    pluble pree   nrrve  flw   n rell belevble cng  k gre cng    br    br   uch  n he ce wh  lve chne    r  hw  fux hn bu he    nue rk  wh    nue lef  wch   n he vewer r  relze h he r he  beng ken n    wnhll fr here  br    br   recr grn erken pl peke  n  bu  be fr  erken  h prble re erl   he expln n he exr  he begn wnng    rel c  culn  ge funng  n ele fr  cheper w f kng h fl  br    br   he pree    peple wh hve ecre lve b png heelve n  prn webe    w perhp re nereng n          when he fl w e  erken e  l f rck uff     puh  h   hn hel cer  z  grn blck n whe    ll   gue   elc  ene f uhenc  bu  ju en  wrk  he fl  cnfung n frce  bu wh ulel brng  wn  he belevbl f he cr n he pre wful lgue ',\n",
       " 'he hll hve ee   wh u wul expec   be n nhng re  f cure   n gng  be n cr nne fl    ju pure enernen whch u cn ju le urelf n fr    nue  br    br   he pl  bcll bu  grup f nnl gur rnee wh fn heelve blng gn he nru ue hllblle n her l  f rnng n he eer    ju he fghng bck hrughu he whle fl  whch nclue  l f vlence  whch  bcll he whle fl   bl n gu re cnnl flng run hrughu he whle hng  n l e nher grphc rpe cene whch  pnlel hrwn n  hck he uence  br    br     gve he hll hve ee    u f    fr pure enernen  n h nl  lhugh even hen  fun elf lkng   wch re n re  he fl wen n    begn  rg ue  he fc  cnnue  r n hck he uence wh grphc gre n he ccnl jup cene ju  ke ure he uence  wke  he hll hve ee   ju ecen enernen  ehng  p e f u re bre  n nhng ele  br    br       ',\n",
       " ' lughe ll he w hrugh h ren ve     unbelevble   wn leve her hubn fer n er f rrge  h  brekwn n frn f  rel ee ffce  wh hppen  he ffce nger ce ue n ffer her  jb    hlru  nex hng u knw he w wen re gng    ep  he re lebn  nhng rng rue n h  lfee fr wen wh nhng beer    ve  clunk lgue lke   n  wn  pen he re f  lfe feelng lke  h  chnce  be hpp n n  ke   en  help  here   welh  n her wh pprve f her ugher  new relnhp    blck    unbelevble h n he er        fl ge e n whch here    blck   he cnel u be urnng n her grve  he wn h  hubn wh frek u n wn cu f he n eenge k  heeh  n clche  lef unurne ',\n",
       " 'n pler   br    br   fer hchcck  ucceful fr ercn fl  rebecc be upn phne urer  luh nvel f ghc rnce n nrgue  he reurne  e f he re flr hee f h erl brh per   ken en n epnge   he u   ele n wrl wr  n he lrge cle  wr effr  f cvln bulng plne  wepnr n her necer l  he bng fl enernen bune begn urnng u prn n fen jngc hrller wh wr e hee  hee hrller fen nvlve newrk f ecepve n klle perr  wrk n he hw ng he g  lw bng czen  knwng he recr w  he n h epnge genre  prucer jck krbll pprche hchcck bu recng  prper he wne h el wh crrupn  wr e bge n  helple her hru n  vrex f cncence n ken en  he rker eleen f he nrrve n he hrp w f lerr ven rh prker  urng her bref n n hllw befre reurnng  her bhen r n nc  wh c uhre he crp were  perfec ch fr hchcck  enble  br    br   h fen neglece fl ell he r f he unfrune    er l brr kne  rber cung  wh  whle  wrk   l ngele rplne fcr  ee new eplee frnk fre  nrn ll  n en ler  fre fr cng bge  fleeng he uhre wh n  beleve h fr feche r he ee everl chrcer n h w   c uh n fnll new rk c  hee erble chrcer nclue  crcu crvn wh  cr full f helpful  frek  n  ppulr bllbr el prc rn  prcll lne  wh  urng he wr cr f h lfe  well  nnl ecur  he fll l n lve wh  f cure n he ln f hchcck  prc  knppe b he uppe beur brr  fll fr her cpr hu ng rnc enn  he x  br    br   n g fr fr h ung  hchcck brew  nnl newrk f eure l le  verge je  n repecble buneen wh uble  ecre gen errr h hrbr crnl  pull gun n ene bb  keep hng vng     errfc pl h ke  e vng frwr n nce gne  culne n ne f hchcck  re erble fnle  lk fr ncrebl lfe lke nc ur rcn  ll f whch were recree b r recr n hllw ue  he wr e  hng bn  n publc rcn   whle beur  n be ne f hchcck   well knwn fl     ppulr b ve h  cernl l n enggng wh plen f clever pl w n  uul   errfc hchcck vlln  reeber  lk fr hchcck  ce ppernce ue  rug re n he ecn hlf f he fl  hchcck  rgnl ce e h w h  h fghng n gn lnguge wh h  ef  wfe  w xe b he bureu f nr n prcce wh were fr f ffenng he ef ',\n",
       " ' ju wche he reer h evenng  hvng nl een  nce befre  bu  zen er g  br    br     n   bg  ve  n en  r  ke  bg plh  bu  g  he brllnce f he w le leve e ju bu peechle  lber fnne n  curen re nhng le hn zng n h ve  br    br   he reer  he r f r  n gng hkeperen cr  fnne   n h reer nrn  curen   r f  vle  pung n  prucn f kng ler urng he blz f lnn n wrl wr   hee re w en  ech epenen upn he her  r  l helple whu he  f nrn  cjle  wheele  n bull h n geng nge fr h    h perfrnce f ler  n nrn lve h lfe vcrul hrugh r  whu r  nee h  he  nhng  r hnk he   nw  br    br   h   chrcer rven fl  he pl  ecnr  he nercn f he chrcer  n  uch   requre cr f he hghe clber  brng   lfe  fnne  nl    er l   cpleel belevble   ver l  ver ck  peuln  bullng  bu brlln ge cr  he he n fue  h fellw cr even when he re kng her bw  n curen  n le cnvncng  he ncng reer  wh u ee c re   her hn   vle  h elerl epler  epler  rell he wrng er  ue  hugh  fr lhugh  echncll her relnhp  h f epler n eplee   f he e r n nrn c lke nhng  uch  n l rre cuple  br    br   e  here re her n he c f h ve  bu here  n quen h he rue r re fnne  curen  n he rvelu crp b rnl hrw  h  n   h here ren  her fne perfrnce   nbl eleen kn  he lng ufferng ge nger ge  here   wnerful cene where r n ge lk bu l ere  l regre  n wh gh hve been  br    br   lhugh  en  ge lke bu hee     wrh reeberng h he reer w nne fr fve ce wr  be cr nnn fr bh fnne n curen  be pcure  be recr  peer e   n be pe creenpl  br    br    h reebere h  beng  g ve  bu  wn  prepre  be  cpleel eerze   w fr begnnng  en  f u wn  ee n exple f wh gre cng  ll bu  n be hugel enerne ll he whle  hen  encurge u  ee he reer ',\n",
       " 'wh hppene  wh we hve here  bcll  l n pluble pree n wh  ecen n lene c  bu ewhere he ve le   cull   never rell g gng  here w  lle exceen when we fn u h nge  n rell pregnn  hen fn u h he  fer ll  bu h w   eve rn  wh   ver lene pern n uull brng  l   ve  w reful n h enre chrcer w n even cle  beng prn  h ve  her hn  ke  lnger   rell wul hve lke  ee re nercn beween he n chrcer  ke n nge  n be r n fr  pure ce  whch unfrunel  w n  bu be  r wh cec eleen   hnk f he ve  h  cul hve been ver funn nce bh cree re que funn n her wn w n ng here  cn hnk f nueru cenr h wul hve been  r ',\n",
       " ' ve ju wche fngerh  n   unne  ee he      verge rng fr he hw  br    br   n nl w he pl w ffcul  fllw  bu  ee chrcer evelpen w rnl pple  br    br   he cr were eque  bu n he prce f epng  cree w n urn  her chrcer re renere enrel ne ennl  nce h hppen  he r rell fll fl n bece eu  br    br   n ju n ce nne n  ee he precble lebn unerne fr le w  h  here he n he  bnl er  he en f he fl  br    br   he en cene  ppnng n phne n  n nne wh  bck n wen  hhh   he were crpe uncher ll lng    u hve been u fr he evenng  br    br   w r fr he nl hcke n he erler cene whch w  le  b runch  nne fr he re f    ',\n",
       " ' le  begn     br    br   he ve elf   rgnl  crnenberg  ve wul uull pper    br    br    nenn  ee  w cernl jjl beng ne f  fvure cree  he   lvel  uul  h cue  br    br    wul n   w  fvure ve f her  ll   que nereng n enernng  fllw   br    br   he re f he c  n exreel preve bu   n e kn f  c r rr     br    br   recen wh cnfence     ',\n",
       " 'bee beng brng  he cene were ppreve n rk  he ve re  prr e kn f rl  bu fell fl wh  ege  wh were he reeeng qule   n p f h   n  hnk  cul ke lbrrn lk n re unglru hn   ',\n",
       " 'n unrre wn ne ell  bee ler  ge pregnn b  welh n  ephen clln   he ffer  rr her u f  ene f blgn bu he urn h wn fl n ece  re he k n her wn  hng g k unl he chl ne jenn  rn lvr  bece  eenger n hng grull  n precbl  bece wre  br    br    ve een bh he len vern n un vern f  ell ll   neher ne ffece e uch  n  cr el  bu he were well e f e  rng  reke h n      w ju  up e   gue ler h enugh pwer fer he ncprehenble ucce f  beche   ge h e  h  precbl  bbe  he r  lughble n e b   nr  even hugh ler n lvr gve g perfrnce h fl rell rg n  w bre ll b he en  ephen clln n rh n  bh g cr  n  help n upprng rle  fl n ull  rell  wh hugh h wul wrk  ee he      nwck vern ne   gve h    ',\n",
       " 'n  rure  ucklng  ne f fulc  erler  n hnel  n er f r lne  beer     fl   n lhugh n he pcl  blbh  h fulc  knwn fr   h  ll  ver unque n enjble fl  br    br   he r urrun  ll wn where  ere f chl urer re ccurrng  e f he clrful chrcer nvlve n he nvegn   eher  upec  r he  helpng  he nvegn  r n e ce bh    nclue he wn plce frce   ll e reprer   beuful n rch ex rug c   ung pre n h her  n l n wh prcce wchcrf n h fele pr g    enll hncppe wnn  n  ef ue lle grl  ll f hee peple re nerwven n he pl  cree everl w n urn  unl he cul kller  revele    br    br   n  rure  ucklng  neher   clcl  gll r  pcl fulc gre fl  lhugh  e cnn eleen f bh     re f n l fhne urer er  wh rker ubjec er n  few cene f grphc vlence  lhugh nhng nerl  rng  e f fulc  ler wrk   h   well wren fl wh l f w h kep e gueng up unl he en  recene fr gll urer er fn  r nne lkng  check u e f fulc  nn pler fl   bu n  epr  n  rure ll h re hn   fr hre f vlence n leze  e  be pu ff b he ubjec f he chl kllng  n ne n fele chrcer h  rnge hb f hng n ver ung b  whch  l kn f cncerng   bu f h pe f erl en  bher u  hen efnel gve h ne  lk        ',\n",
       " 'bu beu ce rnll pl pvc cl  b  bch lexnr  he fhful cle f fu  n evl en rppe n hell  eerne  free her er  he levlen nx brek n  wrehue  el  gcl ge vl  her ucce  bu whl cnucng  nc rul  un fu  he ll re ccenll ener he pengr he h rwn n he flr  whch reul n he l f he ge n he relee f w nuve  rll lke creure clle le n rk  br    br   nw lexnr u fn  replceen ge  whch n  gng  be e  he nl her ne h wll  he rck  wrn run he neck f her ex lver  plce eecve jnhn grve  peer lp   wh  nvegng he wrehue rbber n wh knw nl  well wh evl lexnr  cpble f  enwhle  we crckng ner ennl hlf pn le n rk ge n ll r f zn ruble  he r  fn  w bck he  br    br   n he wrpe ve wrl f j wnrk  ll fele re bg bree bbe wh he fhn ene f  chep hker  ghule v  n excepn  ever wn n h fl wheher he be  plce cpn   curr f nque  r  enl pen n n lu  h  h  h n wer n  l  n   h fc h ke h herwe ll unwchble pece f v crp ju bu berble  br    br   bu be wrne  even hugh he preence f e nke  qul crupe ke he gng lghl eer  here  ll plen bu h fl  wrrn  beng lbelle  n rel  he cng  wen n he lgue  pnful  he blck huur   he v blurb ecrbe    bu  funn   knee  he kncker  wh he cec bner f le n rk beng prculrl crnge wrh  n he pecl effec re brgn been  cnng f rubber creure n vul effec h wul hve lke e en er erler  br    br        lel fr he hgh bb quen ',\n",
       " ' rell lke ln khn   w rell ppne when  een h ve   n  hve uch f  pl n wh he  hve w n h ppelng  ln hwever  lk g n he ve lke ung n refrehe bu w wrh he prce f h v  he uc w n b  w que nce  uull nn ve re  le w  hree hur lng bu h w  ver hr ve fr n nn fl  he ercn cre h ple n he ve  fr he elevn h ere here  l lrer  her cng h  l  be ere  hwever he  lk g n he nn ree h he wre  ll he ve h n  l  be ere n  hpe ln e  l beer n h nex ve  hnk u ',\n",
       " '  n ure wh he prucer neee  re n he ne f  ewh ucceful ve frnche becue he le ugge h    equel  he fr hree ve  whch   n  even hugh rque hun  pper n  hp    he ple  ll fferen chrcer  he w  egh er ler  n h fl  k    re n rn weren  he  lene n culn  crr  fl ll b heelve  bu  re n he hp frnche ee  e h here cul hve e e r f reference  lbe nr   he erler ve    ure everne wh wne  ee  w  hwnke   n hnkng h he were eeng  equel  n  ll fferen fl wh  flr ne  n   rr   k whle  n funn  n cul n hl  cnle  he le rbn hrr  ke leer  r c curr n he erler fl  lhugh egen g n r rrw re  ubnl vul vern    hve  gve h  hub wn   ju nng he fl  wn  he l nue  wul hve been k  furherre  he huln brher  wh pruce he fr hree ve  were n nvlve n he kng f h fl ',\n",
       " 'h fl lbure lng wh e f he  precble r lne n hllw chrcer ever een  he wrer bvul bugh he plbk  hw  wre  pce er ve  n fllwe  pl b pl  n prculr  he ere pcl ue f rnu lkng  her lve ne fr uer pce   pung n  brve hw n he fce f er   h been ne e n e gn  br    br   x q pper  hve been wren n he hpe h he prucer wul hrw     lln  he prjec  bu  jugng b he ler hlf f he fl whch cnne nueru le ep  pecl effec  he prucer cul nl uer     hun   lern h he fl w nne fr   pecl vul effec  e h e bluel gb cke  br    br    hnk  hnful f hgh chl uen wh  p n e ue cul hve cree re belevble effec  br    br   n he pl hle re  nueru  enn  bu  wll pck ne u  n exple  nw    n n exper  bu urel   hghl pluble h  wrker che  he hule ulr wul uenl hl  pn f pwer n he cnrl r when hng r  g per hpe wh he prgr  urel here  ene re experence  n cnrl wh he prgr recr wul cll n rher hn  wen nne er l wh h n been n he cnrl r befre  br    br   he nl vng grce fr h fl  he wrk f bll cpbell  he nge  ke  g ep  lvgng ehng u f he rn wreck h  h crp  br    br    gve h fl   u f     wh he bve verge wrk f bll cpbell n he le rle vng  fr  lwer rk ',\n",
       " 'chck w   g ve b elf bu cpre  he rgnl  cn ck up  rber ck   hrrble replceen fr e kngh n jcke n  whle funn ju cn cpee wh rne ngerfel   webb  funn  beng he nl chrcer fr he rgnl   f he her chrcer n he ve lck he punch f he rgnl  henr wlcxn fr exple  excep fr he hercl funn lwer peer blun  beng ple b rn qu  ever lne he  ren e f he rgnl hur  epecll he cene  h ffce   n  g n fr lw u r n   fn u where u lve n ce  ur hue n be wn ur r wh  f   ng bebll b  ke  bnfre wh he chppnle be r h glen rerever  rff rff rff  hen e   n hen   cn  upr junr  n   grbbng u b ur brk brher pj  n crng ur brn new bw up ur gh      we hve n unernng    ffeng h ll rle hwever   n cr  wh  bvul n replceen fr bll urr  h vce  ben rrng n everhng he e n even funn   ju up  verll chck    g ve  bu n cprn  he wee rgnl  ju cn cu  ',\n",
       " 'hnel   h hr fl uck  he u ue n he necr cene  pre well e bu ll phn enugh lkng  run he vewng experence  he unerhe v  crp n cler n  hven  e up  n f h help r hner   f he fl w  lle grn  gh hve e e  creepne fcr   wh w gng n   hve n e wh h fl h  uch hpe urrunng  her hn he ubjec er   bu  be hne he necrphl cene n fl lke nekrnk n vr q ng her  re re hckng hn n ferh  ll h lk bu he fl beng bu lnelne n ll her nner f eep phlph  bull      h  n expenve  beufull fle ur    n h hckng    n h gung  f u n n vewng    ren    gve     fr he fc h n n peple ke explc ve bu necrphl  here hul efnel be  bgger elecn fr u ck      he flng  g n  e hve e  gre   f wchng  rubber lkng ll ge cu pen  cnere gre     bu her hn h   bluel nhng gng fr h ver hpe e  n he her hn   gene   cer   equel   ferh  nw vlble    uble feure  relee b unerhe fl   n blue erpece f  hr fl  rell hwng wh  g recr cer rell  when gven he rgh erl  lhugh  n  cre fr ferh  ll  gene   well e h  wll frgve cer n efnel keep n ee u fr h n he fuure   ',\n",
       " ' hugh h ukhn h been wnerfull wren   n ju bu enernen  here  nne f uble ege h  hnk n w rng  brng cr  n e   gh be cnfung  e f u epecll f u n  wch epe n r gubr fr    e   br    br    be u nce hw he ue chrcer fr he w ve befre rgh   rell rnc hw he chrcer rele  lke he b neghbur  h prue fr gubr  n he chck  he nker p urn u  be he relgu n wfe f he pu n n he fuure   br    br   n  bluel lve he vce ver   crue e wkenngl freh  lke  when he k  h f he ruh upngn gn gnbr  hen here w uenl ukhn  vce ng  bllhhrrhnnrrh     he cene when he clbe he ree   br    br    cpure ln  ue n n e l w  nggerng  hw phec    prre n he chrcer  fr exple  even he k cn be rell hrp ngue cplee wh he hrll nnng vce  n pl b uh ppl ll ve lng  n hw u cn be uch  bub n lk bu ppl  when ur wn lfe n  re u   br    br   ll  cn    h ve ll reche  expecn f n exceee    br    br    kep e glue  he creen   culn  even ke  ee ff   n even  ke u n he cne  h h ',\n",
       " '  n  glf fn b n en  n     bu       p he ve re wh  cene n he le        l ve  lke bu n glf hwever  whn he fr cene  ung b  hrr vrn   wken b he vce f en  he ge ue  nqure wh he re ng n  l he re gng  bul  glf ehng       hen  urne he elevn ff bu ehng rre e n  w bck n  he ve  excellen  we hen ee h ung b nw  n  prfenl glf pler wh  hune wh vn fr h chlh  hen we ee he rue fcu f he ve frnc n he ecn he ke fr glf  u ee h her n fher wh wn  prec h fr he cl hng h   bvu urng he per  hen here  lle ee lwer h c wh encurgng wr n lle puhe h re nruenl n frnc wnnng  n  wn  gve w  uch    w up unl      h  uper plee ee he ve ',\n",
       " 'upn vewng be hper  ge  crcle  n        evelpe  gre nere n he cllege crcle nche f he expln ner genre   lk frwr   wwr prucer  fllw up wh everl equel  hee elghful bnbn f cp gne  f nl e w cul brng h uble ene f flr n gn  hee rerkble crp  wh e wrng he crp  n  r full f nkee creng crcle pecl effec n  cpuer  ll we  nee wul be  c f crck fer wh ru eer bre n ren hek pecrl pln  br    br   whle be hper  crck pu reference h wn ve  bl urf che  h u  bunch f gng hee fr he chu bucke f her ve  ee f u cn lk p he revenge f he ner equel e  fn he llun hge  rp ff  jw  eple f   nn jne  l crue  he cnven  gzll       n n je bn ve  l  r  fn he re fr v fe where he er gve up n kng ene f he ck  br    br    w ppne he crck n  ge  r u   vce enr wh  llqu n envrnenl   r crck pprecn  bu he qu cpn hb f he r e ge h ur e frce pech  perhp  n he cng er  we ll ee  crck gllpng ff fer  hu n  glen une  r hpefull   nke wll fluh  crck wn he le f n nernnl pce n fr ge n enj he explve wlz f zer g nke ge crcle blhe  br    br   ll n ll  he lck f  wh br n he urf uc rke e ',\n",
       " ' re  be he epc venure f he cenur  n wh  c lke h  kug  chrpher lee n jhn rh ve  rell  he perfec b venure f ll e    cull   pre fun  whbucklng venure h  even wh   flw  cpure ur nere   u hve fel  he bgge ve ever fr he peple wh e   even f   e n he      en  hve  ern feel   re h he e feelng h  l errl flnn ve h  bg venure ve re gn he bg hng n hllw bu   fr h he feelng n he wll never be he e  hee l ve h  h n he her hn  ju h he rel feelng  u ju cn  he    hnk   n k venure ve  n  rell lve he unrck  n   wn he hee ng ',\n",
       " 'he l hr en fn je cburn n ulw ng  lng enence brekng free fr  chn gng   he n h fren he fr he excn brer fr jl n fe  n he n  becue cburn h  n f revenge   kll he pece ffcer wh brugh h n n n he prce klle h wn  br    br   h pece ffcer  chrln hen wh  nw rere n he knw wh cburn  fer   he expln   h ugher  brbr herhe  cburn w hle up n  hck n w nvlve n  wc lke nff  h nn wn w klle n he hl f bulle fre    n ehng he  pru f  he w  cllerl cul n  nhun  br    br   le we feel rr fr cburn he le u knw full well wh n evl n he rul   hen  h uul lwr her  bu he cng hnr n he l hr en g  je cburn  he blw everne ele ff he creen when he  n   br    br   cburn ge he brgh e f kng ure hen rl h b knppng herhe n kng her  n nn reervn where he whe uhre cn  uch h  he knw h hen h  ke  pernl hen  br    br   cburn  gng nclue  rgn pull  hlu rull  jhn que  lrr wlcx  n jrge rver  hen h chr chu lng wh  h n n lw  be  br    br   he l hr en  ne n n brul weern  nrew clglen rece  n   hnkng   hve been  prjec rgnll nene fr  pecknpugh   ure hw  l f h nfluence wh he lberl ue f lw n  ccenue he vlence  f whch here   l   br    br   fr  lle pecknpugh le  he l hr en  ur fl ',\n",
       " 'be  w he le  r he rler  cernl n he nervew n he v  whch  wh he recr  he keep ng  h  k  n he cer lke  buffn   bu  h expecn fr enrl f  vrgn  be  le  b f lez fun wh e g ex cene n brul  bl kllng b  wer jpnee penerr  urn u   w  lez fr  wn g  r b  r whever  here   prble  n ne cn ee h l n he ln expln flck prn hlcu  lr  h n n repec  n n hvng blnce  he ex n vlence   uch ex n  wll urn n  prpcl prn  n n even wh uch prucn qul n cprn wh  prfenl prn ve  n wh he kllng cene  here h  be  le  lle ck  n be ju  gen f ngenu  n creng he creure kller whever  enrl f  vrgn h neher    fe      pre ulle ve  even f n  ne f he ver wr ever e    here ju fr hrn g jpnee feh  ge ff n grl n ruble n en wh hve ll her brn n her  her  he  br    br   n h ce  we re gven  ph e where he gu re kng e h f e grl  nhng  lcu  n hen b w f  ene fg he  ff  e hue ne ngh n re pcke ff ne b ne b   urerer   he  cree  fr ff  he recr kzu  gr  kzu ece he h  pu n  qu f rn ex cene erl n  we ge plce n  r phne n  ke ur pck  clp f ne f he phgrpher hvng ex wh ne r re f he grl elewhere   lk lke   fr nher ve  hen nce ele n he hue  here    wrelng  cene h  prl chregrphe n h  eh  we rell nee  ee h  ll  here   n hen n  he rpe n kllng  fr he rpe  b he phgrpher  wh pre he grl e jb fr her e  hen he urerer  wh lke    creure  pl cvere n u n gven  up fcl  n wh fr n unknwn ren kll he en n r rpe he wen ne b ne  br    br   nw  he ler f he  ken b heelve  hul be cnere he hghlgh f he ve  h  lke ng  hwever  h he cr n re he be pr f  wrechel ng l  n ee gugng cene   pke hrwn lke n lpc even  h cene  cull   kn f cl   n fnll he enrlng f he verl ex crze grl  whe ncnequenl ne  cn  reeber  even  h  bece ppnng ju b n beng crrec  he le  n p f h  he ex cene  whch bece eu hrugh  gr  n h nulgence n lng ke whu cuw where everhng b he jpnee cenr  blurre nw  re ubbe ver b he cr  u  hnk h he ee  be enjng heelve enugh  hence he nee  le he  pek  fr heelve   bu he verll feelng fr enrl f  vrgn  h f  lup ne  where   ju here  be gwke  n whu  hre f upene r rue hrrr  wch  he l grl lef lve  he vrgn f he pcure  re  p he urerer fr geng  her  whch l fve nue  he keep hrwng ck  h   u ju wn   be ne wh  fr he   he wen  nr  ee up r be r lgeher ',\n",
       " 'he few cene h cull ep  epcn f revlunr ruggle reeble  hrue b cu rp enerng envel beween wng hle  when hrf r  plee g  plnce r her hn  fer rr  he un lke kurz wllwng  bug  he pl f regc brllnce ncrpre  p f cub replee wh lng fhe n he cen  n  pvel vuevlln hphe n hw he b f pg ce  p  wh e h leve u wh  ne ccl enr cene   urfe f upp hllw pen wh re he cer  hugh  were  vng rn  n  ju fr kck   pel f herc h  n le  cr  nc n unreng cgr fell  never ru  eve  bu even  bue clck  rgh wce    h   hrcll wful ve ',\n",
       " 'h fl k e b urpre   ke   hb f fnng u  lle  pble bu fl befre enng becue rler n revew prve pler fer pler  ll  knew upn enerng he heer  h  w  cuenr bu  lng rre cuple n h b reer gve        ren e uer rnke       n he crc verge n zng      f nhng  he unerre h lle ge  br    br   flker ug blck ece  recr h pren  fr per  n  he begnnng f he fl we re ree  he reque nervew wh h pren  upken her n  n le hn frhcng   ke   eel fun h cuple nereng n h n e where he flker  ke   n  n ug  w gng  ke u    er f fc   ub h ug helf knew where he w gng wh h  br    br   lfe ke unexpece w n urn n h beufull expreve fl fllw he jurne    ffcul  verblze ju hw ve  w wh h r n he unque w n whch  w l  bluel rveng fr begnnng  en n  rell   u ee even f u ren   fn f he cuenr genre  h fl wll ke u hnk f ur wn lfe n gh even evke ere h u hugh were lng frgen      brch ree   ne f he rre flgng experence h ke  eep pren n never leve u  he be new f ll  h hb h  hn n he prucn  ne f plng   le r hue uence  evenull  lln f peple wll hve  chnce  vew h ncreble pece f wrk  brv        ',\n",
       " 'ephen hwkng   genu  he  he kng f genue  wchng h ve ke e feel ub  bu    gre ve  n hghl enernng  bu ver ver nrgung  he ve cener run wheelchr bun ephen hwkng   n wh ke enen lk verge  n h here n cenfc cvere bu he unvere  e  he glx  n blck hle  everne  ee r nher urng  rell nene hgh ce   en when he hnk he v g he unvere n he c fgure u n he wer  n  he ber up he ll wre  ll wn  well here   n wh cull hel h feelng fr re hen x hur  here   n wh epe ufferng fr lu gehrg  ee h bece he gree n he wrl h e een  wch h n len n n hw he h frule here n blck hle  wee  u wn  be he e fer u ee  ',\n",
       " 'he r  bu  pchc wn  r  wh reurn  her hewn n begn relvng her ruc chlh p  he eh f her chlh fren n buve fher   r cver h her fren w ju he fr n  rng f urer h re ll ccurrng  cn her pchc pwer help lve he cre n p he cnnung urer   br    br   u rell n  nee  fn u becue  h  g  h w     b   knw ll he nr rber fn wll flck  h ve n gve  n f      hen he re f u wll ee n b cre f   n cull hnk h ve  wrh wchng  bu  n be fle  he enng w precble  he cng errble  n  even ge e re bu he uhern ccen   ll   n he r w re  ju reeber    u were wrne ',\n",
       " 'h g   u hve een h when  w nl    r welve   n  k hw    hve been ung  bu  wn  up  nne cul ee h h   b ve  n  gr  uncr n ver ll   ve een re preve effec  neln   ve een beer perfrnce   chl pl  n  ve een re cnvncng crcle  he z  where he  nhng bu  n he wer  gnrng he chlren ppng n he gl  br    br   he r  e n nrhern url   hnful f bu ung peple  re rng u  new wer pr  urfng n hrk flle wer   n bece even h ehng re ngeru  n he wer  fer he lern wh  he ge he help f  grzzl le ge fhern  wh wn  kll he nl  venge he eng f h fl  br    br    hnk  hve een ever crcle fl e n he l ffeen er  he be f whch  lke plc  n he wre f whch   equel  bl urf wul hve  be he ecn wr crc flck  hnk  wh prevl n crcle lng clel behn  br    br   he urln lwer crle  ne f he  ngeru creure u here  reulng n re hn  hunre njure r eh ever er  ve lke bl urf hwever run n nl he fercu ge f uch  creure  bu  g hur n  hlf f he vewer  lfe  unle u rell wn  ee   v bl urf ',\n",
       " ' fe  le wler prrw  ce n pen f  eru nvel h h eere lre n cnnecn  h lfe  ll be run he nuber      he r unfl n rel lfe n fcn  prrw u fgure u h cnnecn  he bk n hw he r wll evenull en  br    br   he nuber    ffer n nrgung pree h  unne b  wek execun  he fl ju fle n n fferen level whch  pre ppnng becue  hel  uch penl  he creenpl w prbbl he wr pr bu    w flle wh ll equence n lughble lg h ju klle he  f he ve   eee lke he creenwrer h  g e  he ju n  knw hw  evelp   rech ver  nne nue runnng e  he ecn hlf f he fl w runnng lw n e  he w w pre bvu n he enng w wful  br    br   jel chucher  repnble fr ne f he wr ve ever n he  reee helf  lle wh phne bh n  few her fl bu he nuber    ren e h he  ll cpble f kng  nker  he h he ve renche n le bu he ju cn  ge  g fcu  he ve he fl   clunk n lw pce  he wche fr rel  wh  cull hppenng n he bk whch quckl g nnng  he cul bk n he fl h  le  he nuber      n wful eecve r n he uence ge uck lenng  crre nrre  whch ju bre e  er  when crre  fnll ne wh bk  we ge uck wchng h run run rng  lve he er   h pn  he uence h l nere n here  n rel enn  we penl w fr he ve  rech   hrrble enng n uncnvncng explnn befre celebrng h fl h fnll fnhe  br    br   he cng w l verge n pre frgeble  j crre w clerl ju leepwlkng hrugh h perfrnce n he n  even ee  be rng  he w eher cpleel ver he p n e cene r ju ver wen  h nrrn w  cplee bre  len  n he pu n lfe ne h chrcer  vrgn en  he be he cul wh  le rle bu he nee  pck beer crp  lgn lern w pre bln  w nn hun  verll  he nuber    w n wful hrller h ffere re lugh hn upene r hrll  rng     ',\n",
       " 'we brugh h fl   jke fr  fren  n cul f been ur wr jke  pl  he fl  brel wchble  n he cng  re  he wr chl cr ever ue n hlehff gvng  ubnr perfrnce  he pl  grceful n  pn we w  bre we w wnerng wh he hell w gng n   re  be gruee n plce bu  ju lughble  br    br   ju errble',\n",
       " 'h w prbbl he wr ve  hve ever een n  lfe    w up here w n pl n he pecl ffec were rculu   n  hve never een uch b cng n  lfe  he nl g pr bu he ve were ll he h gu epecll rew fuller    n  knw wh hee peple were hnkng when he e h ve    n  even wn  fnh he whle hng becue u ge  h pn n he ve where he gu re ll n be uchng heelve   en  w lke e kn f ck n we k prn   wul ve nne wh h her f h ve n w neree n eeng   ju frge bu  n fn nher ve  wch   w ver ppne   he whle ve w  cplee we f e n  pnn ',\n",
       " 'h   pcl eele nvel prucn n h w peple wh hve unergne e r f rge nge  ge geher epe he    wuln  cll h  pler becue nne wh h re  eele nvel knw hw he ll en  f u n  wn  knw uch bu he pl  n  keep reng  br    br   glber  chrcer  phel    wn f french ecen wh h l her hubn n n n n ccen  glber nee  p ng fl where he  requre  hve n ccen becue he  herwe  g cre  cnn relcll pull ff n kn f ccen  br jhnn  l n excellen cr     wh  recverng fr  rher n vrce  he  genle  cnvncng n cpellng n h rle  br    br   he w ee n he bech hrugh her ugher  pp  n nll  phel ccue  f beng  chl leer ju becue he lke r wh he k  ll f he bece fren fer h epe n hen he cuple fll n lve  br    br   he cher beween he w le  n gre  even hugh he len f hee w peple  n  n  pnn   quen  he  he be he cul wh  precble pl n  crp h brer n erepcl  w peple ee  rge  bgger rge   ecre  revele  nher rge  n hen he ge geher   wh here w re   hn h  bu here   n  nuhell  br    br    wne nle enernen  n  g  wh h  n regr  he genre f rnc fl  h ne fl  be erble    ecre ffr  wh jnne urner  fr uperr  n  eele bk    re e f eele  erler bk urne n fl ',\n",
       " 'h ne ne f hee ck f he jpnee gh grl ve     n  even reeber hw n  ve een  be  ell    bu n  e  n cr  ll  he jpnee hrrr ve re hve been ver lr nce he fr ne f hee    l he pullng f he k   hve een h pulle uner cene  n e n  n hrrr ve  cellphne cene  l nhng new    he rcne f he gu geng h b  rn kn ucke     en  lcke ll rcne    k h  fr k       wh len  jpnee rck n hnk he re  unque    we ll le e ell u  here   lln f u   h  ne f he        ve een wre bu u wn  be ng nhng b n eeng h ',\n",
       " 'nchl wlker  pul  he lcl wn revern wh  rre  rh  ll hee   bu l   hbul wnzer n ece  fke h wn eh  run w wh h curren ffr  vernc  r nvch   hwever n  ng  he ge  bu f ne  hence he ne f he fl   ll krkln  l n hn   crz l c wh pne fr he g revern n  he f  er  pe f w      ee  pre g c we lke h  n he le b jhn vge n  hrrl frgeble rle   h prve nvegr  n  fl blle    blck ce   ne h  brng bh eleen n  ve  whle h e brng he frer n pe   l cnn nne f he ler  furherre u cn  ephze wh n f he chrcer n  hu  hve bluel n vee nere n he  echncll n n ll geher b ve ju n exreel frgeble ne  br    br   ee cn  r nvch ge ple  ll krkln l hw e kn  br    br    gre  c   br    br   where  w   hwe hwce',\n",
       " 'hllw ve nur  he lze ne n he enre wrl   nl nee  ngle h  fl heer wh he e l crp re nvene ver n ver gn  ke uperhere fr exple  fr ech x n n pern  here re reevl  elekr  gh rer n hulk  jpnee hrrr reke re even wr   nl k he rng  whch w pch perfec  l becue f r  gre verbnk    brng  n f lk lke creep wn be hrrr  e g  he rng    he ee  rk wer  whch w fne  bu pnle   n he gruge  br    br   he fr gruge wn  enrel b   w cr  f he w  whch  wh ne cul expec fr   plu  he pl h e brn xng nrrve  gruge    excl lke he prevu  h cul be  g hng  bu he  wh b en n blck   w   nce hng  xerx he enre creenpl n ju chnge he vlln  fr he gruge    he crc ge he e w  br    br   re cre  b cng  excep fr ber bln   n clch  ll ver he plce  hree re ke plce  n fferen plce n e  here  ubre  bln  nvegng wh rve her er kren  rh chelle gellr   eh  lln  relle kebbel  wh  ken b cllegue  v he hue where he ncen epce n he fr ve k plce  n fnll  n ercn fl h wne rnge uff hppenng n he pren nex r  gl    n  en   h everhng  e up  he en  bu ne u n rel n he en  ke  g pcure  when everhng ele  pl ree n ull  br    br   he chll re ll ver here   grl lne n he lcker  ene wh huln  ener  hue  her h g  eep  enwhle  gh keep kllng n kllng n kllng  whch ee even re eler hn en wrl wr r he ebl epec  he  en  h ee ju lke nher b jpnee reke  ehng clle pule  eh   fer    geng eer  hl  gruge    gn hllw bullh ',\n",
       " ' wn percpe  h been n ur lbrr nce  fr rrve n vh  nce hen  we hve cqure he v n  gl fr cne nw  br    br      qurk flck h e n g lrl verbr  eher pr r cn    fr n fre  ce n   vehcle fr he n chrcer    que urpre h  equel h never been ffere  br    br   he ve h gne  fllwng h brer n  cul ben  even ng he ver ung   bece wre f h whle vng he u ru n ble  lb n        grup f cub cu   grnn ng he  h ll ken up he rle fr he ve n plnne  relve  urng her verngher n br  br    br      fun rp h ke u pru bh f ur nv n hllw    whch  rre cpn  br    br   hnk  kele grr  luren hll n rb chneer fr kng wh cul hve been n herwe unrerkble ve  uch gre enernen ',\n",
       " 'f u ce here    becue u ve lre een h fl n were curu wh her h   bu   br    br    feel fr u    rell    n  prfuel plgze   cnn  becue h  wh we   h h fl ever h  cr ur ee  f nl fr  en   her here  n cure fr he renl bleeng repre u f ever zen ce  br    br     lke everne ele  rene h ve belevng   be e up b ve rpff f ble   hugh   ure  cul ue  g lugh   up ve    ll gve he crer f h fl ne pve cen bu her  cren   hnk fr revng he rec xx xx xx fr he b rgh hn crner f he creen   cn ee hw h wul hve been  rcn fr eeng h ve  br    br   n fr he recr    w  he ve  bu  n wch   he lgue w ncheren n  f he cene k plce n  grnher  rler   wer  g  br    br   u knw wh    n wrng nre bu h    ju  pnful ',\n",
       " 'enn urbn  nn gre n brbr re re  hree r grl  n h unverl fl fr       whch nruce enn urbn  fl uence   l r r lln  ch uer  chrle wnnnger  jhn kng  bnne brne n lce br     wee r bu hree ung wen  nw lvng n wzerln wh her vrce her  wh her her fher  wnnnger   rrng gn  n hvng een h n    er n knwng her her ll lve h  he br  hp  erc  wh he help f he huekeeper nnn  eerne  p he weng  relzng h he nene  clle  precu   brne   nhng bu  gl gger e n bee b her her  br   he rrnge fr her  be nruce   welh cun  h  rrnge b her fher  ccunn  kng   he n he che   full e runk  uer   bu he grl ke h fr n cul welh cun  lln   wh  e  br    br   h   elghful fl  n clng r verl ugr  ll  wh e nce perfrnce  prculrl b uer  lln  brne n br  he ung wen re pre n ll  g wrk  he eph  f cure   n ung urbn  wh   nurl cre n  beufull rne nger  n fc  her vce   unger  uch re even hn  wul be  n ul   he h n ruble wh he hgh ne   he  ler n becue he pu  uch wegh n he le vce  he ng  elghful  l bc  n  plce n  br    br   ne f he nce hng bu he fl   ee he fher  ple b chrle wnnnger  n wn h chlren run   unl he ee he n ge  knw he  brne  he gl gger n  ll h ung  bu he grl  her lk w up here   he nference prbbl w he ler n eekng h uh wh  unger  re glru wn  n fc  he fn he uh he w eekng n h ugher  br    br   unverl gve urbn he bg r bulup here   he h he fnl h n he ve  r lln  h pn w ll png h ue  n  wll prbbl be  urpre even  fl fn hw ung n rcve he   br    br   ver enernng n f cure  h le   equel n bg r fr enn ',\n",
       " 'f nne  wnerng wh n ne ke ve lke he ue   wh cnvern  chrcer n  ple hee f frenhp rugglng  evlve n ehng new  beer n fferen  he flk nee  ke n h fl n ee p nch wrng  recng  n cng h el n  wnerful evenng f bervn n hw hng ue  be n l n engln  her   her e funnele n  errfc ce f enernen  e n      wh lfre ln  jn plwrgh  pll wlker  je lwrence  j brben  rn rchrn  n chel kchen n he jr rle  uner he bruh rke recn f ke newell  hee cr ccplh vvl erble perfrnce h re phgrphe wh  ublel uble pner  ee  rencen f he hercl ber frce f he urn f he cenur  h fl gh be clle  frenhp frce h bece  wrhwhle experence n he grwh f he rnc nure whn ech chrcer  n he vewer    n rc elegr n he prnce f crng bu he run u ',\n",
       " ' wche h ere u f cur wnng  ee f he cul pbl n wh ll h ern echnlg u  cecl b  elle  clc epc f       rrng chrlen hen ul brenner n r cerc hrwcke  f cure   w le wn  e  he h ll he bblcl chrcer crrec  bu he n  gve u n f he pecculr hercl cene  h hel ur nere hrughu he fr ve  f u gng  hve  n ere  u hve  hve e  rvng  cene  he  burnng buh   prng he  re e  rwnng  phrh re    bulng eh  pr   cul hve been ne wh   echnlg n he cle f blckbuer ve uch   lr f he rng  r he rx  bvul  he n  wn  leve  lng pren f  fh n crfce   whch  uch neee n hee ruble e ',\n",
       " 'nel  lew  he  verle cr lve  englh rcrc nb n  r wh  vew  pne rh hef n n he ne f he fher  n puen  vlen bucher n gng f new rk  n  perfrnce en e rnger hn rn br  n he pn  n  he urgeu cr brwn wh cerebrl pl n  lef f  ju  ne  few   h rle ll nfluence echher  bu ech  epere  n uerl unque  he chnge cpleel  wh ech chrcer he ke n  n   begnnng  beleve h he cn c  nhng  nhng  br    br    cr brwn he  unnng  he e n rcule he chrcer  n he e n p he chrcer   ffcul cheveen  n cr brwn ce  lfe   r n  n urgeu n  hun  br    br   h ve  epe ll cene rnn ful n he lke   n nprn  e    precble  bu   upl enenl  n   lughe   cre  n  ngle en f cheee  prf h h n   hllw ve  br    br    fvure cene  he cene n he reurn  when cr  cung pner wh eleen  peer n her fren  here  where nel  lew reche n cng clx    ll kck u n he nl pr f ur n h  ne    wheel u he crpple   n h perfrnce never lw wn  never fler  n  beuful  pl  he h  l f creen e here   wch  gn gn  n  never ge re f cr  perpccu ee  wchng n guurl peeche  br    br    u ee  f h   ',\n",
       " ' gue wul be h w rgnll gng  be  le w pr  n hu  le  qurer lnger  becue herwe hw cn ne expln  cnfue  bbreve rlne   w never cpleel l  bu  w fen prll l n uull uncler n chrcer vn  he ve feel  hugh jnng pl pn were rppe  queeze  n  e l  br    br   f  were lnger   gh ke re ene  bu  ll wuln  be uch g  he ve   nereng e  f he wr beween zeu n her  beng  wr beween he le n fele  bu he ve rp he bll n h  kng her  fllwer frl hrrble whle n beng cler n wh zeu  fllwer  r beleve  he ve  l nereng becue u n  ee he g n here  n rel cern h he ex     g  cuple f nrgung e  bu  en   nhng ueful wh he  br    br   b lg  crbr chrcer  n ne nereng cene nvlvng hercule n h hree ngnc n  n unwchble bu l n wrh wchng ',\n",
       " 'well   lke  wch b hrrr b ve  cue  hnk   nereng  ee up n unbl f crer  h erul g ve    lw cpre h ve    fr exple   e pelberg  wrk n gn n gn n  unern he huge fference n wh  ee    lke e w  ve cue    nep   ver funn  bu peple     he chllng   n funn n  n even  nereng     exreel brng hrrr ve whu nhng wh ke even b ve wchble  here  n cng  n creenpl  n recn  n hrll n n even bl    exreel nep eurh fl    efnel he wr ve  h ever een  n  h een  l f  wr ve    beleve e    wrne u         ',\n",
       " 'h  he wr ve  hve ever een   well   he wr h  wll prbbl ever ee   ee n nee  rehh wh ll he her hve  prevul  ju be frewrne    br    br   h  n ne f he b ve u hnk u wn  wch becue u wn  be ble  ke fun f    ju pln b b b b b  br    br   h ve  he equvlen  hvng   pe rck   ur fren  u w n w n w n w n w n w n w n w fr ehng  hppen  unfrunel   never e   le wh  pe rck u knew wh u were geng n  ln  ge cpleel eceve n h bbhell    n   h   er  fer wchng h fl  u wul wer gerge w  buh h h hn ll ver he kng f h fl    e  h c  br    br    w  unle f cure u ju wn  wch he wr ve f ll e   prbbl hw ln  ge fgure  wul ke e ne ff h pece f rpe ',\n",
       " ' hve been  r fn fr  lng   cn reeber   hve ver fn ere f plng uper r wrl   k  h ge h brugh bck n f he ere whle ng ehng new  uper r glx  he le nllen n he zng r frnche  here  uch ver fferen bu h ge fr n her r befre   whle ll keepng nc he gree eleen f r  he fr nceble fference  h he r ke plce n pce  br    br   he r begn uch lke n her r ge  r receve  leer fr prnce pech nvng h   celebrn  her cle n he uhr kng  upn rrvng  pech  cle r fn bwer n h n  bwer jr   ckng he cle wh her rhp  bwer knp prnce pech n hen lf her cle up n pce  n he  f he cle beng lfe n pce r fll ff n ln n n unknwn plne  r  fun b  lkng r ne lu n  ken bck  he lu  he   flng pce n  here r ee n her lu n l ee her leer   wn ne rln  rln ell r h bwer h ken w he pce n  pwer r n cere he cr he unvere    up  r  help he lu fn he n ve pech  hu he venure begn  br    br   he w u pl he ge  b flng fr he pce n  her glxe  ech glx cn f ulple plne h r rvel ng n level v hee hng r  rereve he pwer r  r cn  n e wlk ll he w run plne whu lng grv  e plne re ll n her re bg  n plne re lr  clc r envrnen  he be hng bu he ge re he cnrl  ll f he uff lke jupng n uch  ll he e  bu he we  ue n n unque w n h ge  u hke he ree r wll perfr  pn h  ue  he prr ck n he ge  n  wll  well cve he hng r  u cn l pn he ree  he creen n ue he pner  fre r b  enee r bjec n he envrnen  hen here  he grphc  hee re b fr he be grphc n he w    ju  hr  ecrbe hw gre h ge lk  u cul prbbl l   lk  g  e     ge  br    br    nl nr grpe  h he gng upe wn effec ke e geng ue   n l he r  pre wek  he wr pr  h u le ll f ur lve when u urn ff he ge  n er hw n u h when u l qu u rer    lve  ll hee nr prble e    uperb ge h  hghl enernng n  ver chllengng  h  he pe f ge h we ve been wng fr n he w  br    br    perfec    u f    ',\n",
       " 'h hr fl h npre he n  be full lengh feure   pul ne     hlru pece h cnen gn lr crn elng ulple wrer  he hr fl r ewr he pul wh fer beng fre fr h jb  jn n he fgh gn he evl pn  h pree llw fr e funn cnen ner he begnnng  bu  brel preen fr he rener f he feure  h fl     nue runnng e  brbe b e  bll ce n  ll ucl nuber  unfrunel n uch ele le belw   he pl h  e up en  rell hve e  hw  bu   urel fllw  pl beer hn n hgh buge hllw fl  h fl  wrh wchng  le  few e  ke  fr wh    n n  expec  eep r ',\n",
       " 'k  l ngh  ugu   h         h he nc pleure f eeng r  vn bebble   hwng f he fl he nn fl  he hree penn n chcg  pr f he chcg unergrun fl fevl  here  wh  hve   bu   fr f ll  he fl  n bvu rp ff f ever kenneh nger  rn plnk  lver ne n err gll ve  ve ever een  ecn f ll  n  hr q    en fer he hw r  vn bebble eel e h he never e n cnc wh he cul nn fl eber r chrle helf  cllng he lr n ng he wne nhng   wh he  h he fl w be n h  vn bebble   ke n he rl hvng een  ll fr h lvng r n v n n he new  n   ung fr he ubgrph n he bk heler keler whch were recl cke hrugh he nrrve     h ecn b n quen   ke f he w rng  preen he uer  v  ex rug n rck  n rll vern n n necerl he rue r  h quen bvul pe ff he b nw lhe recr wh re hung  f    u  hu he f    up  h  he ruh  ll he her ve re bullh     br    br   well nw   n  even hnk bu hw rculu h w unl he nex  when  re he glne fr he fl   u ve her he lw e f he r   nw her he r    l b he nn fl   excue e  f h gu h never even pken  he fl n cner he  be lr h he en  wn  hve nhng   wh  hw n g  ne cn he ell he r fr he   h  he  rculu een  hve ever her  he fl w bvul cere  he ex rug n rck  n rll uence h  h n ruble n rcng  he ll  l l here  n w even re bvul pwne b he ex rug n rck  n rll n f  n wh culn  even wch h wn fl whu geng up ever en nue  g ge re beer r  hu e r f rck hrrreque cll lne  he cr n creen  h fl ccplhe lle re hn wrpng he publc  ge f cul even  whch helpe hpe he e f erc n uch f he wrl   n e r f lher cc bk prn rpe fn ree up b n bvul hllw nvul  br    br   he fl w efnel ver preve  lk   he unrck w refrehng   cnne cul ple f chrle  wrk wh he fl ff f h le lbu  he eng w nce n chpp  ule he nueng uncern f  ern uc ve  ll n ll h fl wul hve e  uch beer n  he clgue  v hn  he unergrun fl fevl r fr h er he n f n nellecul berver   fel lke  w   ngh rck hrrr vewng he w he uence w ree n behvng  prbbl he be pr f he experence   he c w ver g wh he excepn f chrle wh reeble e r f ne ungen n rgn enhu re hn he cul rle he w prrng  he ecrpn he fl gve f h  full f energ  hrwng en hng  u n beng ver phcl bu  ll he whle  n ch  ll he lw  lehrgc  n chubb repreenn h w cull preene  br    br   ll n ll he fl bcll expln elf  e  r be  w ln  eclre  he en   u cn wre  bunch f bullh   bk r ke  bunch f bullh   ve   ec  ec   ce n pn  even he cler  be n  rue r    e gvew  gnllng h ewhere beneh h pcheelc grbge hep l he funn f n cul r wh cnen h wll ke n h e  fference n he wrl  ll u hve     lle b f lche  epre he ruh fr he he crp  r cull  be u cul ju v  ll geher n g re  bk ne  br    br   ll  cn   h  when he fl ene  g  free beer    gl  wen  bu n  gl  pen ffeen llr n  cke  be l  hu he f    up fr kng he recr  quen  pece ',\n",
       " ' bugh h ge n n pule bu fr wlr    gl     w ver enernng lenng  en cnner n plng he ge   hugh he grphc were he be  hve ever een n  ve ge reke  he bnu level were ver hr  he nper ne  hnk w  hr   e e  frure  n  pl he ge fr  week n  hlf  here were  n peple hng  u wh nhng  he behn r lfe  hnle    br    br   he nl hng  gh chnge w he upgre e   n  nce n fference fr un upgre equpen  he upgre  uch  bung n rr upgre n  ee  ke he rr rnger r re fllng n  lfe eer   rell lke he q cper   hnk he evelper   g jb ',\n",
       " 'n  h hlrul hrrble     e fr v hrrr clnker n  bu  el encll pee eer cke  ll  h excepnll wful  e unenbl ung n hu enjble che r refue reche  brehkng pex f blue  unreng llne n rcune h  que  n   execrble   wnrgh wee r f w  rchr crenn  lkng hggr n pbl nebre  n vee eux  wh c  f he never g ver he brul rpe he enure n  jckn cun jl   lugghl prr  gungl nce n repecble uburbne cuple whe qun  ull  leep ll wn exence ge rppe uner when he cue gern hepr he ke n  he fl pe urn u  be e ncen lehl evl pr  pre n eux n her w repellenl cue k k rchr n ke eennn  he pchc len ppe fr he ne  wch unn  pcure  re wrhpng  crue crn rwng f he n  ugl cnne en n he en  b  nw en  h un rell cr n urbng  well  cr n urbng h lughbl lucru clprp ure n   bu  ure  funn  hnk  cur   ngh e   hrrngn  hpelel wek recn  crnh  n   pecl effec  n l pnfull rble n rculu pl  n  ge c h ruggle vlnl wh he bur r  bee he le  bh rne bewcke n r g  rrng brefl pp up  eber f  nc cul n vcr jr h  nce ce   helpful nve ercn hn   fvre cene  he lcu ephepheln u pu he wh n crenn  prccll frcng h  ck h hn n  wll pnnng lwnwer ble  whle uck up nbb frgh fl fn  hl her ne  he perfecl pur ench f h el ell chlck  evu v rh lver hul ee h enerngl bnble ffl he bb ube equvlen  lp ',\n",
       " '  e  ell erl n h ve excl wh wll hppen  n wh wll e    bu   wen n  n wh n  vcn  h w e urng he en f he ulr nz evene  when blne wen were uppel ulr ercn urvvr n brunee were ll eervng f eh  br    br   h ve  lke he her f h er  cnrve  brng h bu  n he vewer knw h  here  n er r upene  he peple qubble  bu everhng   precble fr he prejuce f he e    lughble  br    br   he fve peple hppen upn w vge ung chrcer  n g nu  everne  nu   h he recr wrer e cn juf her nz prpgn  br    br   fr e ren  he gu  rce  he blne  wh  rell n uch  lk   n gnre  uper h lkng brunee h n heerexul n wul g nu ver  ne u reeber h n he evene  ve were en  ppel  wen n n en  br    br   ll crp n ll epreng ',\n",
       " 'rn ve r n h rerkble ce  hw peple  relee b g n       ve pl  hck fr vnnh  gerg  wh rrve n hllw wh her fher  ell henern   he jlp he rrve n   h     ve urgeu uhern cue  ve ln  jb n lpck ce  n wh he wn  bu  brng her ucce  he ee fellw lpck r wll hne  wh  eel en wh her  well  ve hen ge  jb   re pregu u   hgh r u   n ln  jb n uff per pece   hne bu fke cr  nre elefr  hw her he rpe f hw  be he pcl preenu hllw r  ve bnn her lpck fren n fher fr he g lfe  bu f cure lern h  n wh he rell   rn ve  wnerful hrughu   he   urgeul   run he gu f en requre f   eru  cre  wll hne  h uul wnerful cec elf  n here re ce b chrle chpln  jhn glber  n her fu r f he   nclung he recr f he fl  kng vr  h   len fl wh  few  un effec   un pcure were ju cng n her wn   reure f  fl ',\n",
       " 'he perfrnce f ever cr n cre  n he fl  re excellenl nurl whch  wh ve cng hul be  n he recng kll   brllnl hnle n ever el h   never re f eeng  ver n ver gn  hwever    rher urpre  ee h h fl  n nclue n e f he cr  n recr  enbrugh  cre h puzzle e  ren  he pru f kng  cl h he hve e uch excellen  lng lng fl fr he uence    hpng  wul ge e nwer   puzzle fr e ne  pbl ne f he  knwlegeble  pernnel  ner  f he fl ',\n",
       " 'whle r rek he n pcure w l brng  r rek he fnl frner  pln b  n h errble equel  he crew  n hre leve when he ge  re gnl fr he feern h br repreenng erh  rulu n krn  he klngn he wrl  hve been knppe b  renege vulcn ben n h que  n  rhp  venure n he gre brrer  here  he hpe  fn g  ung c n b wrng  he perue n f he enr ffcer f he enerpre  ber krk n ge  hl f he hp  he  rech he ne f he gre brrer n fn  plne where he  ee  g lke len  h ne   b   hr  fgure u where  begn   he cre   g e h  never rell evelpe  he pl ge nwhere ne f where n n h gne befre    l lke he wrer h n e hw  en h fc  he cn cene n  hve he upene f wrh f khn  he phlph  brng  n he hur  le  nw  wll fcu  f  nger n wll hner  when he ke he recr  chr  he eg ge bgger   f he fcu  n h  pck  n cc  bu e n gve he her enugh    rever  where hner  uull gul f ver cng n prevu ve n elevn p  he  ju pln b n h ne  nw krk  reckle   prccl jker  n ll  ne f he wr cene nvlve he hree leer ngng he ng   rw rw rw ur b  n  run b  cpfre  n n ce  h  he wr f he r rek frnche   hul hve gven  hree u f en ne f fve ',\n",
       " 'epe ler cl  h erl lke elr h ver lle n cn wh  czen kne      bpc f  ruhle bu hun fcnl plucr  l n flhbck bu hppng run e  he crpwrer  pren urge  hw nne f h ler gf fr prklng lg  n nne f he r cnec nnvn f  kne  re even  ll    ver wchble  wh  ung pencer rc  h l n keup ke h lk ju lke  well  n l pencer rc  hwng eph n uhr  n clleen re     lle p her pre  n n phcll well che    plng  ulfcee wn behn he n  here  l helen vnn  ne f he  recheru fee fle n ve hr  enng he fnl hr n ecc p per reverbern  he urvvng prn  jup n h ng u nppe  n here re e pl hle lef pen  hw wul he knw whe n  w f he  leepng wh bh f he    n he uc  wfull hke  fr ll h   w que fcne ',\n",
       " 'h  he be vern   fr  h u wll ee n he  rue  he brne wrk  ln   lle ugh  gne  rcheer wh jne ere eclre  n hne   bu h cng verce h n zelh clrk  pre  he    l  cplee n belevble jne ere  h prucn   lengh wch bu well wrh   nerl rec que fr he bk re n he crp n f u wn he ver fr rue  rnce  n lerure  h  he w  ee    wn ever cp f h ve n hve re n re re he rgnl  he flng  ee  lle e nw bu here wll never be nher lke h ',\n",
       " 'pprenl  he peple h wre he bck f he bx  n bher  wch h  clle  ve   he ecrbe  blnngl chregrphe nrgue n vlence    w n  nrgue    ne w  erble ep  lgue n  uppe kung fu ve   w n  vlence    le   w nhng whch cul cue e  upen  belef   wh cul pbl hur  n wh  pervu  kn  bu here   perhp revelng  uch f he  pl   furherre    vewer f n n unr fl  e f whch nclue he ccnl kung fu ve    cn uhrvel  h h pece f cellul  unwchble  whever u  che     wll lw ren br    br    crrec  br    br    jnhn nner  br    br     br    br   p    w n blne b he chregrph ',\n",
       " ' lke ble  perfrnce  bu h  bu he nl pve hng  cn   everhng w verne  he pn f bur   f he cr pke lke u wul expec ur   er l nephew  pek f he were preenng  be  je  ne here cp  r n ulr evl vlln  he rp vce ver eee eurh  e   cul g bu  chep nhezer n crnk u beer penng uc  n wh  wh he whle     h plce rure uff   w ll uperfluu n h nhng   wh he cul even f he r  cx e  l f hng  n fc  h he pprenl hugh wul be rell cl  bu h nhng   wh he r  h   bg ppnen becue ne f he hng h ke brge  re  g  h nl    he re ghl bun  wh n uperfluu el  h ve  ju he ppe   ppe wchng fer he cene where lnnr  quenng he gu fr he che zung  r herebu   we    renng h  bu  le  cn ge e fcn fr wrng h revew n hpefull vng her fr kng he e ke ',\n",
       " '  errfc when  funn ve en  ke le u  wh  p   h fl  ver brng n  lng    pl pnfull  he r  ggerng whu gl n n fun  br    br   u feel beer when   fnhe ',\n",
       " ' well e  n cg crp  h nne ele been n he  jupng crc  ur f rwn  ele rver befre  blck wer w w relc  rgue w  b crngewrh  br    br   hugh he blne chck w excellen n    hven  rell een her befre  n he her chck   bbe  he  lw excellen   br    br   v  upeneful    wul cpre   jw ver n her n eng nl flck   br    br   g he hle ue hng wn p whu gng  wh ruh n crke   well   br    br   lve  ',\n",
       " 'he gnen  n unng hrller wh everl pl w rven b chrcer  rher hn r urn  he nee  ge pecl effec  blgr rnce  n enle cr che  hwever  here   cr che n here  n  n    n qunn  wnerful  bh he errr n he nvl ffcer  recrue   elne h    rre h  ecn r hr er cr  uch  qunn   gven n prn rrng rle lke h h crre  fl  uull  uch  rle  gven  n  l cr wh bx ffce rw  whch  prbbl wh  never her f h fl befre  w   nl uherln  gre  he rll bguu  ewh creep  e  gen h recru qunn  ben kngle  fne l  he rel gen  he pl  ver cplex n here re ulple r lne  whch cnverge n grul fhn wr he en  n n ll  nce  we re ue  eeng  he prn n clurphb f hee pe f hrller  cpure n prre wh bh rl bgu n frghenng nen  he lcn re cnvncng n effecve  he unrck  nhng pecl  bu rrel  we ge ll f he bve enne qule hee   whu ub n r enngle pl evelpen  uncnvncng r urn  lu  nnng  uc ve pe unrck   vlln h h  up  n repeel  c  cue  n pl h cer l  n uence uner     h  n unng hrller  whch  urel  n ge  ju ue upn  relee         f   r ',\n",
       " 'h  ne f he fne ve  hve ever een    he rk cener   he ln   he gnrn bge peple hng behn her relgn    bckrp fr e wrlne n phcn   he cng  cpleel nurl   bu fr e   fe  he be  he cul chng n preprn f he fe   hve pen e n pr n knw he cune well   wheher r n he cfe ngl rell ex  n  knw bu   knw f lr eblhen n bbee  enu n chce f wne re uhenc   n f cure he en where epe heelve he perfec el ellw he bck  frenhp  he nl enng here cul be  h      u f    fl n hul be een b nne wh enugh brn n e  unern ',\n",
       " 'e n he       he ecn er f he french republc fre fer he execun f lu xv  h fl prr he pwer ruggle beween he revlunr leer nn  gerr epreu   h fne  n rbeperre   cnng perfrnce b he plh cr wjcech pznk   he ere revlunr nn h reurne  pr fr h cunr e where he h been nce beng epe  leer f he cee f publc fe n he prevu er b rbeperre  he  ppe   he regn f errr  whch h reule n he execun f hun f czen  nl b gullne  wh re hugh  be ppe  he revlun  nn  cnfen f he uppr f he rnr peple n re  perue rbeperre  curb he blleng  bu rbeperre n he cee re fr h he ppulr f nn wll le  he beng verhrwn  n pu nn n h upprer n rl fr beng rr  h w he fr french lnguge fl e b nrzej wj fer he h rrve n frnce fr pln  h plh fl cpn w cle wn b he gvernen ue  h uppr fr he lr re unn  whch h ppe he plh gvernen n he le evene n erl eghe  h prevu fl  n f rn         h el wh he lr unn n  leer lech wle  n   e  rw cprn beween he relnhp f wle n he plh leer generl jruelk  n h beween nn n rbeperre  nn wle re he vce f ren ppe  rbeperre jruelk wh cnnue crl rule epe hvng l he uppr f he peple he cl  repreen  he fl  be n he plh pl  he nn ffr  wren b nlw przbzewk n he       n n  relee he fl w crce b e fr beng c n hercl  bu wh he fl e   cncenre n he behn he cene eeng f he cee n he cene n he nnl ebl n he curr rher hn he cve n he ree f pr ',\n",
       " 'uull    b f  fn f he b eghe   erl nnee fl feurng nw h been   bu h fl   ncrebl errble h  w  rel enurnce e   hrugh  gu reng up  grl h been ne  eh   bu never  phecll  cre h  perfrnce w bl  uul  ncle egger w n uch beer  h h n reeeng qule  even f u re  nuber    fn f n cr cre n h pece f rh    w ',\n",
       " ' hve nw een que  few fl b per l vr  bu h wul hve  be he  ppnng  fr  h fl eee  lck he znne h  uull everwhere n h fl  n he r ju never g e neree  n l vr regulr pper n h fl     n lke here w  lck f n creen len  bu h fl ju eee re eru hn h her fl  f here w  cec ege  h ve   cernl culn  fn   n  e fr ne urprngl wek ve ',\n",
       " ' grel enje rgre w  nvel  he rbber bre   n  w hrlle  ee here w  ve vern   wn fre  cp bfren fr her wn urer  n h bu  n ex cp jurnl  re  cler h ne b checkng up n he e wn  crz fele fren    frune h he ve crp fxe   w  clu plng b fcung n he r f hee w en  vc f cheng wen    br    br   heh  k  u g e  f hee gu re enne n he bk  n   pre ure he re enrel e up fr he ve   ll e he u cver f  hrbck cp  pprenl  he hree n fele chrcer f he nvel ren  enugh  crr he ve  zen  npuln ren  nereng unle we ee he hppen   n  n  n  lfe  crewe up  rz  chr  n n ell her re      n  becue   n prn f  n en  her he  br    br    lke he chrcer n he bk   hur  ee he puhe ff  he e fr  n  r   nrll  n lk fr fen ngle n e  n  re  enj he ve    f  hn  re he bk   gh hve enje he ve  l re   f u lke he cp n he ex cp  n u wn  re re bu he  u re u f luck  re he nvel  f u wn  enj lucu pre n chrcerzn ubl lere hrugh  pl    he e pl  he ve excve   rne   n prnkle  wh le ng    lke zen  revenge n rgre w ',\n",
       " 'h ve ge     becue here   l f gre n  wh cre bu he pl r he cng h  n ln hrrr ve peple  u knw u cn  expec uch fr he cng r he pl everb knw fulc k fge fr her ve n e   h ne nce  never een n f he ve h he k fge fr  n  er  e he ln gfher f gre u ne helf wh h ve h  ne f he gre ln ve u wll ever ee n gre hun hul be whu h ve n her hrrr ve cllecn bu h ve n er wh    hrehun re ce rue ',\n",
       " 'ngr bergn  plng en wler hu  fhful recepn wh hrbr  lle cruh n her b   bluel wnerful n h fl  he hnle he w repree n he crp wh plb n el  errfc cene where he n gle hwn lk n  recr bh  ngr  nlgue   frn  bu her fce ell u he beleve n  wh ll her her   hu  n  chce fr he leng n  he   l fr gle hwn n  unrefne fr bergn  n  enn  unfcue  be  en   bu  lke he w he re hr  plee gle n uble run rng  free helf fr  le  hwn  wh wn  upprng cr   ju  freh n bubbl  he    h ber frce n  errbl phce  n fnl ren ne f  n wene  bee   bu    welce relef fr he n  een rene cee he urn u    ccu flwer    lvel gh      fr     ',\n",
       " '  bre elevn recr  nruce  he blck r n rl prjecn b h grlfren  lernng he bl  epre h pr fr h b  he n fn  renewe nere n h lfe n  ene f wellbeng  unfrunel  he n cver whle he  leepng  h pr leve h b n h uncnrlle b r he ree n  ureru rpge   ccrng  he v leeve  np  br    br   he np n  enrel crrec    urn u  br    br   nw  he ve pen wh  zzng  u f b  exple f hne recr wnn reker   pul hrpe   newl cvere  rl b  experence   l frehw n upcng gfgh  ung nrew benrk   hew hrpe   beng  k  rw pcure f  he blue n    h urer pree begn  hne eecve jhn nvk   ewr kufn  cver he vc re cnnece  r  reker  r  nvk  nvegn le  he upernurl   pre exple f whch  kren blck   jnu   wh wh reker fer he  fllng n lve  br    br   everl n he c perfr well  bu   he blue n  wn up ng elf up n  kn  k  eernl evl    unfng r re  be fr  clever fr  wn g ',\n",
       " 'h e he         e f regnc n l   chuck n  h f her cn r hng n  ree jungle blwng w ce    he e  culn  beleve hw ve lke rb   ng n cn n uncn vlr   n wh cn frge he rculu re wn     e ne  he bx ffce   he re urg cn crp fe wh  rher ff pung rgh wng gen n he hve e ver bl   r  wr   ngue n cheek ke n hee pe f ve bu u ve g  k urelf  he nee pfng n he fr plce   f cure n   r  wr lck n r f phcn   hugh  e ke he pn h here  n rel fference beween rgh wng rn n lef wng ne   n ee feel re lke  gre z ve hn  en up   be    ',\n",
       " 'h le be n w egr llen pe pece   he fll f he hue f uher    nce f eh   pe     cull que creep fr begnnng  en    lr  e f he l blck n whe ve bu peple h ee n n l ecrep hue  fr exple   he c n he cnr    he l rk hue    ngh f errr  n  n   br krlff pl  eene nvenr f lfe ze ll h errrze he gue  he e erl n he fl  r e he     n he reen f he hue re ubjece   nuber f errfng experence   wn  g n  uch el here  bu   efnel  u ee fr fn f l rk hue ere  br    br   wch  wh plen f ppcrn n  n  rkene r  br    br   n bnger     ',\n",
       " '   hpp n urpre h here   uch nere n h ve  jck fr w  nrucn n he fl pruce n rbue b  px enernen  n whu excepn  everhng h cpn el wh  pure crp  fr  n h  ver prn  never ever wch h ve ber  wh wul u  unlke n her enerngl b ve  h ne  feel w e nennll b   ju cn  ge ver hw fke he nwn   whch  wh  lw hwn nl brefl  he w  ve  he be  h ve  w beer hn he chel ken pece f crp  becuz h w e  be  g ve  n h vern   b  h ',\n",
       " ' revl f he zbe  prve h hvng he e recr revp n reccle n e en  necerl ke lghnng rke wce  br    br   he hlpern brher  repnble fr he hrrr clc  whe zbe   e h re pece f grbge  ere few er ler  ch n n  ppulr n even reccle cle up f lug  ee fr h prevu fl  here w  cur ble wh he  whe zbe  fl  rgh wner  wh n  wn he hlpern  be ble  ue he wr  zbe  n h le  h wr w he nl hng h cul help h fl  becue   everne knw  b fl cn ke uch re ne pl b hvng he wr  zbe  pper n he le  knwng wh vcr hlpern w cpble f  few er befre nl ke h unnereng fl re nulng   ee he never rece nher hrrr fl fer h ebcle  he zbe here ee n  be rue wlkng e  bu pl hpn vc  br    br   wnn cree  n cnrlle r f zbe  be re  crck  few egg  nclung ur wn  br    br   he le pl  n fll n lve wh cheng wn wh pl wh h her n bece engge  h nl  ke h fren  wh he lve  jelu  h en n n  prl f ne n whch he re ung zbe n cnrl echnque  chnge hng  h vnge n n ep  wn ver  wn wh n  wrh p  br    br   h nclue ne f he  blnl bvu pl evelpen  ve ever een  u  hve  be bln r up n  ee he enng cng  he cng n  even g  h ve ke he rcll nenve  kng f he zbe   whch ppere n he e uble bll v  bugh  ee lke n pherc hrrr erpece b cprn n ren u h n ever blck n whe fl   clc   ke he c ge c f len zbe cheee fe  nvble nver  ee lke  eru r  h  ne bg bll f cheee  rculul elrc  cul prbbl ke n  kren fl fn wch  uh kren fl re fen knwn fr her ue f elr   he cre l he rncll ne cpn fvre fl    n ure whe fvre fl h wul be  bu he re bvul n   br    br   n recene fr fn f  zbe  rnce  r clc fl ',\n",
       " 'he cpln re vl   e he bgge prble  h h p per   e fr wen    k wh hee ngh e p  lke gre  n  r ugl be  r we wng  becue here re re h re nereng even wh he gven h he wll never en  hwever  when he e prllel he e p e  ju pung hunk en  e gg   l  n chr lwell  n exul enn n rp  n nueru rculu ffcul un n   clle lle hpl   ee lke generl hpl   r  fele cunerpr  bwch  h w wh en wne n he h    f h  wh wen wn  be   bu he e h h   hgh brw hw  r ehng en wll wch   unrelc ',\n",
       " 'h ve w ne f he be ve h  hve een h er   n  ee n ce n he ve  bu   ll pre g    lr  nchrn n he hur epren  bu  hnk h   beer pu geher ve   cull h  pn  f u re gng  ee  whle bunch f   u wll be ppne  ju  well pu geher ve     f u hve nhng   fr he  r u nee  l f hur  u wll fn h  be  rell g ve   efnel hnk h eber n reper  revew f h ve  rgh n   en   n  rell lke eber n  ve  bu h  he ve h  wll gree bu  he ve cnn  g enugh r h   cull belevble h hee pe f peple re u here  here  efnel ehng  be  bu hw he re vrgn n h ve  e  ure  u ge lughe  when   fun u bu  bu  ll ugge h u w  eve   wnerful jb f prrng he pern h he  n h ve n e    ll funn ',\n",
       " ' reeber eeng h fl n he      hugh   well pce n well ce pece   nw wrk que fen n berkele qure n he h  ge  cp f v  ren elf hw lle he re h chnge  lhugh  ffce  newh  ju    ecn w fr  he bnk   even jck brcl cr elerhp  ll here ellng benle n rll rce  br    br     lk lke he v  ue  regn   relee n  he regn   cp   ver pr qul  le  hpe he ve clene  up  br    br   nl he lghl g ecpe equence fr he cur pl wh wul herwe be  gre fl bu  gue  n lne wh he cper g he fl ge wh ',\n",
       " 'w hur g  w wchng h brlln ve whch verwhele e wh  prnng phgrph    que unernble hw  wn he prze f be cer n cnne       cle up prene   cle up f wll  hun n f n her hng  he wr clre lghng  whch  l uull b he recr  gve he ve  wr phere  nl w pern re prncpll  be een n  f   n nereng uc n epecll hree ng r hee ccpne he ve nerl ll he e  ech ne f hee hee repreene  cern phere urng he whle ve  lence n lw veen chrcerze he ve  e cene were exene en r  eru f cle up  n nl n leung eerve  prze fr h uperb cng nce gge cheung w l  brlln   wner hw n ree he w werng n he fferen cene  he r w l cnnece ehw wh he hr f hng kng n he regn he       h prevene e fr unernng e el f he  epecll  he en  n hr  wul recen he fn f rc ve  wch  n he cne ',\n",
       " 'luckl fr bll urr h  uch  lgh wegh prjec nce he pre uch h  crr   ebll  he r f lw ren cp nrhr n hw  cunelr el wh he cper  well  ne nher  hen here  uch e f her welh rvl fr cr he lke ne cp hwk whch culne n  w  lp cpen  bve  ll  bll urr clwnng run n kng  pre erble fl ebu  br    br   he fl  prnkle wh eu ze lugh  chuckle  n re hn  few guffw lng he w  he bgge lugh ce fr he prnk ple n he ner cp recr  hree f he nvlve he cunelr vng h be ue n vru lcn whle he  leepng  r  r  ck   everne cll h  wke up lng he e f  r  rung up n e ree everl fee bve he grun  n fnll flng n  rf n he le f he lke  here re l e funn en nvlvng he cunelr hng n ne nher  bu h   pg re fl wh lle n he w f runchne  br    br   he fl ke  eru ne nvlvng  h cper ne ru wh  ple b chr kepece  f cure   up  urr  ech he k hw  pen up  n gve h he cnfence he nee  run  rhn urng he lp  he enenl f ru  un ee cke n   gre egree  nce hw when urr fr ee he k ng lne n he gr fer geng ff he bu he ell h   u u be he hr epree k we rere   ke u wner f h lne w rell n he crp r urr w ju  lbbng whle he cer were rllng  n her wr  urr gh  well hve   kepece   u u be h cr we hre  pl he erepcl lnel k u ee n  uer cp fl wh en  f n   bu befre   ll ver  urr  perfrnce ke h pl evce re hn berble  he rell ee  hve e g cher wh kepece  br    br   he fl culne wh he ge beween he w rvl cp  ver lle f he even we re hwn re even lghl belevble  bu   ju en  er   h   pre g fl n n level  n  le he bur     rng h fl  currenl geng cre u ff  urr wll keep u lughng hrughu  ju be wrne      v he equel     epecll he ne wh cre feln     f    r  br    br   he hun ',\n",
       " ' he nh blerunner   bll e n he bx  re u kng e   h fl   cplee rg  when   hr n g fr   n he kchen   uull pue he vcr    wn   nhng  n h e   cull fun elf lkng lng n hr n he frge  ju   wuln  hve  g bck  wh he hell  here n ne cencefcn crpwrer u here wh h he vgue clue bu hw cpuer wrk    nbgglng  ne f he pree f fl   h ur her  wh   hcker   h  lle cpuern  help h  he crf ffce pperclp fnll cugh n n he fuure   when he le he n n he ve  he  helple n cn  ge n n cpuer  he   hcker    lke ng  h u cn  rve ur cr  f u n  hve ur luck  rvng cp  n   wn  even g n he lghnng effec when he receve elecrhck   ',\n",
       " 'h ve hw  clp f lve nl uln f n nl geng hcke b  chee n geng  kn rppe ff   knw hee hrrble hng hppen n he wrl  bu  wchng ve be n he fc h wh  wchng  n cull hppenng n he creen  hee lve nl clp re n en  be n ve  he re en  hw peple h belng  cern rgnzn  help he hrrble hng h hun   her pece  br    br   h hul be bnne n ere   hve l cnce neflx n her reurce  cllbre geng h ve ff he rke   br    br   h ve hul be reve fr he publc  he pern wh e h ve nee pchlgcl help ',\n",
       " 'nne wh hnk kl e ee  crl l  n cre feln cpre  l f g cr u be kng ehng   lve  r ee  where  begn  lu unrck  h cng   cn  n plce  h  he pcl eurhl wren hck fer h whe up h been n never w  lve  r n   cull fel ebrre fr he  r  n h  fl   he nl hepn ng  p h ur w gr clen  wh f he wul hve been n he ve  wul hve e   le ewh hwlngl b  rher hn ju pln b  br    br   here w ne pr n he fl where crl l cree    u hnk   n      e  crl     ur gen e  n plee fr he lve f ll h  ecen n hl    g w n p egrng urelf lke h  h fl  ehng nn ncle h wul ke pr n  br    br    wul ell u wh he pl w  bu h wul be ne re enence frgen  h rcle  plu  n rfe n e urng he ve nw    brel p enn ',\n",
       " 'h fl cul hve been  ecen re ke  n gh knw  re  r   englh re   eblng lene cr geher wh  ucceful   experence wrer recr hul be  frul fr  ecen fl  bu   englh  experence   ccrng  her b b    excluvel le  elevn wrk  n   glrngl bvu hrughu h fl  br    br     urpre h nne f he revew  hve re enn wh  fun  unlkeble bu h fl  n wh kep  fr rechng even  prn f  penl   lke n fel lke  w e fr elevn   gve e cre    englh  n f he jke h pl  n wrk n  ve creen wul hve been errfc n v  n be  lugh rck wul hve helpe    uch f he cer uge n he lghng wul hve ple u fne n v bu lke wkwr r  n  bg creen  f he whle fl h been chppe up n  n ere r   c   hnk  cul hve wrke  bu h  cne n l   englh  len n  rnle   crnge   n fferen pn n  ebrren fr he cr   he wrer h  fel lke  ce u f he heer hlf hrvele  eg rn  her uul perk  cue elf  excep fr he wful plc urger he h h n her fce   bu where  he hve  chnce  ue her len   he h e fl where he en  recree her ere pe rle n ne he well    bu n here  nnee benng eee  pl g hrugh he n   uch  gre len n e uch  pr perfrnce   enje he her wen chrcer bu he were re crcure hn ubnce  n  w   ee  wh wrke n h fl n he      en  rnle  he       n n ne helpe   englh ge he chnge   upe r ublee rgh  f nl he   wrer  recr n prucer  h reche u fr e nce   hnk  cul hve been g  bu  w n  br    br      frurng  g   ve h h g r n  g wrer r recr n ce w feelng  w  we f everne  e   ne  h new rker crn  w eer  pprpre   few ve exec re hvng  eeng   he cpn re   le  reke  clc wh wre everhng  ',\n",
       " ' fn  ver nrgung h lee rzwll  jcke kenne  er n he cun f hee wen  wul encurge he le   ke  bg ee  n  lle ee  he ubjec f  fl  he cernl cul be cnere he  kelen  n he fl cle  he exr feure n he v nclue everl cneprr fhn egner creng e f her e  hee bll wen     h nne neree n fhn wul fn he cun b hee egner fcnng    e   re he nu  r   ng ehng     h ve  hr  ce b  neflx e n hve   fce e  hugh ',\n",
       " 'c n gu e prevu revewer hve nerl wren  nvel cenng n h epe    ju n l     v hw   h epe f r rek  nble becue f he  eru bbe  en brrw   ever ue n r rek n he fc h  w fle n  rel ur lcn  unlke he ng n vger ere whch were ll cnfne  un ge  br    br   h ue f n ur lcn  n bbe  gve prper eph n n l fl lke qul   que rnr epe f h nw e n ver flr hw  br    br   excep  few nble excepn  e  he c n he ege f frever     gnen erh  n  rrw  eer  he l ere f r rek nee  be erul h blle n pu u f   brng er  hlf  zen g epe fr     que  pr bng verge  br    br   h  pcl f he brng uff gene renberr pruce bck hen cull  cnrr  ppulr belef where e peple wrhpe he grun he wlke n  he cull e  l f rubbh  he en  eerve  be pken f n he e breh  rwn llen fr exple  br    br   ju lk  he e f he brge f he enerpre fr  ern pn f vew  he ue wbbl plw fr he flr  cfeer chr wh plc bck n chep crbr bve he nruen pnel  u cn clerl ee he fl n he pper   ever expene pre r wh  ',\n",
       " ' ju wche h ve n   preer ngh u f cur n heer nlg   lke  n lve   rk   n    k  l fr rbn wll  zn energec perfrnce  h ve e e reeber wh  w he rgnl hw gre  n rell  bu rbn cernl w  whch brng e  h ve  br    br    w plenl urpre  expecng nhng re hn  pn b nuber chrnlgcl reellng f he hw  whch n  w  w   bu  f cure  he rel fcu w n rbn   w nereng  ee rbn  jurne fr rugglng ree jeer  nnl  v r  n hw uch  rc fference ffece h n h lng ufferng wfe  n  h  ff  r chr npul  he prre r  wll wh negr  env  n her  n ju  cue pren  lhugh  w even e n   n n unrele ne   nce h rbn  ruggle were n e w lr  n kufn  wh w uner pprece b newrk  v  n hel bck crevel  bu h  he  x  behn he cene bpc   br    br   ll n ll  h w  ver enjble flck  n whch  fel  g  knw  lle re f he n behn he rkn  he cng w l b ll  never elrc lke  upece  n he r ve lng well  perfrnce h were prculrl g were b he wh ple grr rhll n jhn beluh  he cene n whch beluh heckle rbn w  h    n  gre erpece b n en   wul hve lke  hve een   re bu p wber   bu efnel wchble  epecll fr he rbn wll n  rk   n  fn u here  nn  nn ',\n",
       " ' cugh h fl n zn n cble   une lke  wul be  g fl   jpnee  green cr    cn    ve ever lke n n fl  que he cnrr  e f he  ncreble hrrr fl f ll e re jpnee n kren  n    huge fn f jhn w  hng kng fl   n n vere   lgh here fl  lke pp r chung kng expre  w f  fvure     hugh  wul lke h  well   wul rher l  wr n rnk  wn bl hn wch h lbru  bl ce fl ever gn  br    br    hnk he recr even kzk u hve pke he wer wh qulue  becue n ne n h fl h  pernl  n when n f he chrcer  r  c   ppe  ublng  lne r w  her perfrnce ce cr  frce n ncrebl fke   hnel  n hnk h nne h ever ce befre   he nl pern wh une genune w bren k    fn  zng h h  pre   ce  becue  n  lugh nce  even re urprng  h cb rnng new clle h   refrehng breh f ce    w neher refrehng  nr  breh f ce  n he enng w ver precble  he prevu revewer u be n   hnk uch hng  br    br   v h fl unle u wn  ee  brng precble pl lne n wen cng   cull hnk h  pke f bennhur    beer ce fl hn h   n  wlke u hlf w hrugh h fl ',\n",
       " 'befre  begn  le e ge ehng ff  che     huge fn f jhn ere  fr fl prjec  hwcher  he fl   b gre cr f bh he ernr   e hr   n be he wrk f  cnec genu  bu   hugel enernng cn fl h bece  cul h    pwne w equel    pn ff   br    br   juge n jur begn wh jeph eeker   cnvce kller wh w en  eh rw fllwng h cpure fer he  clle  bl hu   whch ee lke  pr ne fr  kllng pree   eeker kll hree peple whle rng  rb  cnvenence re   beng le  he elecrc chr  here  n ung cene where eeker lk  he pre bu lvng fr ex bu eeng h ne rue lve  wh w klle urng he hu   expreng h revenge fr he pern wh klle her   chel lvn   whe up fbll r wh pen h  wchng h n lex prccng fbll wh h hgh chl e  n en up hrng h n  cch   bu nce execue  eeker reurn   revenn  r  kell perne cll   hburger whu he fre    whe le    ge h revenge  whch bcll en kng lvn  lfe  er  br    br   le e pn u he fc h juge n jur  n  rue hrrr fl     upernurl cn fl  wh eeker chng lvn  ung h bl  chnge fr  whch un  v keh reng up  everhng fr n elv pernr   french chef  wh n ccen  b  h uche    rg queen   clwn    n up cen    hgun whch fre explve run   n nvulnerbl  eh  lhugh h en  p rn kve fr hng keh wh  eer egle    p lvn bck fr kllng eeker  wfe  br    br   recr jhn ere e n ee neree n chrcern  ne fcung lel n cn cene  whch he fl h plen f  bu h  he fl  n flw  nce here  nhng  cnnec he cn cene geher  he cng  urprngl g  wh keh elverng he be perfrnce  uppre bl b kve   well  pul kl  wh pl he whe up cp que well  kell perne  nnng  he cbbe wh re  help bu ke he un wre ',\n",
       " 'e lu  fl purple buerfl p  ecre rgnzn  purple buerfl  gn he jpnee frce n wr rn hngh  ng hu  zhng z  n her ex lver hehk   ru nkur  fn heelve n ppe e f he cnflc fer  chnce eeng  br    br    gree wh he revewer fr pr  he fl ubue  cnvlue  e hrcl cnflc fr  pl  whu gvng he uence  ngle ren  cre bu he chrcer r her cue  he uen e hfng en  help er   pper cpleel unwrrne n pnle  nrll  n  n rk ve  bu he bence f lgh  he bne jrrngl hk cer fge  n he generll b fl kng echnque rell ke h  ugh fl  wch n  neree n   l gree wh he vewer fr gerg h h fl  h  chc eng le n clurphbc cnegrph   bu  n  hnk h help he ve  he bckrp  he fl  ne f he  pen even f he   h cenur  n  n  beleve u cn   n juce b eng   f  were  chel b fl  he verl elrc en n     wchbl  br    br   he cr re ll ubl elnchl  zhng z nce gn hw h he h n excepnll le cng rnge  he pen he enre ve ng wh he ee   be n ll her fl  brng n lkng generll nne  hwever   le he  e vre  h rle b chnkng n enggng n he wr lve kng cene nce chel behn n ln hln n he ernr  br    br   ll n ll   ver ppnng fl  epecll eeng  hw  ce fr he recr f uzhu he      ',\n",
       " 'fer herng bu gerge rwell  prphec erpece fr ll f  lfe    nw     bu never hvng re he bk    ll cnfue   wh  ve ju een  br    br     ver flr wh he cncep cvere n he nvel     ure  re  bu nl hrugh her n que  whu h le knwlege h fl wul hve been  cplee er  n even wh    ll n re euce bu he r f      hn  w befre  wche   br    br   n he plu e    br    br   he cnegrph  zng  hur   burn elver fne perfrnce n he verll feel f he ve  wnerfull gr n ele  he prue cene w  fncll rk pece f fl kng  br    br   nw fr he wn e  n here re plen    br    br   here   wr gng n    le  fr  he prpgn  cncerne   bu wh   wh wh  nhng  explne  here re  cuple f ne bne bu  eur ec   bu he en nhng whu explnn  br    br   wh  wnn  wh e he   where e he ce fr  where e he wrk  wh  he chngng new repr  wh n  he n he frn lne  wh en  he e he f n he cneen  wh  h rnk he  rnkng hrugh he enre fl  wh  he  wek   ll  wh n  he brnwhe lke he re f he  wh  he el wh h her   er  wh hppene  h fher   lle bck r wul hve been nce  n crub h  eenl fr he lke elf h hven  re he bk  whu   h  ju  cnfung n hr  fllw r hue ve h cnnl keep u gueng  wh  cull gng n  br    br   he unrck w  jne n bl ee n he cnn cher fr he bg brher creen wp he lgue n plce kng  even hrer  wrk u wh gng n   ccep h h  hve been n rc chce bu   ver nnng ll he e  br    br   l   knw h h been enne befre  bu wh ll he nu   ju eee ll gruu n fel lke  h been hrwn n here  ke up fr he lck f n pl cverge  br    br    pernll cn  be he w hllw feel  h  expln r lne wr fr wr hee   we re n ll brnwhe plen  bu h   few ep  fr he her w   cn nl gne h  ll rele n he fc h u ve re he bk becue f h fl rell  he  lerl rnln  h  ve een n peple    wul fn  ver hr  unern wh       hle  he clc    br    br   here  n enng h  w lgh er he f   e n h pre uch prece ever chnge n ur ce  e   be h h been  r f bble  he pwer h be    bu n c f nvel hve ne he e whu levng gpng hle n he rlne  br    br    gue  hve   wh  hul hve ne fr he r n bu  cp f he bk f    ke n ene u f h  br    br   ll n ll  ver ppne n ehng  ve we fr er  wch ',\n",
       " 'h cue ne hr feure w cc cn   be bp n henr  br    br   henr  he bl  lghl prl b fr he cc wh never pek  br    br   well here he e pek  br    br   he wn  ge  pupp fr be bp  pe re  n when he  lef  n he re   e hlru hjnk enue  br    br   be ng  ng bu pe  henr ge n  ble wh br n  nke  bu everhng wrk u n he en ',\n",
       " ' ju g bck fr h free creenng  n h   wch prjec   he hn wn wr fl  ve een h er  wre hn even  cwn    whch h he ecenc   le p elf ff  fcn  br    br   n  epeber pe     fl crew  f  cuenr jurnl  he  fghnn   epe beng hrughl unprepre fr he rp  he cnn n  h eh  he pchc n rculu vene f her flker leer  venge h wfe  eh n ep        rck wn  bn len  br    br   he  e  egh pe n her jurne  whch nw  cuen  her rvel n  f cure  her ep  kll he errr leer   he egh pe  hnkfull  ll en  pn gnfcn n he nrrve  whch  cnvenen fr   cuenr    br    br   he pchc  c prgn   wh  gven  lng  gnfcn peeche h he prbbl lerne wchng  cgver    cre nhng fr h wn lfe r he lfe f h nncen crew  he ge he furher n furher n nger hrugh  ere f cpleel ub hp   n  knw wh he n  ju wer  gn n h bck h   h e   br    br   he crew  rnlr  uppel her enble vce f ren  e lle re hn whne n ge bffle  he  her le he n    br    br   u wh he  brugh lng ene n her rp  cll he ll rn  br    br   run  pe      begn rng fr he errr  h he fl crew ',\n",
       " ' reeber eeng h fl n he heer n      when  w   er l  u  he h    bluel lve    w rzn fr he   week fer eeng   clbng he furnure  jupng run kng nke un    re  fcnn wh rzn n nke  bu l enugh  lnger lng lve fr chrpher lber  keep n n h  w hghlner ver hrl fer h        w he l e  w h fl  unl bu  nh g   hppene  be n cble   w geng re fr be        n even hugh  w le n  w re n  h  be  wrk          e up  wch h ve h  lve   k   br    br   upn vewng   relze h  w n h gre f  fl n even er hen h  h ne cwell  vce w ubbe b ene ele  n hle w f cure l  uul  n urprngl he nke u ll kn f hel up  bu wh w  urprng w hw g lber w  rzn  he w gre  he eph he nge  cpure n  few lne  h prl b lnguge n  prnl h bl  brng h chrcer hrugh  exreel lrge rk  were ju zng  br    br     e erler   lber fn  bu   ue  hghlner  he hune n frre  n h fl he w rell que g n    he h he never g  chnce  prr  chrcer wh uch eph gn  br    br     ke  hr r w  lng   w  lle ppne h he fl w n h g  bu  w gl  ee h lber w g n   n regre ng up unl       ee  ',\n",
       " ' fl  rvelng hrugh he  we  here  wwer ben  chrle ben   h grlfren nck  hn cpr  n ben  lle ugher k    ger rechl   hen h  wn ne hllbr where everne c re hn  lle rngel  her cr brek wn n he re frce    he n fn u  wche cven h  pell ver he wn n  up  ncreble evl  br    br   he r  n h g  peple ju fgure hng u f nhng n he ju hppen  fn u where he wche re  he en  l here re  l f lphle lef nglng  he en  he cng  pre pr   ben n cpr re bln n everb ele  bu he e  nl l pr rher rn n l q  jne gve g perfrnce  ll h ve e wrk   frge bl n gre  here  e bu h  pg  n nge  wrk wh e ver creep vul n phere  he cng hper  l f  bu  ll wrk  rn epecll chew he cener n h rle   cn  expln excl wh   r f  lke h ve bu   wrk n e     que kn f hrrr h n  e nre  hrl  erwrk bu h eerve  be recvere     ',\n",
       " 'frnc fr cppl wre n rece h unnngl pernl r f  rre wn  flgh fr her hubn  n he rel h perhp he uhful glee n exceen f her unger er re behn her  we lern lle bu h wn  rrge excep h he h been feelng her nepenence lppng w  f le  he  l recenl lerne he  pregnn  whch h furher cplce her her  he en  wn  be  cplcen wfe  epe he ernl w he pek  her hubn ver he phne   he ee w en n her jurne   frer cllege fbll her wh  fer n ccen urng  ge  h been lef wh pernen brn ge  n  ex  rung rccle cp wh h  gre el f ruble n h wn lfe  he cler  clen lncpe   phgrphe b he ver lene wler buler  re uel relze   re he chrcer  hrle kngh  je cn  n rber uvll ech elver rng  grppng perfrnce   epecll nce hee re n ver lkble peple n cnvennl er  e cene  uch  kngh  fr cll he fr  p phne  r her fr ngh lne wh cn where he pl  n    re l  ne  wch  cppl  wh rel  urnng he jgge ere f h chrcer n crpbk we ve been e prv   he llw cene  pl u  e he eng  que nble n he fl  never llwe  ge  hev  here re  le w r hree ver frk en      he enevr   uch  h he pcure w ll beng hwn  fevl nerl fve er ler  e  hun cppl  unplgec wng f even n rer  unerlne he fnle wh ber rn  hwever he frcefulne n rve behn he pcure nerl blere  hrcng      fr     ',\n",
       " 'h ve w n ver well rece  he l ll regre he bk  gue he were rng   ve e  he nl upe   e w h he cr wh ple fnn w cue  e f he lg beween he n chrcer ppere  lle g whch w n he ce n he bk  jr pr f he bk were nce gn chppe u u l he ver ll effec  w n  hunng  he bk n lef e lckng everel  l he rng lnguge lhugh  w bref w ver unnecer  l  w urpre   n plenl  b  new chrcer h w n where n he bk ne f  fvre chrcer  leper  w prl nerpree n prre  he eee re ner n he ve hn he rel leper w n he bk  ver ll ppnng ',\n",
       " 'he buzz fr h fl h lw been bu he fbulu grphc h ke kevn bcn pper  l  he ppe here  he hul hve cnnue  ke he crp pper  hen he ll e  n fnll ever vble eleen f h fl  becue  here  nhng ele here  hw  br    br   gr hpn n nrew rlwe re le  he wrng cre fr h fl   n  rell hnk he ex   hnk he bugh h crp   crp r u   where u bu  nr blnk  ner ve  crp n ju fll n he blnk  here   ner lkng u  le  pl up   he cull  le  pl up  n h ve   h len gn bug ner nvble n wh crwbr  n e e  burn huge rbb hrk nvble n n unurvvble fre  n e e  u knw  he nr uff  even he nu nuber f eleen h were pecfc  n nvble n ve  r gle  prng wh ehng lke pn  were hnle bl   br    br   wh    h here were l f pble fr h  be  fcnng ve  he pchlgcl ue fr he ubjec  he eerrn f he n ue  he prce  reng n nvble ubjec  n n her e were uche n fr uull le hn   ecn n wul hve been fr re nereng  h here been n ere  ve kevn bcn n he en   wul hve been  uch beer ve  ll n ll   unk  br    br    wul enn e f he ncrebl up eleen f he enng f he ve  bu  n  wn   n pler  uffce    h hee chrcer re  up he n  hnk bu pullng he plug n  chne rher hn   ',\n",
       " ' ung grl bece  wr e rne  pen pl  n when he v  wr  en expecng ene  b re  vlble   cc cplcn enue  ll ulel wrk u well  nurll  bu n befre everne nvlve h hrughl chewe he cener  errl flnn  e n pren f huphre bgr fr  cblnc    hghlgh   re vru en up f h wn whbucklng ge  he  jupng  cene n he kchen wh frre ucker   r     ucker  hugh  wh  uck  he ve uner h r  lwer h he n brrel ver he gl lne  he enre he cc flr re full evelpe wen er ler n  f rp  n pr  lvelne n energ h flnn repeel pl ff  re h wn perfrnce  elenr prker e  fne jb  he wn beng purue  n lle p br chr  ucker  cul pen pl fren   fne  lghwegh  cng he  ce n  geneel eng h chlren n rnc f ll ge hul fn enernng ',\n",
       " 'h ve   perfec pn f he englh flck unfhful  h pl he rle f rchr gere  ern h f lver n lkk he perfec cheng wfe rle f lne he hve chnge he ecn hlf f he fl  p fr he nn e   br    br   even hen he ve h g he full rce f unfhful  hugh  culn  cch up wh he rgnl   w  chep f prn f he bllw lver  where llk hwe  l re kn hn nne re  hw  ern  re rle lke h n w even nckne he erl kller  n he fuure f he nn recr pln  reke  englh ve hen he hve  lk n he febl f he pl wh he nn cenr  hugh he fl bbe  he bx ffce  he cr g he unue recgnn  n fuure he recr hul be  lle re creful n rekng  cr nne fl   br    br   ll   h  n  fl fl   ke he exr cun whle wchng   he wh fl ',\n",
       " 'rber ln  wnbe  new fngle weern fr eun nughn  bk  ccbe  w verlke  he e f  relee bu n he p er h grnere  erlng crcl fllwng  e fr  cpleel cnvncng b wn cenr  he chrcer here n  er uch nere  n he pcure lk  nennll  brckh n unppelng  bere wrren be pl  urn f he cenur enrepreneur wh ele n rugglng cun n he ukr f nwhere n help rgnze he fr brhel  nce he prf r cng n  be  nurll ence b c ugh wh wn pr f he cn  ln cree  len  wnr phere fr he ve whch gve he uence  cern ene f e n plce  bu he cn n h rr lle wn  le   f he r beng e up f vgnee  n ln  pcng  elberel lw  here  hrl  een beng e  ju he ppe  n fc  n he lngu cr re  ech her whu uch n her n     elf efeng pcure  n e  n n ln qurk w   wer efe prul     fr     ',\n",
       " 'wh eee  fr ju nher nrvere french flck fferng n re hn bleful enen bece fr e  n ecn vewng   genunel nghful n que fng preenn  br    br   pler f r fllw  br    br   pr cerc  he pprenl n  knw wh h h  pr uence  we were  fr cugh up n wh eee  rell beuful n rnc r nl  be le bck n frh n he rk rel f ch  hee w gu ju n  belng geher fr her fr bguu encuner   uch  heu n cerc were exull rce  ech her  he bence f  eeper enl e e  pble fr heu  n nellecul beng   fn fulfllen n hrng lfe wh ene whe enble were re une  crnvl feve n rp n he bech  br    br   n  purel echncl ne   lve he cer cn n h fl  uble were ll unnecer  even hugh  french   preque ren    cul wch  gn whu he nnng englh rnln n enj  even re  h w  plhe  ver prfenll e n pcure  hugh n cene ee uperfluu   re  nne u f en ',\n",
       " ' n  hnk  ve ever gve ehng       rng  bu h ne el ge he ennn   fn  hr ju   hrugh ne f h jke    n ju h he jke re  b  bu cbne h wh he fc h crn l h zer chr  cn  e up r fnh  punchlne  n u ve g  le ngh ce recpe h wll rell urn ur ch  br    br    hve wche he hw  never n  enre  bu n e ll   ju creep up n e fer cnn   uull wch  nue r w ju  ee f crn l  ll he wr lk hw h ever  br    br   cull f u ever  ee h nervewng  gue    ju h  n nervew   feel  rr ever e he h  gue n n her cnfue le r  k her b lnguge h  creng   ge e he hell w fr h frek     recen wchng he hw  n fr  lugh  bu  pner  hw he g n he r n wh he  ll ng here  wch  uch  u cn   hnk u wll fn  cplee wkwrne   nereng ',\n",
       " 'n he nr vew  h   purel wful ve  hwever   re  ner perfec cre n he unnennl ce cle   cn hnk f few cul cee h ke e lugh  hr    wchng h ve  n grffh  gh ree n nve ercn grb ncng en e n herc evere   wuln  we he g r energ rvng  he ve re  ren   bu f u hppen  be lng n he cuch    n he rnng n  ce n v  check  u ',\n",
       " 'fr he fl  fr h   ker knghle  elzbeh benne wnerng reng hrugh  fel  wn  hu nvkng ll he clch  cne h evelpe  re he phenenn f he rng ne rebellu fele chrcer n per r    knew  w n fr ehng  ke e wn  kll elf  br    br   je wrgh eee n nl  hve n re he bk  bu  be uner he regreble pprehenn h wh he w flng w n n fc jne uen  uble  nunce ce f nner cnuce hrugh prklng  elce cl nercn n egheenh cenur englh rwng r  bu  r f u cerfce wuherng hegh  hu we were ree  ever cene beween elzbeh n rc kng plce ue fr n ppren ren  n npprprel rugge cener n fen n he purng rn  n  enn h jne uen  n n prculr p   p   n bu pn  exul enn r lve    bu fferen rege f negng he ulfcn f egheenh cenur ce  whch w cpleel gnre   h he benne  hue w  rbuncu  chc plce where everb hu  nce  run run  leve her unerwer n chr  n pg wner hppl hrugh he hue  he ce bll bece rw cunr nce ne ep w fr  rx rele le nce rg  n everb  excl wh he hnk whu he lghe regr fr prpre  br    br   he genu f jne uen le n explrng he v cree b  ce n whch nb  wh he hnk r en becue f n verwhelng regr fr prpre  n he rgc precen f her chrcer re fr unernng n cuncn enble b h peechle gp   bh he brllnce f jne uen n he ver fcr h llw her pl   prculrl n h fl    funcn w cpleel ere  uble n generl w nwhere n h fl  crfce n fvur f n verwrugh r whch jrre enrel wh he erl n he perfrnce  br    br    w  bvul rng  be   eru  fl  he huur   whch  pre   prejuce  bh uen  ehlg n her ppel   w l enrel uppree n fvur f ll h p fce elr  n when  w llwe n  w hnle  clul  pre   prejuce   eru nrrve whch ke eru pn  e  bu he eru pn n wegher hee re n ju nerwne wh he huur  he re ebee n   u cn  le jne uen  echnque  levng nl he bre bne f he r  n expec he hee  ren  n even when u replce her echnque wh ur wn hev hne cl nunu fuxbrw cnegrph  br    br   elzbeh benne  uppe  be  wn  n ul  ure n enble n cler ghe  ker knghle ple he fr hlf f he fl lke n ep hee ggglng chlgrl  n he ecn hlf lke n ep hee chlgrl wh hnk he   rgc herne  elzbeh  w  her cbve verbl exchnge  her quneenl chrcerc f beng ble  ee n lugh  everb  flle nclung her wn  her rengh n cpure  n her fnc cler ghene were cpleel l n replce wh     wh   l f ggglng n rng n he nce  rher hn beng ble  keep her he when ll bu her were lng her  he re  cr n cre  he lghe prvcn   n n genunel rgng  eher  n  hee were peuln h f  n where he gre rengh f uen  elzbeh   le n uen  ee  w her bl  ren negr n bervnce whle renng whn he bunre f ce n unng pechble prpre  knghle  elzbeh h n regr whever fr cnvenn  furherre  he eee  hnk h wnerng run bref n he u n he egheenh cenur vern f verll eblhe her ben ub  pre n rng ne  n herefre nhng n he chrcer  wren r he perfrnce h  un   n nhngl unuble n bln perfrnce  n whch que fr blnne n wekne  he w bl che b hew cfen  br    br   nl uherln  r benne eee wek  neffecul n pernenl befule whu he wcke ene f huur n rnc echen  he expene f hun relnhp h ke r benne  fcnng n rgc  h pecl bn wh lzze   he nl w enble peple n  wrl f fl  w cpleel l  n le becue bh f he were fl n  wrl f fl  n h cpleel eprve he en f he fl f enl pc  r bngle w n lnger ble n well enng  he pn f fll  bu w ple   cplee rer fr chep lugh  n he wn wh w plng jne w  wll ncnen h he   well n hve re   nhng wh he chrcer  ll  he crp veere wll beween verb chunk f jne uen   elvere wh rerkble clune   n ll cneprneu lnguge whch wul n be u f plce n  ern  rnc ce  br    br   ju ge he bbc pn n v n ve urelf he herche ',\n",
       " ' ve lw enje fl h epc lfe     lfe ee h brng pche  n rel pl  n n necerl  hpp enng    rver run hrugh    he perfec ne fr h fl  n nrn clen  nvel   lfe ebb n flw lke  rver  n  h   rugh p  bu    wnerful rp  br    br   rber refr brng  l  he fl  h nrrn h  frenl feel h f he pcure perfecl    recr  he  rerne n cl  n cpure e ncrebl beuful cene   fr he cng  crg heffer n br p wrk urprng well  brher   n  knw que hw  ecrbe  kerr n bren blehn  perfrnce  excep h he rul feel rel    rver run hrugh     wnerful fl  br    br       u f   ',\n",
       " 'he r  ver ruwrh n pwerful  he echncl e f he ve  que fne   even he recng f   he n prble  wh he cng  h urne h ve n l nher lcl n regulr clch  wh  gre lck f pc n even greer lck f pren  bee he ll rle f he fher  rfel  ple prevel b  n   ll her cr were unfrunel n n her be  he rle f he eler bln grl  ple b l hrn  w freh bu whu n nen  he leng rle  herefre he fgure he ce h bece l n lw prfle  here were en n epe h lke re lke  reherl hen  rel ve  bu fer ll    g pn  begn fr n  ke bg prveen n he fuure ',\n",
       " 'h ve w n  uch pre here n greece even hugh  g g cr   gre crp n rher g phgrph w n   clle  blckbuer  ve n  cunr  he ve elf  ver pwerful   bu he hr e h  newcer h  g hrugh when he reurn n h he vllge fer been relee fr    prn e rug  he en  rher      urk  rng  keep up wh h pr n he hnle  pre well    lbrpulu  gre n ver ex n  rnge w n f cure hzvv  fr ne re e cle  excellenc      u f    becue ver few greek ve cn ke uch n pren ',\n",
       " 'er en h g  be he upe fl  ve ever een  bu wh  fl   hugh  w fbulu  excellen n preve   w funn  well ne n nce  ee rculu uper here fr  chnge  n beng ble  pull  ff  h w gre   ll efnel wch  gn ',\n",
       " 'u knw h uhwh cercl where he gu h  uh full f lerne r whever   n he  rng rell hr  keep fr png  up n he nk  h   gre ephr fr h ve   kep wchng  even hugh  w rell ffcul  bu keepng uhwh n ur uh wll leve u wh  n freh feelng  h ve lef e wh  b e n  uh   hul hve p  u when  h he chnce  br    br   he pree  crn enugh  be fun  fr he fr e n lke  hun er  grgle hve reurne  rn  n ll f he pre wh knew hw  fgh n kll hee hng re lng e    up  chel pre n e her ecre gen  ge  he b f hng befre he grgle run k  unfrunel  he pree  cpleel l n b lg n le hn enhuc cng n he pr f he hun le  he be cng  ne b he cg grgle  br    br   n he en  h ve feel lke  pr n  vn helng  f u check ur brn  he r  h gh ge u hrugh  rer n ngh   gve    u f    r ',\n",
       " ' cn  beleve  h w he wr ve  hve ever een n  lfe   lughe  cuple f e    prbbl becue f hw up  w   f ene p e  ee h ve gn  wuln   he pl w  hrrble    e n ene   n he cng w  b h  culn  even ell f he were rng  h ve w errble rng  f',\n",
       " 'h  ne f  rr f ve  where ne f  bwl f ppcrn ne hul wch  wh  ble f vk   be cpleel hne we re  grup f peple wh cull knw he n   grnk  n ece  rnk urelve up  h fl  br    br   he cnec pec f wlfgng ehng  phgrph ee  hve lef u bh cle up n bre   n wlfgng  cllbrve effr revele he pn f he w cree  plc peen hlng pn  here  l beele bngng   vle wul hve pu    h  plc peen  ge up ur bu   he r prn n ubequen r hng  wee   br    br   lrgh   f u re ll reng  le u expln wh we re   grnk eche  nu n we re  grup f her uen  wh  fnhng  fl cl wh her  ece  ge pp  fce n wch here recrl ebu  he l wre upwn grl   cn  ell u hw uch h  been here n ur kull   h ve  que he experence   he ver b f h p wll be  rnkng ge we cree fr h ve   br    br   bu    nue n h ge  nne f u cul ee rgh  he heer un f   n he fr hr nue cree enugh ren  rnk  pcf n elephn here w ehng ecrel pleurble bu eeng w unerge grl h n  kur cbn lklke wh bluel n cnex  ve fr h eru cene  he cnvenence re where he w h  nurll reng  lcl newpper  becue h  wh we ll   he her hpe gle were elghfull ervve f ll  n ehng bu h prvcve cene f he nue chn up b ugge he recr  hr f hexul prngrphc experen  we wh we were kng  br    br   enugh nellecul cnepln  n  he rnkng ge  h wll enure h he vewng experence   pve ne    ver ple  n ver lkel  en  le ne eber f ur pr  ee cre  br    br   he  grnk rpe rnkng ge     ever e u ee nhng rele  prngrph  ke  rnk     ever e u ee ueur  grnk  ne pper  ke  rnk     ex      plc peen  requre w rnk     n e eb pn  gun  nher chrcer  ke  rnk    h pn u wll prbbl nee  refll pee pee n renng bre fr ur b      n e here  bl  nclung  l bl    plee ke  p     he unerue hul hp grl requre ne rnk per ecn     gruu ue f he  gc blck n  requre ne rnk     f u cn  fgure u he hrugh lne  keep rnkng  bech      whenever u re ble  prec  lne  ke  rnk  ru u    e   br    br   h    nerne  keep rnkng  n r n  ge rpe  br    br    hwn rnff punch  jr ',\n",
       " 'even hugh   que ung  he bele re  bluel fvure bn   never h he chnce  her her uc   w relee bu hve lve he nce  cn reeber  br    br     he r f fl h  wrh rng he nce   cn ee wh  wn  relee n he cne bu   cernl  gre fl  pu n he v   w flckng hrugh  v gue n hppene  ee h fl   n  uch el excep ehng lke   jhn lennn n pul ccrne ee fer he bele hve brken up  jre hrr r     never her f h  he ple jhn  r en qunn wh ple pul  hwever he re cernl uneree cr  br    br   he fl h  lw r bu   evelpe   cul ee hw well qunn bu epecll hrr ple her chrcer    huge fn   r f knw wh he rel lennn n ccrne re lke  he crp w brlln n hrr g lennn  ccen  pernl n nner p n  qunn ple ccrne que well bu ee wen n h rh ccen  he ke up r e he lk excellen  br    br   h prgrph  be cune    pler   br    br     enne befre   g ff   lw r bu n evelpe n bece que n enl fl   fun he b n he prk  l we f e n que u f chrcer fr bh f he ucn   fr lennn  rue lne n he ln reurn  ll unnecer  he enng w ver pgnn n brng  er   ee whenever  wch   br    br     que fferen fr he her bgrphcl fl  ve een where   bu hw he bele g geher n bece fu  n he never rell  he chrcer h well  e g   bckbe   br    br   n cnclun   wul   f u re  bele r jhn lennn r pul ccrne fn  gve   chnce u  hve pleen urpre   nl bu    nue lng    wrh wng fr he fl  evelp  br    br   f nne e knw wheher he eeng f      rell  hppen plee en   he  cen pge  fr h fl    be ver neree ',\n",
       " 'n ercn werewlf n lnn h e funn pr  bu h ne n   g  he cpuer werewlve re ju wful  he perpecve  ll ff    lke eeng he hrugh  rng rrr  he wrer ep n he hr f n f her gg  ercn b   prn grl    here  cfe  run here   ne f ju levng   h  he hve  hve he grl gh n repn   h  pr  ',\n",
       " 'rgnll  w  encu  fn f her fr lbu n nurll lene   few rck ff he p    n w rher ppne  fer wchng he ve   vew w chnge  he ve  pre funn fr begnnng  he en n fun  elf engge n  even hugh  w rell w  up rlne becue f he ue h kg n jble prr n he ve   br    br   uch re enernng n enjble hn ve  hve een n he heer lel  ex  w   ull n rggng   cn rle  w  h erc  whch n prr nllen  hve rell enje  br    br   f u enje br  u wll enj he le f he gree bn n erh',\n",
       " 'h  ju ne re f he heu fl h u fn n lfee v whch prr he bhrren behvr f e gung wn n n ephec nner  lng wh her uch n fl   he burnng be    enugh   r  ner   h fl ke  gung crnl n ep  hw he vewer wh he  n uch  b pern fer ll  gve u  brek  here   quen  he flker  f leurneu were  n  n vl were     er l grl  wul u hve e  pcure phzng n ephzng wh h pern  nwer  hell n  br    br   gne wchng he gener n h fl  n hen u ll ee ju wh elf n her here cner h  wrhle pece f grbge  were he gener wche  here wul be n ep  ephze wh he crnl  ne  we  lkel be ree   prrl f  nru n heu n preng upn  ung grl  h lcvu behvr lnng h n prn  n h brnwhe vc ufferng fr ckhl nre  he nl ren leurneu e n receve he e reen n h fl  b vrue f her ex  br    br   le  cll  pe  pe  leurneu   pephle  pln n ple  n f  n r bu  he   crnl wh belng n prn  n eerve ur ern n cnep  bu cernl n ur p r eph ',\n",
       " 'he pree f h ve w ecen enugh  bu wh ub pr cng   w ju bln n ull  br    br   pler he fl e n wrk becue f he nure f he eh   w ccenl   lhugh  w  urer  wn  lke he gu e u     l hrugh e flhbck here   ecre h  revele h r f ke he even lke juce   egree  here  n en n h fl  he fr    nue r   ju h wn cllng her er  n herng her ege   w ull n brng  br    br   wh e plhng  n beer cng  cul hve been pre g ',\n",
       " 'he lve f he n r ff wh n pherc vn f lnn   bulng c f bu  qun ree n unhne   w hpng  wul nn h phere  bu  ge bgge wn n  r h ge pre uch nwhere  br    br   hell wrk fr bg  f r  krv  h cre b ep    le  hnk h  wh he  uppe  be becue   never rell efne  bu he e rp ken n eep f frer   ru e  he   prck  ng crpp lle errn whle h knk grlfren gve  hn jb  ne f h cllegue  runner   blck ue wh  lw hng fr   b  unl he  he ce cr l ue hele chl wh grn h h wh f beng ble  p runnng  runner up he l b n hell  fl  where he prpl r grnng re whe  keen  hve e f h wn ere fulflle  krv h he b knppe  bu he n  ure f wh wul rell brng h hppne    he nncence f beng  chl gn r   nher hn jb  eher w   n  wn  ee he lle b grn h he ecn  br    br    ju ke ge  ge gng n here re l f repeve cene  he enng re  be hckng bu nce here  hrl n bck r n nveen n n f hee chrcer  nl erve   relee fr he bre uence  br    br   wrer n grn   fvure f err gll  re  blen n e kn f relgu llegr whch en up beng preenu  ll hell  rncll  f he gve u ehng re cceble r  le h beer explnn fr he chrcer uenl cng ll wer hen  wul hve been  re enjble fl      we re nruce   bunch f nnng luuh wh hen rculul ee  evelp nellgence when cnfrne b he eru b  wh  rgn re never revele  h  ju pln rrng   br    br   e fr prc en f phere n   cre  h fl h lle  recen ',\n",
       " ' cn  ephze  enugh    n  ge h ve fr he k  br    br   fr h er  u  be pre he ul fr   well  br    br   ll rgh  perhp   verexggerng  lle  h n  he wr k  ve    n  le e rephre h  h n  he wr ve e b lune ul fr lune ul n ehw rkee wr k  h wul be  jck   whch  ve been enng  revew   gu lke  fh   br    br   ul wn  lern nhng urprng  well  f u u  f frwr  ju befre he en cre fr  eucnl b bu n nereng cc phennn   we n  uull en up ng  ul wh we wne    k  rel en  ge n he w  well  uh   cul hve l u h   cn fur er f cllege  n r chl  bu  egre   br    br    hve n e wh he heck k cul pbl ge u f h ve   lkel  wll nl upe he  we ge  wch he en when ru w ruze  egh er l   here   beer ve   kk  elver ervce   h h eenll he e ege bu hnle  lel ne f rllng  n ur he  n he ul wll lke    br    br   b he w  here   en n he ve e wh ure  k er n n  f he hnk f h her bruce wll ve wh   lle k n  ',\n",
       " ' nhng ele n v  re u rell bre  well  hen wch ph bech  hwever  n  ren  n efnel  n bu   h wul be  bg ke  br    br    wche h n v n fun elf lughng  cern pn    n lugh lng n   n lugh hr  hwever  here were uble jke n cen  lughe   f u re lkng fr n exreel funn  h  ve hen wch fr  f u re lkng fr  pwerful enl ve  ehng h h ve re   kn f  wch ehng lke hp re r jn  lrc  f u re lkn fr e g blck  b  g wch  nque ne prn flck  becue he nu n h ve  nerl nn exen  hwever  f u hve nhng beer   n h  n cble  g he n wch   u wll be lghl ue  br    br        u f      ',\n",
       " 'he elegn cuenr   br    br   n  wch h ve     f u re n egcl knw ll uen f phc  h uch le hn ne percen  ncule frcn  f he ppuln  fn h h hw ju ell he wh he hve lre lerne n lre knw  br    br    wch h ve    f u re ne f he ve jr f peple h fll n he greer hn     f he ppuln h e n u r lre hve  un knwlege f he here f phc nclung relv  qunu  rng n  her  br    br   wh  brllnl rchece cuenr  rng wh e helpful hrcl bckgrun u wll be le ep b elegn ep n  unvere f pure gc   n enn ben   hve lw h  huge pprecn f hec  h ve cn el gve u n ngh n wh n exquel beuful lnguge hec  whu kng u feel lke u re bu  fl he gre  br    br   he hw  repeve  e  he rgnl fr w  n ere pl ver hree hw   herefre ke ene  gve u ple lle rener f he prncple beng preene   fun h enel helpful   kep renng e f he ulue f quen n pble nwer h ke up h zng per f ur ver exence  br    br   we re ll  n everhng run u   vbrnl energ wh  nurl enenc wr hrn  h ve  blw ur n   r  le help u relze h he unvere  fr fr bgger hn h whch we ee run u  even wh he hubble elecpe  n fr fr ller hn he prn n neurn whn he  we lerne bu n hgh chl   her hl n gnfcen gnue f  pbl   br    br    ju eee  pprpre h ll f h elegnce hul b   ver nure ve  b n b he n brlln cen preenng  u f he rel f cence n n he rel f phlph  br    br   u  n hve  be relgu  ll  feel lke h ve brugh u ne ep cler  g  br    br   brv brn greene  well ne nee  br    br   p   f u re neree n feelng even re cfrble n  he n ur plce n he unvere n wul lke e re ngh n he  pble  qunu echnc blene wh prul  f ll hng  cn brng hen  hghl recen h u l wch  wh he bleep     wn he rbb hle   e  knw he ke  few ll ke b uggeng  hn  n be ble  ee  b f he hn  een ne befre   ee prce lgh reflecn ju fne    ee hng ever h  ve never een befre  n brn cell re cell n he b h cull n  ve  bu f u cn ge ver hee lle hurle n pu wn he hng u n  lke n hng n  he h u    here   l  lke bu h fl  br    br   hen wch  he ecre        cuenr bu he lw f rcn   erch fr b le             h nfrn ju gh chnge ur lfe prfunl   frever  f u erch eeper u gh even fn he unvere  lkng  u wh hugh  f u ll len    n e re   n h  rul ncreble  here   ern  jeu h buh  he  ng her  h hr ugge hve cunce wh he nn phcl  lve  n he lve n ex   knw e f u knw wh   lkng bu  br    br     n cner elf relgu b n rnl efnn bu  hve never fel re  he r  cfrble n he unvere    nw ',\n",
       " 'n       wh he ucce f he fr en f bn  he ne ere  wrner brher cne he e repnble fr he h hw wh prucng  feure lengh ve  rgnll le fr rec  ve  bu bupe up  hercl u   wul bece knwn  bn  k f he phn  en er fer phn  we hve h n nl hree feure fl relee fr he b  he wb  ub zer  reurn f he jker  n nw  er f he bwn jn he fl  br    br   he pl  bc n n n w lr  k f he phn   new fele vglne elng herelf fer bn h begun rgeng pern run b gh b b ruper hrne n wl cbblep k he pengun  nw  bn u ep  unrvel he er f he bwn befre he cre he lne  br    br   he nn  he leeker  fuurc le h w ulze fr bn  he ne ere  ffh n xh en  k he new bn venure       que ncel ne  n ju  leek  reurn f he jker  nn  here  l e ue f cg  bu   nr cpre  he verbunnce f  n ub zer  he uc w lrgh  fferen n exc n lr  he juce legue cre  lhugh he pn n he cre when he l ne bn hee ce up wll be ure  en wve f nlg hrugh he ler fn  ren hpe her  br    br   kevn cnr   lw  e  wnerful jb  bruce wne n bn    l gre  hve he l bn  he ne ere lun bck  h nclue bb hng  cner grn   rber cnz  eecve bullck   r rng  brbr grn bgrl  her ce hn  he rnc relnhp beween her n bruce h w enne n bn ben   n efre zbl jr  lfre   br    br   vlln were l gre   epecll gven h ruper hrne  he l b b fr he rgnl ere  pper fr he fr e nce he furh en  br    br   verll  whle n que rechng he nr e b k f he phn en er g  b crre n he rch que ncel fr he ne bn fl  n f u hve he v n re  hrcre fn  u wll lve he fve nue hr che e ',\n",
       " ' hnk h ve w uppe  be hckng  bu he nl w n whch   nee hckng  hw hckng bl   been e    n pl     ne n  hlf hur f ren  even re  fr he vewer hn fr he chrcer n he ve  he fve grl   br    br   ure he n chrcer ge her bl pece n  b w  whch  bcll fne  nce    hrrr ve  n   uull  lke hrrr ve   ve n prble wh vlence n hee pe f ve per e  hwever ll he vlence n h fl erve n en whever    n peccle her hn h   pl greque     le  even ge brng  n rell quck   br    br   he wr hng  f he bve wn  b enugh fr   bu h ve  h he ve re  cp he blr whch prjec  b flng wh chep hn hel cer  bu  gn  h   erve n en whever  n he  blr whch   ure enugh  here  n explnn  nel he re her wh  cer lkng fr he blr wch  n h fl  here  n her explnn hn   he  ll we wne h  lk lke he blr whch    he un n he ve  l ehng  ge epree bu  he grl re creng  hercll h n  e u cn  ke u wh he re ng  l  n effr h been e  ke nhng n beer  un we r her we  br    br   hn fnll  here  he unrck  whch  ju  b  he re  n vre fr chep eur hue  he wr grung hr rck    br    br    ve  n  wch h uner n crcunce ',\n",
       " 'wh cn   ve be re  zer  r even  negve nuber  e ve uch   pln nne fr uer pce  re  b he re fun  wch  h  n ne   he ungen f hrrr  gh be he wr ve  ve ever een  e f nw   h  f frwr hrugh  l f     frunel fr he ncren f  uh n enl f  vncng ge  here  be wre ve  ve een  bu hnkfull   cn  reeber he  he e ppere  be e wh crbr n fnhe wh cn f pr pn  he pecl effec lke lke  ffh grer  c  r e n  hebx  he ve cnne unfrgvble gff uch  when he rqu h n kll h ervn  he hen eel ge n  cuffle wh h ecpng vc  wh ke h flnlck n h h wh   whu he gun hvng been rele  h ve w  b  v cp nl h ne cre   gue n cpn r u wne  be ncrne  hugh  gue when u fl n ur grge n ke e u f crbr bxe  u n  neee  h ve efnel rnk n  cellr f ll e wr ve wh uch hrrble crlege   he npulr   he wr ve  hve ever een wh n cul  ne e  hllw leng n cke rne  he nl e  wul recen wchng  he ungen f hrrw   r  he npulr  fr h er  wul be f ene were  p u     kn f chep    hve  hve    r    buck fr  ungen  n  le en fr  npulr   phl he never u f he cn cnegrpher',\n",
       " 'h ve k e b urpre  he penng cre equence feure ncel ne nn  fer h  we re plunge n  e chee prucn  berng  lw buge  he chrcer  pcl ercn een  re nruce lwl  wh re pernl el hn  uull fun n ve lke h  b he e he hlz h he fn  we knw ech ne f he chrcer  n eher lke r he he ccrng  her nc pernle     lw uphll e up  kn f lke he re up  lpe f  rell ll rller cer  hnkfull  nce he cn kck n    full blwn l chl hrrr  eve jhnn  ke up effec re wee  equl n qul  uch bgger bugee fl  n he cre re jlng  kevn enne elver h be ve ever  wh her ppng urpre n creep upeneful e up  he ngue n cheek  ee chee  hur rk h fl  pure    hrrr   ppe  he ullen ne f erler genre fre lke  ngh f he lvng e  r  hll hve ee   bu fr rue hrrr fn  h ne  wrh checkng u  pl   he fr enr n  uble bll wh he      reke f  hue n he hune hll   he e up n chrcer nc re  lr h u rell hve  wner wh fl he were cull rekng ',\n",
       " 'hugh   her h  c e g  w he wr brzln ve f he ece   wche  gvng   chnce  fer ll  fr e recr prucer wrer lexnre ckler nge  ke h ebu feure  h n ve  fr ju u        n    hugh  lk even cheper     cn  begn  gne ll he wen hrugh  fnll ge  exhbe n heer wh n bg pnr r prucn cpne behn   hen   wche   relze wh   bu whever chnce u re re  gve   c e g   he hrnk  zer whn    nue    n unbelevbl preperu  verbe  elgcll fncl n echncll crphc ep  prr brzln upper le cl uh   bunch f ple ne nz hke n b ex  rug n vlence  n he re e  lk lke clee g    e wh n vble rce f len  gnn  expere r nn f rucure  vull n urll   recll he wr eur uff u cn fn n uube    nl here  l nne w  cun e  nue f unrelenng her n clune  n   n even funn b  br    br   we ve ll een he r befre  bre ung gu wn  hve fun  g prng  ke rug n everhng ge wrng    here  gng rpe  pnkng  urer  he ccenl eh  fllng wn he rce    f he her f ne f he b  culnng wh he b ecng  burn he crpe f he grl n he her n  grbge lnfll  rl n lerl grbge  ge   he fl  hevl nfluence b lrr clrk  epecll  k  n  bull    bu clrk  fl    hugh l rl n explve    re hgh cl erwrk cpre  h crp  br    br    n  hnk here w ever uch nncl rve n  flker  ck h e wn he uence  hr  ckler grb u b he cllr n re  frce h nn p rl rn n ur brn b repen n exhun    u  ge nub ne wh  uch bbblng  ellng  nep recn  hk cer n errble cng gng n  ckler en  cre  b bu echnque  he qul f he ge  frng  un recrng  unrck ng  lg  e  eng  ec  unfrl ppllng   bu he   nrcc cnrl frek  he ncpe he crc he  bun  ge b ng uble wh re cue cen  n b kng he prgn cen  ne pn hw fr feche n phn  ll    cul rele  h    br    br   epe h eglnc bn  ckler ee ncpble f gvng u  nu f vul r nrrve rucure    he cn  even ece f he wn gr rel  hn hel ve cer ec  r lzn  repen f cene  ue f lerne ke  ec   n  he cn  even ece where  pu h cer  here  ue f ubjecve cer fr he hree le   he lg feure e f he  upefngl bnl verb ever  he pl ex pl  juf he recr  prfun hre fr h chrcer n wh he n fr  ll u ee   flker beng heful  prech  cnenng  rlzng whu he benef f  nu f len  r echnque   g wh   br    br     ver ppnng  fn c bl n h e  cernl ne f he  prng ung fl cr n brzl  wh h leep ee pupp g lk n enl ege h fen recll l ne   bl cn be hghl effecve uner g recn   n  crnru    lvur rcc    prb prbr    here  he  l  g ver he p n he h  pl wh e f he  ebrrngl uner equppe  cr  n recen er  he l ener he rk rel f grphc expln cene   gwful he lk rher lke web c prn   br    br   he fl pen n en wh rel nervew wh  pcl      le cl uh    ckler wn u  ke he nervew   prf  f wh he  rng  prech n fcn  bu he blnl epe n ke fun f h nervewee  elecng  hghlgh f bjec  rc  ex  up een  whch nl hw hle ex everwhere   ckler wn  prve h brzln le cl uh re ll preen r fuure fc becue he re le cl n enj recrenl rug   he ng ll ne fc re n rug   r h rug penlze fc behvr    culn  ell    br    br   wh  gc elf rgheune  heche nucng echnque n n benng bre   c e g   b fr        ren bu  bve ll    hrful n  ver nu nner   gve ercr f brzln cne  pwerful ce f rguen   c e g   be unwche  unenne  bure n frgen ',\n",
       " 'n unfrgeble erpece fr he crer f he ecre f nh n he ln befre e  h w  ver uchng berwee crn   reeber h ver well fr  chlh   w funn n  n ver beuful  well  r u  b rk   g wh ecpe he pun  n ge klle b n l fren  en up n heven  n ce bck  bu  bece wee when he befren n rphne grl wh cn lk  nl  e cene were  b cr cnrr  her crn  lke he re equence f chrle  bu everhng ele w k n he ng were fr   erble rle f bur renl n  elue   ju lve h gu  hehehe  n juh br f jw he revenge   g re her ul  pr grl  he n  eerve  e  bu he  n heven nw  ll g peple g  heven  verll h   ver g ne ve   n bluh clc enugh  pu ne n ne  he  recene fr he whle fl  n knw h  f u hve he rgnl ve f h  u ll fn fer he ve   elue h  ver prn n pecl ege  g lve h gu  hehehe ',\n",
       " 'h ve w  flure   ce n  fl n generl   w  ver lw pce ve h eee  be rng  cnve  ege  bu he ege w  clch   hpele e  begn wh  h ve fll n hele envrnenl pn  even kng  elf rgheu pn f erng n uv n prng nl plne  br    br   n ng hrugh h   culn  help bu nce h eve crell g n re hn  ngle rul funn lne  he nl hng h cul hphecll rk h   ce  he pful ep  gve cc relef lne  wn ke  her chrcer ge frequen  crnge wrh lne where he bluel  n f  br    br   fr fr he brllnce f bruce lgh  evn lgh blw  whle recr brekng buge n pecl effec pl evce h urn u  brel vnce he pl  he ve pen he fr hlf bulng up  he cnrucn f evn  rk  bu b he en  we lern h he rk w cpleel enngle  n he whle pl w  ju  veel fr he up gg n even uper ege  he ve cnclue when we lern h he whle rk  fl  n nl gherng w ju  wek plcl een b nne her hn g  e  g w rng  nfluence plc ',\n",
       " '   grfng  ee ne gre pece f r cnvere n nher whu rn r cnrvnce   h n gue   hw uch n exrrnr pece f lerure cul be recree   fl wrh eeng  f u lve bulgkv  bk u wul be  unernbl  fr f eeng e gue nerpren ne re fr he ke f n r fl prjec hn fr cull brngng he r  eeper enng  he creen  here re  cuple exple f h wh he er n rgr   cplex n fr feche  he r   he ve leve u nhng     f he flker re bulgkv  wrk he e w n rcherl cnucr re  cre  wh n  ne e  wh cn  we fn uch len here n he u      nw  fvre bk n ve hve he e le ',\n",
       " 'h ve  ver vlen  e excng wh rgnl lg n cl chrcer   h ne f he  vng re n  ver rue  lfe  he ve r ff wh cn r le fng   wn n u cp wh  pprchng he en f h creer  when he uble n   bg ce h nvlve crrupn  blck l n urer  h  where he kllng r  fr r fnh fng elver n h u ee cn cper  h ve l c r rchr runree  br    br    rell enje h fl   chl bu   g ler  relze h h fl  pre chee n n ver g   wul n recen h fl n he cn  ver  ver b ',\n",
       " 'he  h fnll ce fr e  wne he perpeun f zu  fe  n n  frun f her chrcer n he ule ep  rw e eeper n he wrl he rpge hrugh  erclel urng he fr g  br    br   h   pecl   ll ge when lkng bu zu    eh r lve  becue when  crnge ver he hev enenl f hue f flng gger n cplne bu he crebl f  ue prrng  bl rven n  fer wchng zu    re  pprece he prevul enne hrcng re hn ever befre  br    br   n nl e he eernn f ech n feel luggh n unnprng bu l n prn eleen re e fr he enre experence  n zu   we w he n ue vru elh cc  whch  her nuber ne prr   well  lgc  ke e wrk f her rk wh wf execun n qucker ble  ecpe  bu  wn  hl h gn h ve  uch nce he r  lghl weke h e run n n re bcle re plne n zu  w  preven her fr rechng he wrlr n plng n gn f chr  b he w  chk  flhl helve fr he  pr f he fl n  bcll plng  ne wn vern f g g  nu he cl wepn n ene f ence  br    br   h brng e  he fnl blw whch  he cn  pl gue n he le  he  eh  e f he epc  n he fr hlf f he fl we ee he ebu f n prng verre wh flh lk n even flher wepn   n ne  urpre he ee her en ne w r nher bu he fl fll hr when ech f he r ng  f n  el  n zu    he ung n were l verpwerng he ppn wh quck bu ewh fng ble n he fnl hwwn beween zu n bjru n cprn  he fgh n zu   w  le clxe n wrhwhle  e nereng effec were nruce bu he were unble  cheve nnvn ue  he hrne f ech encuner    n n w knckng wn he cnvennl le f ur fl wh her quck n relc ble bu chrcer n bh zu fl were  gnve n rgh u f ne h he rule cul hve been brken n he cn hul hve been furher enrche  br    br   he rnce e f zu  here  fll n e beween he fgh cene n unfrunel  he en  erve n purpe nr prve  uch neee relun  br    br     fn wh n pen n fr we vre f ve n nn   wn  le n  ll    neurl n unprevene wr he fr zu fl  bu  ll ep rgh up n  h fer wchng zu    he rgnl w e  lk lke  flwle erpece  fr wh   wrh  zu    eh r lve cul hve gne rgh  ve  wh  nvbl rcher buge n  fle penl   r even expn n he bup jurne f epere n  ng her be  rere he pece  wh n unwverng curge  e rng ',\n",
       " 'h h  be he wr pece f grbge  ve een n  whle  br    br   heh leger   herhrb  he lke efre   wh   knwn h he n n w re n e n rel lfe becue  pen   f he lnge hur f  lfe wnerng wh he w n h   br    br   rln bl   herhrb  wh he crggl ber n eer n he helgh lk bu h   cn    gree  br    br   rchel grffh w her uul fbulu elf  bu geffre ruh lke  f he culn  w  ge ff he e   br    br     uppe  feel rr fr bnkrbber n urerer  h   fr cr fr buch c  whch cull w n enernng fl  h w re  clche ren n brng  we nl e becue we were cnvnce  wul ge beer   n   br    br   he l       nue r  were unnennll hlru  heh n h gng re hle up n  frner hel  n wen n chlren re ng becue f her preence  h  n funn  bu  w funn when he wlke u f he hel wh he rr n  becue ll we cul hnk f w he blck kngh fr n phn n he hl grl   kep wng fr he     ll be er leg ff   we were hwlng wh lugher   were everl her wrpe eber f he uence  when we lef  pre uch everne w lkng bu wh  we f e h fl w  br    br     n hve p ch  ee h er  nek prevew   bu  cernl wn  free   c e   hur f  lfe h  wll never ge bck ',\n",
       " ' ver rnr e fr v pruc   n  ep  be  eru bpc whle rechng he en f ng fr effec  f frwrng hrugh he eerc f he crrup pr f bxng  n ulng he ennlc uff whch  he nl hng whch ke n even reel nereng   lukewr wch  be whch re lkel  ppel  he generl publc hn  bxng fn ',\n",
       " '  ure eep n he recee f jck blck n he chrcer f nch lbre  bluel hlru bu n  n   u cn ell l jck hvng  whle f  e hn  up plng  r  l excn frr wh re f becng  wreler bu h ve   l fre n ju bu ever ngle epren  br    br    ju  here hrugh  f he ve hnkng   h uppe  be funn  n  h  he gu fr encu  rgh    he ruh  h fl h nhng  ffer   ll     lu crp wh crpp chrcer n rell nff cng n recn  u ll wch enle en where u hnk ehng funn  urel bu  hppen bu  ju en    w bre up bu    nue n bu hugh  wul urel pck up   n      nue ler   brel nge  ve ff n neur  w h pnful  br    br     lke  reeber er g when u  ee nhng wh ur fve cr n   even e f her rell erl pp fr befre he were fu  n u  be rell ebrre h  cr w cull n uch  l f plp  eh   lke h  br    br    ve enje e f jck blck  erler ve lke hllw hll n   rell lkng frwr  eeng pck f en bu ce n n  f u  h  u gn jck   gnn hve  ce run here n her ur kneecp r ehng   he le gve u  eru lkng   br    br    knw    clch  bu h  ne f he wr ve  ve ever een n fr  n ren    ',\n",
       " ' hven  re he nne rce nvel h h ve w be n  bu wh knw  be reng he bk  cheper hn renng queen f he ne n  prbbl beer fr ur helh   n  h h ve  necerl b fr ur helh  bu  bk cn be ver relxng n cernl exerce he cve pr f ur brn re  hn h ve  u cn cun he nuber f pge b nne rce h  ve re n ne hn  bu fer eeng h ve n nervew wh  vpre   ge he feelng h he wre rell g nvel  he pl fr bh ve hn   whle e f eep n nerwven vpre hr  br    br   ll  ur wnen  vce ver nrrn ge  heck f  l re nnng hn br p  vpre nrrve ever   n u cn ell h queen f he ne  le prucn reurce brel gve enugh fleh  he nne rce rlne  whle nervew ece  g wh lce n elegnce  queen rele n lw buge pecl effec h r rell hr  be ken erul  ne cn ee h he rgnl nvel h penl   ve n h he prucn e fcue  enn n he wrng plce  he cue n rck   rll ge cul hve been replce wh re bl n n eerer unrck  br    br   hwever   ll gve cre where cre  ue  he unrck  excellen  krn n urbe h e wn wh he ckne bbbng  nggn lke buhe  br    br   he fl pen wh  ver cl gh rck z   plce nge  bu fer he fr en nue r   he recng egenere quckl     f he ve w  lng h he recr relze h here wn  enugh e n enugh ne   n nne rce nvel juce  wh reul re e ecre vpre cene n plen f chee pecl effec  unfrunel  queen f he ne fl   he genre juce ju   jhn crpener cunerpr fl  pre  where re he ellw cnc  where  he ple blue ke up  cene fer cene   hk  he rencng bu he  f le  l n frgh ngh when lw buge w ne rgh  br    br   here re reeeng qule hugh h ve h ve fr beng grbge  prp  lh  n  her ul frever re n pece  he gh hve bece  renwne cre  h her lfe n been ken fr u  preurel  fr he  gve h ve  ecen perfrnce wh plen f nce bell ncng    enn h he unrck w g  le  ee  wh ele cn     wn   lng  he nne rce nvel cul hve el been  hree hur ve f n bu recr lke frnc fr cppl g h hn n   here re  few w n urn here n here n he pl  bu ll n ll  w  lege rck n rll n  he lew f ecn re vpre ve u here  he recr f h ve wen n  rec  new bler glcc n ere f h ell u nhng  br    br   j br    br   jbuck  c',\n",
       " 'whle  cun elf   fn f he bbln   elevn ere  he rgnl ve h nruce he ere w  wek r  lhugh n f he eleen h wul ler ure n bece uch re cpellng n he ere re here  he pce f he gherng  lw  he keup ewh neque  n he pl cnfung  wre  he chrcerzn n he preere epe  pr  lhugh he rng chr hw h n fn re wllng  verlk hee prble   reeber he gherng l urne e ff ff wh n grew n  pecculr ere ',\n",
       " 'lenr ln gve h fl  ree bb rng n h      ve n ve gue  wh fl w he lkng   k vengence r g  gun re bb  h fl   elgh    fnc    lere    well une    beuful phgrphe  kng  brlln ue f clr  rgh fr he penng cene he fl grb ur enn n p u ff h h fl   well ne re f he whle pghe weern genre  he fl  ple fr lugh fr he begnnng  he en wh hge  ugl frbnk     une rp  n he fu hwwn n he g  he b  n he ugl  e brne  gerge hln  n glber rln wrk brllnl geher  ke he re wrk     b r  ln re h fl  prl    uneerve  ne cn nl gue   h ren   upec h he e he pn f he ve enrel n w expecng ehng re eru hn h fl  en  be  ku belng  everne nvlve n h prjec  h fl   lle ge wng  be cvere b peple wh cre bu lere ve n pprece re ',\n",
       " ' n  beleve here h ever been  re evl r wcke elevn prgr  r n he une e  he     club  he re   equvlen  he ku klux kln f he   h cenur  her hre f ll h  g n wee n hun n pure  ben ll bl  unern  her l cnn ck upn lln n lln f ercn   well  blln f hun he wrl ver  wh n  hppen  hre her bge  cruel  nru  n uerl nne vew f hun  ben nhng elevn h ever een  he le he pu n he rculu le he r  p ff  ruh  uch  he e f  lfe fer eh  r  g  r  n  r  he evl    preperu h he cull ee enll ll   l re he n her fn  ne peple knw h relgn   rug n huln  le heelve ge ce  h pe f fn  hwever  he     club  n  cl b elf  he re rul  cul  whle  beleve n free f peech  he w he pre hre  le  nfrn  n uch fnc e  ben ll l   hpe h ne  he ercn pchrc cn wll fnll ke up he u f he peple wh elue heelve n h w  peple wh le heelve nk  eepl n he fn ln f relgn h he n lnger hve n rel cncep f rel  ll  reen fr uch fflce nvul  rel neee n h cunr    n peple hve cpleel l her n  he fn f relgn  he     club hugh   even re hrrble   re  he legl efnn f  cul  bu ue  he     club  v welh  cnne l fr he lln f ercn lcke n her eceful grp  he re bve he lw n h cunr  fr he f u wh hve een he ve  he rx  u knw h ve w  ephr fr relgn n erh  he evl ne wh re  he p f ech f he relgn wh rn he ne he hve rppe n cruell bue fr her wn elfh purpe  n he lln wh re hel n  eh leep n lwl beng rne f her lfe frce repreen he n peple wh belng  relgn n wh hve l ll bl  perceve wh  rell gng n run he  br    br   n le cvl e  he g wnflk wul hve run uch ner  he ce wh he     club u f wn wh rche n pchfrk  bu n   wrl where peple hve l ll chce n her chce f elevn h  preene  he  we hve n w  r urelve f he     club plgue   br    br   he elevn rng e n he  v  chp n v  hul l hve  rng clle  r  fr relgn   h rnl peple n cncerne pren cul el creen uch vle nellecul n brul enl rpe  uch  preene b he     club ever  ll ver ur cunr  fr heelve n her chlren ',\n",
       " 'f u wh  ee hkepere  erpece n  enre   ugge u fn h bbc vern  nee   verlng  fur n  hlf hur bu jcb  perfrnce  hle n prck ewr   cluu re well wrh he effr  br    br    never cee  ze e hw cler  hle   when u ee  n  lengh n rer  e wn b he br  ever fl vern f  hle  h nkere wh  rucure  lver cncenre n hle  necn  gbn n h pn  jcb  ble  pull ll f hee pec f hle  chrcer geher wh he  f hkepere  full crp  br    br   wh e hle n kll cluu eel  hle     ver pru  revengeful  bu     hle  exreel upe  n nl fr h fher  eh  n upece urer   r h her  rrge  h uncle  bu l  n l  becue cluu h uurpe he hrne belngng  hle  he  furu  h her fr rrng cluu  rrge beween rl kn  n unknwn  ne fr plcl ren  bu h her rrge lfe cluu  cl  he hrne befre he cul reurn fr wenburg  cl  fr helf  he   herefre  pen   nhng bu   n h  rue even fer he her h fher  gh cr vengence  he cnn pl kll he kng r he wll le he hrne n ng   he u  u  he kng  ecre n here  he rge   he en hle  ucceful n plng cluu  gul n publc  he h pprun  kll h n e n  wh  he wn  ll  he wn revenge  he hrne n he nn f cluu  ul n hell  hle verreche helf n clc rgc fr  h wn hubr  h unng  he kll plnu hnkng   cluu n he re f he pl prl wn  he fnl eh f rencrnz  gulenern  phel  lere  gerrue  cluu n hle helf ',\n",
       " 'he glen r  he r f  cln fl  jurne fr he l wrl  l   he new wrl  erc   lvre   le ge n wh hpe fr  re fruful lfe  perue h fl  leve her heln behn n cl  ke he ruu jurne cr he rgng e  n nhb  ln whe rver uppel flw wh lk  n hr  he beleve h b rkng everhng fr he new wrl her re f prper wll be fulflle  he ger f he new wrl  pc  clever n hghl gnve  lver cn rn fr heven upn lvre  he ncpe hw prperu he ll be n he new wrl  crr n nn wce he ze f hun beng re hwn beng hrvee  ugge welh n helh  n rver f lk re w n n flw hrugh he n f he wh ncpe wh he new wrl wll el  ll f h ger  urrelcll nerwven wh he chrcer n help ncel cplen he gr rel h he r unfl  he uence  he cnr beween h ger veru he rk rel f he cln peple help prve hpe whle he re br he hp  he new wrl  br    br   he vge  he new wrl  h l n cplee rkne  epecll when he e epe rr n nerl kll he peple whn  he rk rel  referre   he l wrl n he jurne elf  he new wrl  he l wrl  epce  ewh eue n prve  h  hwn  lvre crble geher  ell wh few pen he h lef  nke  g n rbb  n rer  bn he pprpre clhng he nee  ener he new wrl   hugh  w rher nereng h hee peple beleve he h  cnfr   cern re ce n rer  be ccepe n he new wrl   w l uggeng h peple h  f  prculr erepe r l n rer  be recgnze  rll f  he  pwerful ge n he fl w when he hp  levng her heln n eng l fr he new wrl  h h hw n verhe vew f  crw f peple wh lwl ee  epre fr ne nher  epcng he eprn beween he l n new wrl  h h l uggee h he peple were beng rn w fr ll h w nce flr  wne  vrce fr her prevu rk lvng cnn n were eru  ener  wrl h hel re pre  br    br    ler cnre  hw he new wrl vull lk  he l wrl ee rk n blek  cpre  he brgh e fgg new wrl   hugh  w prculrl nereng h he ue f lber  never hwn hrugh he fg  ell ln  bu  rene hen   hnk h w n nennl recng chce h eee  nege he purpe f wh he ue f lber n fr   gve e ur pr  ur re  ur hungr  eee lke  jke n regr  wh hee peple h  g hrugh when rrvng  he new wrl  nce he rrve n he erc  he h  g hrugh rher hulng e   e  elung  hec  puzzle  ec   n rer  prve heelve  f fr he new wrl  hee e cpleel chnge he perpecve f he cln peple  n prculr  lvre  her h he  ffcul e ubjecng herelf  he rule n lw f he new wrl  feelng re vle hn ree wh repec  where her re nce prve hpe n p fr wh he new wrl wul prve  he rel f wh he new wrl requre w prgng n rue  lvre en  chnge uch her hn h ue wr wh he fel he new wrl wul be lke veru wh he new wrl cull w eee ppnng  h  h ue w hre b l everne wh vge wh h  her chrcer rc el re wh  cherhe re beng grel upe n  rk rel h h  be ccepe  br    br   he fl ee  ke  rng cenr n preprng neelf  ener  hevenl n cvlze ce  clenlne  rrge n nellgence re prereque  herng  hee rule   preven ee  rl behvr n up fr nng  perhp h   cenr n hw erc h lerne fr he flng f her nn n  w purpefull eblhe  ecure h hee plgue  n nfe n eruc  hugh he rule eee rg  he were here  prec n help he peple flurh ',\n",
       " 'nf lle epe ple nl fr lugh  bu wh clever llp f upene  ehw  rn h nuck br  brken wn bu n  w  nwhere  bu whch penger     lk bu ur llegl grn    ll r upprng c  fr wl ee jck el  hng  up helel    ex jen wlle  f he  he rn  hen   le  pen he brer     cruel fce jhn h  he  bvu upec   lng wh flr fce jhn rcher n brne phllp  n  nce urn fr bll ken  he bu rver   ke fr  ver enernng hlf hur even f he cn  cnfne   ngle e ',\n",
       " ' h befre  feelng f lke fr ll run fl  bu  fer eeng h fl  hven   h   unque erpece e b he be recr ever lve n he ur  he knw he r f fl kng  n cn ue  ver well  f u fn h ve  bu r cp  ',\n",
       " ' wche k n he     n   currenl hwng n fx k n he uk  ver le  ngh    reeber hnkng h  w kn cl bck n he  n h  cuple f he   bu wchng  nw bre e  er   never rele befre f hw eu n bln h crn hw rell w    ju pln wful    n where ner n he e legue  he rnfrer  he n r hunerc n w ver quckl frg b nerl everne nce  ppe beng e   nl wch  n fx k becue ule    ce n rgh fer   h  f k en  pu e  leep fr   ne f he leer     crn h  hpe  cpleel frge bu gn nce  fnhe rng n fx k ',\n",
       " 'phn     cl  phn      wee  phn      er     errble  br    br   even hugh  wul lve  ck up fr h fl   que pl cn   he ve ee  hve  l u   fr b gn ce when he ve h rler fr her fl  he r  ehng he her  n   l  n pnle chrcer  pre exple he k  wh   crck h  funn nll bu n u wn h e   he wn wh ue kre  fgh ff he bll  er n gnn wrk  r rher huln   n he blng zbe  wh he hell re he ng here  here n lnk  he n he her ph   l here   evere lck f ge runnng bu  br    br   he nl g b re he crckng r n  f cure  regge b  br    br    pble pler cng up  br    br    e h fl ee lke  fller beween  n v  exr chrcer ju leve  he en  cn cnnue wh n   n v  br    br   verll ver  ver ppnng        ',\n",
       " 'lucru  ngelc   er l nnkn urn n whn br    er l nnkn  wh ehw ee ppelng  l    er h enr  nw    er l je wrrr her nnkn h  cuple f b re  n  ke  lugherng chlren  h fren  n he enre frewrk f h exence becue  crz l n cnvnce h   h precu wfe gh rell e  n b  nl he cn preven h  lucr qure  br    br    hnk he peple wh lke h ve re n png enn  he r  rculu  he chrcer re unbelevble  lerll  n he pervere ene f  fnc    wnerful   ec    br    br   b wn kenb w he we n kn nchr fr he enre ere  bu n he clx  he hck ff nnkn  leg  le h burn n he lv  n leve h  uffer  en  nne hnk h   lle u f chrcer  n  enn  w pre up  ke  chnce n h lvng    urn u  br    br    w expecng  le  r h hwe cnen chrcer wh pluble vn  nne f h here  he r cul hve been wren b     er l  br    br   h eh  he cg  pre cl ',\n",
       " 'c  grn crer  wh wul g n  r n he gre b ve  kller klwn fr uer pce   gree  help hree le ge gu lern hw   lg  he le n h b      ce  n b  n      lng  whch en g  b  n b  wh n lkble chrcer  nclung  bu n le    k wh  he freke lkng gu nce  fr he   h pr      grl wh le en n n hen ge n h f when he wn  uch her  n he ken f lb  becue fer ll wh wul n      ex ce be whu  f lb   well h ne h w  h ve  pre uch he b f he brrel f      ex cee  n hen ce he equel hu eepenng  prverbl brrel  br    br    gre    br    br   ee cn   nueru  cun  u even ee he frek lkng k gne wh bb  n pn  hnk  bchlr pr  bu n  funn  n ver urbng  br    br   where  w   cc vep',\n",
       " 'f u keep rg hrcl perpecve u f   h fl  cull que enernng    g cn  venure n rnce  n ne f he preere cng ch up f he er wh errl flnn n lv e hvlln n he le rle   even n h br  he pcure en  p uer wh pur wh lk fr ne hunre percen ccurc n her r ellng   ge ben h  ne nee nl pu e he hr bk  n enj he r  f  were  wrk f fcn   knw   knw  h  hr   when u cner cuer  l n  he lle bg hrn n   prnence n he hr f p cvl wr erc    gue here  n unrelve qunr wh he pcure  n er hw u lk    br    br   here   l  ke n here hugh fr he pcure  w hur plu run e  cuer  rrvl  we pn  prbbl he fr he crcher  rng up  he e n full lr regl  he prccl jke b hrp  rhur kenne  pung h up n he jr  hequrer prbbl hul hve gen he bh n ruble  br    br   rncll   l f cene n h lr fl pl fr ce   n cuer  fr eeng wh lbb bcn  n ubequen encuner h nclue e reer clle  he cnel    hn  nce  befre n her fl  bu cnel rene e n wful l f nher fvre chrcer cr f ne fr he fre  nn reln   uch  h n ne cene  lke lke  gh hve been reln hng  up n  re  wh h n n  he wl cene w  h   br    br    fr flnn    nereng  ne h  er erler  he prre j e b  ur ppe rnl regn  epcn f generl cuer n  n fe rl   bh vng fr he enn f nne her hn lv e hvlln  n h fl  regn pu nne f he rrgnce n flbnce n he chrcer f cuer h hr reeber  whle n flnn  prrl here   re hn even  bu  en  ce cle  h f rchr ullgn  ke n he lr her n        lle bg n   le  ju  h ne w  b ver he p  br    br   he beer ke w he pcure h fr e w he nner n whch cuer perevere  nn h g ne n n gble  w n  rk bune venure  h n h ll  he en he le n ble lng wh he cplne he evelpe ver he cure f he r   pgnn w h fnl cnfrnn wh rch rvl hrp ju befre rng n he lle bg hrn  n whch he eclre h hell r glr w enrel epenen n ne  pn f vew  erler   lr rerk gh hve gven u he be ngh f ll n cuer  chrcer  when he e    u ke glr wh u when   ur e  g  ',\n",
       " 'he fl quckl ge   jr che cene wh ever ncreng erucn  he fr rell b hng  he gu hjckng even egl wul hve been been  pulp b egl  rvng  bu h prbbl wul hve ene he whle pree fr he ve  br    br    ee lke he ece  ke ll kn f chnge n he ve pl   ju pln  enj he cn  n  n expec  cheren pl  urn n ene f lgc u  hve   wll reuce ur chnce f geng  heche  br    br    e gve e e hpe h even egl  rng  ve bck wr he pe f chrcer he prre n h re ppulr ve ']"
      ]
     },
     "execution_count": 16,
     "metadata": {},
     "output_type": "execute_result"
    }
   ],
   "source": [
    "corpus"
   ]
  },
  {
   "cell_type": "markdown",
   "id": "6bf023d5",
   "metadata": {},
   "source": [
    "#### apply tfid vectorizer to make text data into vectors"
   ]
  },
  {
   "cell_type": "code",
   "execution_count": 17,
   "id": "9c3d577b",
   "metadata": {},
   "outputs": [],
   "source": [
    "from sklearn.feature_extraction.text import TfidfVectorizer\n",
    "cv = TfidfVectorizer(max_features=5000)\n",
    "X=cv.fit_transform(corpus).toarray()\n"
   ]
  },
  {
   "cell_type": "code",
   "execution_count": 18,
   "id": "3cbd9068",
   "metadata": {},
   "outputs": [
    {
     "data": {
      "text/plain": [
       "(200, 4016)"
      ]
     },
     "execution_count": 18,
     "metadata": {},
     "output_type": "execute_result"
    }
   ],
   "source": [
    "X.shape"
   ]
  },
  {
   "cell_type": "markdown",
   "id": "9192abff",
   "metadata": {},
   "source": [
    "#### split data into train and test"
   ]
  },
  {
   "cell_type": "code",
   "execution_count": 19,
   "id": "b7c73a4e",
   "metadata": {},
   "outputs": [],
   "source": [
    "x_train,x_test,y_train,y_test=train_test_split(X,y,test_size=0.2,random_state=101)"
   ]
  },
  {
   "cell_type": "code",
   "execution_count": 20,
   "id": "5529608d",
   "metadata": {},
   "outputs": [
    {
     "data": {
      "text/plain": [
       "((160, 4016), (40, 4016), (160,), (40,))"
      ]
     },
     "execution_count": 20,
     "metadata": {},
     "output_type": "execute_result"
    }
   ],
   "source": [
    "x_train.shape,x_test.shape,y_train.shape,y_test.shape"
   ]
  },
  {
   "cell_type": "markdown",
   "id": "fb1e1f50",
   "metadata": {},
   "source": [
    "#### Define naive-bayes model"
   ]
  },
  {
   "cell_type": "code",
   "execution_count": 21,
   "id": "f628fbb6",
   "metadata": {},
   "outputs": [],
   "source": [
    "from sklearn.naive_bayes import MultinomialNB"
   ]
  },
  {
   "cell_type": "code",
   "execution_count": 22,
   "id": "d8f6c3d4",
   "metadata": {},
   "outputs": [
    {
     "data": {
      "text/html": [
       "<style>#sk-container-id-1 {color: black;background-color: white;}#sk-container-id-1 pre{padding: 0;}#sk-container-id-1 div.sk-toggleable {background-color: white;}#sk-container-id-1 label.sk-toggleable__label {cursor: pointer;display: block;width: 100%;margin-bottom: 0;padding: 0.3em;box-sizing: border-box;text-align: center;}#sk-container-id-1 label.sk-toggleable__label-arrow:before {content: \"▸\";float: left;margin-right: 0.25em;color: #696969;}#sk-container-id-1 label.sk-toggleable__label-arrow:hover:before {color: black;}#sk-container-id-1 div.sk-estimator:hover label.sk-toggleable__label-arrow:before {color: black;}#sk-container-id-1 div.sk-toggleable__content {max-height: 0;max-width: 0;overflow: hidden;text-align: left;background-color: #f0f8ff;}#sk-container-id-1 div.sk-toggleable__content pre {margin: 0.2em;color: black;border-radius: 0.25em;background-color: #f0f8ff;}#sk-container-id-1 input.sk-toggleable__control:checked~div.sk-toggleable__content {max-height: 200px;max-width: 100%;overflow: auto;}#sk-container-id-1 input.sk-toggleable__control:checked~label.sk-toggleable__label-arrow:before {content: \"▾\";}#sk-container-id-1 div.sk-estimator input.sk-toggleable__control:checked~label.sk-toggleable__label {background-color: #d4ebff;}#sk-container-id-1 div.sk-label input.sk-toggleable__control:checked~label.sk-toggleable__label {background-color: #d4ebff;}#sk-container-id-1 input.sk-hidden--visually {border: 0;clip: rect(1px 1px 1px 1px);clip: rect(1px, 1px, 1px, 1px);height: 1px;margin: -1px;overflow: hidden;padding: 0;position: absolute;width: 1px;}#sk-container-id-1 div.sk-estimator {font-family: monospace;background-color: #f0f8ff;border: 1px dotted black;border-radius: 0.25em;box-sizing: border-box;margin-bottom: 0.5em;}#sk-container-id-1 div.sk-estimator:hover {background-color: #d4ebff;}#sk-container-id-1 div.sk-parallel-item::after {content: \"\";width: 100%;border-bottom: 1px solid gray;flex-grow: 1;}#sk-container-id-1 div.sk-label:hover label.sk-toggleable__label {background-color: #d4ebff;}#sk-container-id-1 div.sk-serial::before {content: \"\";position: absolute;border-left: 1px solid gray;box-sizing: border-box;top: 0;bottom: 0;left: 50%;z-index: 0;}#sk-container-id-1 div.sk-serial {display: flex;flex-direction: column;align-items: center;background-color: white;padding-right: 0.2em;padding-left: 0.2em;position: relative;}#sk-container-id-1 div.sk-item {position: relative;z-index: 1;}#sk-container-id-1 div.sk-parallel {display: flex;align-items: stretch;justify-content: center;background-color: white;position: relative;}#sk-container-id-1 div.sk-item::before, #sk-container-id-1 div.sk-parallel-item::before {content: \"\";position: absolute;border-left: 1px solid gray;box-sizing: border-box;top: 0;bottom: 0;left: 50%;z-index: -1;}#sk-container-id-1 div.sk-parallel-item {display: flex;flex-direction: column;z-index: 1;position: relative;background-color: white;}#sk-container-id-1 div.sk-parallel-item:first-child::after {align-self: flex-end;width: 50%;}#sk-container-id-1 div.sk-parallel-item:last-child::after {align-self: flex-start;width: 50%;}#sk-container-id-1 div.sk-parallel-item:only-child::after {width: 0;}#sk-container-id-1 div.sk-dashed-wrapped {border: 1px dashed gray;margin: 0 0.4em 0.5em 0.4em;box-sizing: border-box;padding-bottom: 0.4em;background-color: white;}#sk-container-id-1 div.sk-label label {font-family: monospace;font-weight: bold;display: inline-block;line-height: 1.2em;}#sk-container-id-1 div.sk-label-container {text-align: center;}#sk-container-id-1 div.sk-container {/* jupyter's `normalize.less` sets `[hidden] { display: none; }` but bootstrap.min.css set `[hidden] { display: none !important; }` so we also need the `!important` here to be able to override the default hidden behavior on the sphinx rendered scikit-learn.org. See: https://github.com/scikit-learn/scikit-learn/issues/21755 */display: inline-block !important;position: relative;}#sk-container-id-1 div.sk-text-repr-fallback {display: none;}</style><div id=\"sk-container-id-1\" class=\"sk-top-container\"><div class=\"sk-text-repr-fallback\"><pre>MultinomialNB()</pre><b>In a Jupyter environment, please rerun this cell to show the HTML representation or trust the notebook. <br />On GitHub, the HTML representation is unable to render, please try loading this page with nbviewer.org.</b></div><div class=\"sk-container\" hidden><div class=\"sk-item\"><div class=\"sk-estimator sk-toggleable\"><input class=\"sk-toggleable__control sk-hidden--visually\" id=\"sk-estimator-id-1\" type=\"checkbox\" checked><label for=\"sk-estimator-id-1\" class=\"sk-toggleable__label sk-toggleable__label-arrow\">MultinomialNB</label><div class=\"sk-toggleable__content\"><pre>MultinomialNB()</pre></div></div></div></div></div>"
      ],
      "text/plain": [
       "MultinomialNB()"
      ]
     },
     "execution_count": 22,
     "metadata": {},
     "output_type": "execute_result"
    }
   ],
   "source": [
    "nvb=MultinomialNB()\n",
    "nvb.fit(x_train,y_train)"
   ]
  },
  {
   "cell_type": "markdown",
   "id": "b15d58ac",
   "metadata": {},
   "source": [
    "#### TEST MODEL USING TEST DATA"
   ]
  },
  {
   "cell_type": "code",
   "execution_count": 23,
   "id": "02e84fd4",
   "metadata": {},
   "outputs": [
    {
     "data": {
      "text/plain": [
       "array([0, 0, 0, 0, 0, 0, 0, 0, 0, 0, 0, 0, 0, 0, 0, 0, 0, 0, 0, 0, 0, 0,\n",
       "       0, 0, 0, 0, 0, 0, 0, 0, 0, 0, 0, 0, 0, 0, 0, 0, 0, 0])"
      ]
     },
     "execution_count": 23,
     "metadata": {},
     "output_type": "execute_result"
    }
   ],
   "source": [
    "pred=nvb.predict(x_test)\n",
    "pred"
   ]
  },
  {
   "cell_type": "markdown",
   "id": "a3bd76fa",
   "metadata": {},
   "source": [
    "#### Check accuracy_score,confusion_matrix and classification_report"
   ]
  },
  {
   "cell_type": "code",
   "execution_count": 24,
   "id": "7bcf868e",
   "metadata": {},
   "outputs": [
    {
     "name": "stdout",
     "output_type": "stream",
     "text": [
      "0.65\n",
      "[[26  0]\n",
      " [14  0]]\n",
      "              precision    recall  f1-score   support\n",
      "\n",
      "           0       0.65      1.00      0.79        26\n",
      "           1       0.00      0.00      0.00        14\n",
      "\n",
      "    accuracy                           0.65        40\n",
      "   macro avg       0.33      0.50      0.39        40\n",
      "weighted avg       0.42      0.65      0.51        40\n",
      "\n"
     ]
    },
    {
     "name": "stderr",
     "output_type": "stream",
     "text": [
      "C:\\Users\\Divya\\anaconda3\\lib\\site-packages\\sklearn\\metrics\\_classification.py:1344: UndefinedMetricWarning: Precision and F-score are ill-defined and being set to 0.0 in labels with no predicted samples. Use `zero_division` parameter to control this behavior.\n",
      "  _warn_prf(average, modifier, msg_start, len(result))\n",
      "C:\\Users\\Divya\\anaconda3\\lib\\site-packages\\sklearn\\metrics\\_classification.py:1344: UndefinedMetricWarning: Precision and F-score are ill-defined and being set to 0.0 in labels with no predicted samples. Use `zero_division` parameter to control this behavior.\n",
      "  _warn_prf(average, modifier, msg_start, len(result))\n",
      "C:\\Users\\Divya\\anaconda3\\lib\\site-packages\\sklearn\\metrics\\_classification.py:1344: UndefinedMetricWarning: Precision and F-score are ill-defined and being set to 0.0 in labels with no predicted samples. Use `zero_division` parameter to control this behavior.\n",
      "  _warn_prf(average, modifier, msg_start, len(result))\n"
     ]
    }
   ],
   "source": [
    "print(accuracy_score(y_test,pred))\n",
    "print(confusion_matrix(y_test,pred))\n",
    "print(classification_report(y_test,pred))"
   ]
  },
  {
   "cell_type": "markdown",
   "id": "2b6dad40",
   "metadata": {},
   "source": [
    "#### difference between actual and predicted data"
   ]
  },
  {
   "cell_type": "code",
   "execution_count": 25,
   "id": "75de0971",
   "metadata": {},
   "outputs": [
    {
     "data": {
      "text/html": [
       "<div>\n",
       "<style scoped>\n",
       "    .dataframe tbody tr th:only-of-type {\n",
       "        vertical-align: middle;\n",
       "    }\n",
       "\n",
       "    .dataframe tbody tr th {\n",
       "        vertical-align: top;\n",
       "    }\n",
       "\n",
       "    .dataframe thead th {\n",
       "        text-align: right;\n",
       "    }\n",
       "</style>\n",
       "<table border=\"1\" class=\"dataframe\">\n",
       "  <thead>\n",
       "    <tr style=\"text-align: right;\">\n",
       "      <th></th>\n",
       "      <th>actual</th>\n",
       "      <th>predicted</th>\n",
       "    </tr>\n",
       "  </thead>\n",
       "  <tbody>\n",
       "    <tr>\n",
       "      <th>0</th>\n",
       "      <td>0</td>\n",
       "      <td>0</td>\n",
       "    </tr>\n",
       "    <tr>\n",
       "      <th>1</th>\n",
       "      <td>1</td>\n",
       "      <td>0</td>\n",
       "    </tr>\n",
       "    <tr>\n",
       "      <th>2</th>\n",
       "      <td>1</td>\n",
       "      <td>0</td>\n",
       "    </tr>\n",
       "    <tr>\n",
       "      <th>3</th>\n",
       "      <td>0</td>\n",
       "      <td>0</td>\n",
       "    </tr>\n",
       "    <tr>\n",
       "      <th>4</th>\n",
       "      <td>0</td>\n",
       "      <td>0</td>\n",
       "    </tr>\n",
       "    <tr>\n",
       "      <th>5</th>\n",
       "      <td>0</td>\n",
       "      <td>0</td>\n",
       "    </tr>\n",
       "    <tr>\n",
       "      <th>6</th>\n",
       "      <td>0</td>\n",
       "      <td>0</td>\n",
       "    </tr>\n",
       "    <tr>\n",
       "      <th>7</th>\n",
       "      <td>0</td>\n",
       "      <td>0</td>\n",
       "    </tr>\n",
       "    <tr>\n",
       "      <th>8</th>\n",
       "      <td>1</td>\n",
       "      <td>0</td>\n",
       "    </tr>\n",
       "    <tr>\n",
       "      <th>9</th>\n",
       "      <td>0</td>\n",
       "      <td>0</td>\n",
       "    </tr>\n",
       "    <tr>\n",
       "      <th>10</th>\n",
       "      <td>0</td>\n",
       "      <td>0</td>\n",
       "    </tr>\n",
       "    <tr>\n",
       "      <th>11</th>\n",
       "      <td>0</td>\n",
       "      <td>0</td>\n",
       "    </tr>\n",
       "    <tr>\n",
       "      <th>12</th>\n",
       "      <td>0</td>\n",
       "      <td>0</td>\n",
       "    </tr>\n",
       "    <tr>\n",
       "      <th>13</th>\n",
       "      <td>0</td>\n",
       "      <td>0</td>\n",
       "    </tr>\n",
       "    <tr>\n",
       "      <th>14</th>\n",
       "      <td>0</td>\n",
       "      <td>0</td>\n",
       "    </tr>\n",
       "    <tr>\n",
       "      <th>15</th>\n",
       "      <td>0</td>\n",
       "      <td>0</td>\n",
       "    </tr>\n",
       "    <tr>\n",
       "      <th>16</th>\n",
       "      <td>1</td>\n",
       "      <td>0</td>\n",
       "    </tr>\n",
       "    <tr>\n",
       "      <th>17</th>\n",
       "      <td>0</td>\n",
       "      <td>0</td>\n",
       "    </tr>\n",
       "    <tr>\n",
       "      <th>18</th>\n",
       "      <td>0</td>\n",
       "      <td>0</td>\n",
       "    </tr>\n",
       "    <tr>\n",
       "      <th>19</th>\n",
       "      <td>0</td>\n",
       "      <td>0</td>\n",
       "    </tr>\n",
       "    <tr>\n",
       "      <th>20</th>\n",
       "      <td>1</td>\n",
       "      <td>0</td>\n",
       "    </tr>\n",
       "    <tr>\n",
       "      <th>21</th>\n",
       "      <td>1</td>\n",
       "      <td>0</td>\n",
       "    </tr>\n",
       "    <tr>\n",
       "      <th>22</th>\n",
       "      <td>0</td>\n",
       "      <td>0</td>\n",
       "    </tr>\n",
       "    <tr>\n",
       "      <th>23</th>\n",
       "      <td>0</td>\n",
       "      <td>0</td>\n",
       "    </tr>\n",
       "    <tr>\n",
       "      <th>24</th>\n",
       "      <td>1</td>\n",
       "      <td>0</td>\n",
       "    </tr>\n",
       "    <tr>\n",
       "      <th>25</th>\n",
       "      <td>1</td>\n",
       "      <td>0</td>\n",
       "    </tr>\n",
       "    <tr>\n",
       "      <th>26</th>\n",
       "      <td>0</td>\n",
       "      <td>0</td>\n",
       "    </tr>\n",
       "    <tr>\n",
       "      <th>27</th>\n",
       "      <td>1</td>\n",
       "      <td>0</td>\n",
       "    </tr>\n",
       "    <tr>\n",
       "      <th>28</th>\n",
       "      <td>0</td>\n",
       "      <td>0</td>\n",
       "    </tr>\n",
       "    <tr>\n",
       "      <th>29</th>\n",
       "      <td>1</td>\n",
       "      <td>0</td>\n",
       "    </tr>\n",
       "    <tr>\n",
       "      <th>30</th>\n",
       "      <td>0</td>\n",
       "      <td>0</td>\n",
       "    </tr>\n",
       "    <tr>\n",
       "      <th>31</th>\n",
       "      <td>0</td>\n",
       "      <td>0</td>\n",
       "    </tr>\n",
       "    <tr>\n",
       "      <th>32</th>\n",
       "      <td>1</td>\n",
       "      <td>0</td>\n",
       "    </tr>\n",
       "    <tr>\n",
       "      <th>33</th>\n",
       "      <td>1</td>\n",
       "      <td>0</td>\n",
       "    </tr>\n",
       "    <tr>\n",
       "      <th>34</th>\n",
       "      <td>1</td>\n",
       "      <td>0</td>\n",
       "    </tr>\n",
       "    <tr>\n",
       "      <th>35</th>\n",
       "      <td>0</td>\n",
       "      <td>0</td>\n",
       "    </tr>\n",
       "    <tr>\n",
       "      <th>36</th>\n",
       "      <td>0</td>\n",
       "      <td>0</td>\n",
       "    </tr>\n",
       "    <tr>\n",
       "      <th>37</th>\n",
       "      <td>0</td>\n",
       "      <td>0</td>\n",
       "    </tr>\n",
       "    <tr>\n",
       "      <th>38</th>\n",
       "      <td>0</td>\n",
       "      <td>0</td>\n",
       "    </tr>\n",
       "    <tr>\n",
       "      <th>39</th>\n",
       "      <td>1</td>\n",
       "      <td>0</td>\n",
       "    </tr>\n",
       "  </tbody>\n",
       "</table>\n",
       "</div>"
      ],
      "text/plain": [
       "    actual  predicted\n",
       "0        0          0\n",
       "1        1          0\n",
       "2        1          0\n",
       "3        0          0\n",
       "4        0          0\n",
       "5        0          0\n",
       "6        0          0\n",
       "7        0          0\n",
       "8        1          0\n",
       "9        0          0\n",
       "10       0          0\n",
       "11       0          0\n",
       "12       0          0\n",
       "13       0          0\n",
       "14       0          0\n",
       "15       0          0\n",
       "16       1          0\n",
       "17       0          0\n",
       "18       0          0\n",
       "19       0          0\n",
       "20       1          0\n",
       "21       1          0\n",
       "22       0          0\n",
       "23       0          0\n",
       "24       1          0\n",
       "25       1          0\n",
       "26       0          0\n",
       "27       1          0\n",
       "28       0          0\n",
       "29       1          0\n",
       "30       0          0\n",
       "31       0          0\n",
       "32       1          0\n",
       "33       1          0\n",
       "34       1          0\n",
       "35       0          0\n",
       "36       0          0\n",
       "37       0          0\n",
       "38       0          0\n",
       "39       1          0"
      ]
     },
     "execution_count": 25,
     "metadata": {},
     "output_type": "execute_result"
    }
   ],
   "source": [
    "pd.DataFrame(np.c_[y_test,pred],columns=['actual','predicted'])"
   ]
  },
  {
   "cell_type": "markdown",
   "id": "b94936aa",
   "metadata": {},
   "source": [
    "#### save my trained naive-bayes model and TfidfVectorizer"
   ]
  },
  {
   "cell_type": "code",
   "execution_count": 26,
   "id": "8f0da715",
   "metadata": {},
   "outputs": [],
   "source": [
    "pickle.dump(cv,open('count-Vectorizer.pkl','wb'))\n",
    "pickle.dump(nvb,open('movies_review_classification.pkl','wb'))\n"
   ]
  },
  {
   "cell_type": "markdown",
   "id": "1354e37d",
   "metadata": {},
   "source": [
    "#### load my naive-bayes model and tfidfVectorizer"
   ]
  },
  {
   "cell_type": "code",
   "execution_count": 32,
   "id": "bb773393",
   "metadata": {},
   "outputs": [],
   "source": [
    "save_cv=pickle.load(open('count-Vectorizer.pkl','rb'))\n",
    "model=pickle.load(open('movies_review_classification.pkl','rb'))"
   ]
  },
  {
   "cell_type": "markdown",
   "id": "89213e99",
   "metadata": {},
   "source": [
    "#### define my function to test model"
   ]
  },
  {
   "cell_type": "code",
   "execution_count": 33,
   "id": "78cc29a1",
   "metadata": {},
   "outputs": [
    {
     "data": {
      "text/plain": [
       "'def test_model(sentence):\\n    sen=save_cv.transform([sentence]).toarray()\\n    res=model.predict(sen)[0]\\n    if res==1:\\n        return \"positive review\"\\n    else:\\n        return \"negative review'"
      ]
     },
     "execution_count": 33,
     "metadata": {},
     "output_type": "execute_result"
    }
   ],
   "source": [
    "\"\"\"def test_model(sentence):\n",
    "    sen=save_cv.transform([sentence]).toarray()\n",
    "    res=model.predict(sen)[0]\n",
    "    if res==1:\n",
    "        return \"positive review\"\n",
    "    else:\n",
    "        return \"negative review\"\"\""
   ]
  },
  {
   "cell_type": "code",
   "execution_count": 34,
   "id": "815e0589",
   "metadata": {},
   "outputs": [],
   "source": [
    "def test_model(sentence):\n",
    "    sen = save_cv.transform([sentence]).toarray()\n",
    "    res = model.predict(sen)[0]\n",
    "    if res == 1:\n",
    "        return 'positive review'\n",
    "    else:\n",
    "        return 'negative review'"
   ]
  },
  {
   "cell_type": "markdown",
   "id": "813df47d",
   "metadata": {},
   "source": [
    "#### test with positive review and see results"
   ]
  },
  {
   "cell_type": "code",
   "execution_count": 37,
   "id": "6d8f0904",
   "metadata": {},
   "outputs": [
    {
     "name": "stdout",
     "output_type": "stream",
     "text": [
      "negative review\n"
     ]
    }
   ],
   "source": [
    "en ='A wonderful little productio'\n",
    "res = test_model(sen)\n",
    "print(res)"
   ]
  },
  {
   "cell_type": "markdown",
   "id": "93083fa8",
   "metadata": {},
   "source": [
    "#### test with negative review"
   ]
  },
  {
   "cell_type": "code",
   "execution_count": 38,
   "id": "8b924b7c",
   "metadata": {},
   "outputs": [
    {
     "name": "stdout",
     "output_type": "stream",
     "text": [
      "negative review\n"
     ]
    }
   ],
   "source": [
    "sen ='this is the worst movie, i have ever seen in my life'\n",
    "res = test_model(sen)\n",
    "print(res)"
   ]
  },
  {
   "cell_type": "code",
   "execution_count": null,
   "id": "455b92ce",
   "metadata": {},
   "outputs": [],
   "source": []
  }
 ],
 "metadata": {
  "kernelspec": {
   "display_name": "Python 3 (ipykernel)",
   "language": "python",
   "name": "python3"
  },
  "language_info": {
   "codemirror_mode": {
    "name": "ipython",
    "version": 3
   },
   "file_extension": ".py",
   "mimetype": "text/x-python",
   "name": "python",
   "nbconvert_exporter": "python",
   "pygments_lexer": "ipython3",
   "version": "3.10.9"
  }
 },
 "nbformat": 4,
 "nbformat_minor": 5
}
